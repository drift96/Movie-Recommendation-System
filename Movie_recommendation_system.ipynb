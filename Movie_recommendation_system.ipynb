{
  "nbformat": 4,
  "nbformat_minor": 0,
  "metadata": {
    "colab": {
      "provenance": [],
      "toc_visible": true,
      "include_colab_link": true
    },
    "kernelspec": {
      "name": "python3",
      "display_name": "Python 3"
    },
    "language_info": {
      "name": "python"
    }
  },
  "cells": [
    {
      "cell_type": "markdown",
      "metadata": {
        "id": "view-in-github",
        "colab_type": "text"
      },
      "source": [
        "<a href=\"https://colab.research.google.com/github/drift96/Movie-Recommendation-System/blob/main/Movie_recommendation_system.ipynb\" target=\"_parent\"><img src=\"https://colab.research.google.com/assets/colab-badge.svg\" alt=\"Open In Colab\"/></a>"
      ]
    },
    {
      "cell_type": "markdown",
      "source": [
        "#**Movie Recommendation System**\n",
        "**Recommender System** is a system that seeks to predict or fiter preferences according to the user's choice .Recommender systems are utilized ina variety of areas including movies, music, news, books, research articles, search quaries, social tags and products in general.\n",
        "\n",
        "Recommender systems produce a list of recommendations in any of the two ways -\n",
        "\n",
        "**Collaborative** **filtering:** Collaborative filltering approaches build a model from the user's past behavior (i.e.items purchased or searched by the user )as well as similar decisions made by other user's.This model is then used to predict items that users may have an interest in.\n",
        "\n",
        "**Content-based filtering:** Content-based filtering approaches users a series of discrete characterstics pf an items order to recommend additonal items with similar properties. It recommends items based on the user's past preferences. Let's develop a basic recommendation system using python and pandas.\n",
        "\n",
        "Let's develop a basic recommendation system by supporting items thst are most similar to a particular item.In this case,movies.It just tells what movies/items are most similar to the user's movie choice."
      ],
      "metadata": {
        "id": "Utf_mHjNNP24"
      }
    },
    {
      "cell_type": "markdown",
      "source": [
        "#**Import** **Library**"
      ],
      "metadata": {
        "id": "-YwkjPNISFry"
      }
    },
    {
      "cell_type": "code",
      "source": [
        "import pandas as pd\n"
      ],
      "metadata": {
        "id": "xadHZTx_SVdA"
      },
      "execution_count": null,
      "outputs": []
    },
    {
      "cell_type": "code",
      "source": [
        "import numpy as np"
      ],
      "metadata": {
        "id": "27T2hsIESiJ9"
      },
      "execution_count": null,
      "outputs": []
    },
    {
      "cell_type": "markdown",
      "source": [
        "#**Import** **Dataset**"
      ],
      "metadata": {
        "id": "kSGmpSAjSpnH"
      }
    },
    {
      "cell_type": "code",
      "source": [
        "df = pd.read_csv(r'https://github.com/YBI-Foundation/Dataset/raw/main/Movies%20Recommendation.csv')\n"
      ],
      "metadata": {
        "id": "vTWAme7aS17E"
      },
      "execution_count": null,
      "outputs": []
    },
    {
      "cell_type": "code",
      "source": [
        "df.head()"
      ],
      "metadata": {
        "colab": {
          "base_uri": "https://localhost:8080/",
          "height": 672
        },
        "id": "WuPC-3boWE2Q",
        "outputId": "852f50c8-6222-4663-e38b-a0e6a84fd3d5"
      },
      "execution_count": null,
      "outputs": [
        {
          "output_type": "execute_result",
          "data": {
            "text/plain": [
              "   Movie_ID      Movie_Title                       Movie_Genre Movie_Language  \\\n",
              "0         1       Four Rooms                      Crime Comedy             en   \n",
              "1         2        Star Wars  Adventure Action Science Fiction             en   \n",
              "2         3     Finding Nemo                  Animation Family             en   \n",
              "3         4     Forrest Gump              Comedy Drama Romance             en   \n",
              "4         5  American Beauty                             Drama             en   \n",
              "\n",
              "   Movie_Budget  Movie_Popularity Movie_Release_Date  Movie_Revenue  \\\n",
              "0       4000000         22.876230         09-12-1995        4300000   \n",
              "1      11000000        126.393695         25-05-1977      775398007   \n",
              "2      94000000         85.688789         30-05-2003      940335536   \n",
              "3      55000000        138.133331         06-07-1994      677945399   \n",
              "4      15000000         80.878605         15-09-1999      356296601   \n",
              "\n",
              "   Movie_Runtime  Movie_Vote  ...  \\\n",
              "0           98.0         6.5  ...   \n",
              "1          121.0         8.1  ...   \n",
              "2          100.0         7.6  ...   \n",
              "3          142.0         8.2  ...   \n",
              "4          122.0         7.9  ...   \n",
              "\n",
              "                                      Movie_Homepage  \\\n",
              "0                                                NaN   \n",
              "1  http://www.starwars.com/films/star-wars-episod...   \n",
              "2              http://movies.disney.com/finding-nemo   \n",
              "3                                                NaN   \n",
              "4                      http://www.dreamworks.com/ab/   \n",
              "\n",
              "                                      Movie_Keywords  \\\n",
              "0          hotel new year's eve witch bet hotel room   \n",
              "1        android galaxy hermit death star lightsaber   \n",
              "2  father son relationship harbor underwater fish...   \n",
              "3  vietnam veteran hippie mentally disabled runni...   \n",
              "4  male nudity female nudity adultery midlife cri...   \n",
              "\n",
              "                                      Movie_Overview  \\\n",
              "0  It's Ted the Bellhop's first night on the job....   \n",
              "1  Princess Leia is captured and held hostage by ...   \n",
              "2  Nemo, an adventurous young clownfish, is unexp...   \n",
              "3  A man with a low IQ has accomplished great thi...   \n",
              "4  Lester Burnham, a depressed suburban father in...   \n",
              "\n",
              "                              Movie_Production_House  \\\n",
              "0  [{\"name\": \"Miramax Films\", \"id\": 14}, {\"name\":...   \n",
              "1  [{\"name\": \"Lucasfilm\", \"id\": 1}, {\"name\": \"Twe...   \n",
              "2     [{\"name\": \"Pixar Animation Studios\", \"id\": 3}]   \n",
              "3          [{\"name\": \"Paramount Pictures\", \"id\": 4}]   \n",
              "4  [{\"name\": \"DreamWorks SKG\", \"id\": 27}, {\"name\"...   \n",
              "\n",
              "                            Movie_Production_Country  \\\n",
              "0  [{\"iso_3166_1\": \"US\", \"name\": \"United States o...   \n",
              "1  [{\"iso_3166_1\": \"US\", \"name\": \"United States o...   \n",
              "2  [{\"iso_3166_1\": \"US\", \"name\": \"United States o...   \n",
              "3  [{\"iso_3166_1\": \"US\", \"name\": \"United States o...   \n",
              "4  [{\"iso_3166_1\": \"US\", \"name\": \"United States o...   \n",
              "\n",
              "                      Movie_Spoken_Language  \\\n",
              "0  [{\"iso_639_1\": \"en\", \"name\": \"English\"}]   \n",
              "1  [{\"iso_639_1\": \"en\", \"name\": \"English\"}]   \n",
              "2  [{\"iso_639_1\": \"en\", \"name\": \"English\"}]   \n",
              "3  [{\"iso_639_1\": \"en\", \"name\": \"English\"}]   \n",
              "4  [{\"iso_639_1\": \"en\", \"name\": \"English\"}]   \n",
              "\n",
              "                                       Movie_Tagline  \\\n",
              "0  Twelve outrageous guests. Four scandalous requ...   \n",
              "1       A long time ago in a galaxy far, far away...   \n",
              "2  There are 3.7 trillion fish in the ocean, they...   \n",
              "3  The world will never be the same, once you've ...   \n",
              "4                                       Look closer.   \n",
              "\n",
              "                                          Movie_Cast  \\\n",
              "0  Tim Roth Antonio Banderas Jennifer Beals Madon...   \n",
              "1  Mark Hamill Harrison Ford Carrie Fisher Peter ...   \n",
              "2  Albert Brooks Ellen DeGeneres Alexander Gould ...   \n",
              "3  Tom Hanks Robin Wright Gary Sinise Mykelti Wil...   \n",
              "4  Kevin Spacey Annette Bening Thora Birch Wes Be...   \n",
              "\n",
              "                                          Movie_Crew   Movie_Director  \n",
              "0  [{'name': 'Allison Anders', 'gender': 1, 'depa...   Allison Anders  \n",
              "1  [{'name': 'George Lucas', 'gender': 2, 'depart...     George Lucas  \n",
              "2  [{'name': 'Andrew Stanton', 'gender': 2, 'depa...   Andrew Stanton  \n",
              "3  [{'name': 'Alan Silvestri', 'gender': 2, 'depa...  Robert Zemeckis  \n",
              "4  [{'name': 'Thomas Newman', 'gender': 2, 'depar...       Sam Mendes  \n",
              "\n",
              "[5 rows x 21 columns]"
            ],
            "text/html": [
              "\n",
              "  <div id=\"df-3ece68a7-5fc1-4afc-a530-900d0d0bf615\" class=\"colab-df-container\">\n",
              "    <div>\n",
              "<style scoped>\n",
              "    .dataframe tbody tr th:only-of-type {\n",
              "        vertical-align: middle;\n",
              "    }\n",
              "\n",
              "    .dataframe tbody tr th {\n",
              "        vertical-align: top;\n",
              "    }\n",
              "\n",
              "    .dataframe thead th {\n",
              "        text-align: right;\n",
              "    }\n",
              "</style>\n",
              "<table border=\"1\" class=\"dataframe\">\n",
              "  <thead>\n",
              "    <tr style=\"text-align: right;\">\n",
              "      <th></th>\n",
              "      <th>Movie_ID</th>\n",
              "      <th>Movie_Title</th>\n",
              "      <th>Movie_Genre</th>\n",
              "      <th>Movie_Language</th>\n",
              "      <th>Movie_Budget</th>\n",
              "      <th>Movie_Popularity</th>\n",
              "      <th>Movie_Release_Date</th>\n",
              "      <th>Movie_Revenue</th>\n",
              "      <th>Movie_Runtime</th>\n",
              "      <th>Movie_Vote</th>\n",
              "      <th>...</th>\n",
              "      <th>Movie_Homepage</th>\n",
              "      <th>Movie_Keywords</th>\n",
              "      <th>Movie_Overview</th>\n",
              "      <th>Movie_Production_House</th>\n",
              "      <th>Movie_Production_Country</th>\n",
              "      <th>Movie_Spoken_Language</th>\n",
              "      <th>Movie_Tagline</th>\n",
              "      <th>Movie_Cast</th>\n",
              "      <th>Movie_Crew</th>\n",
              "      <th>Movie_Director</th>\n",
              "    </tr>\n",
              "  </thead>\n",
              "  <tbody>\n",
              "    <tr>\n",
              "      <th>0</th>\n",
              "      <td>1</td>\n",
              "      <td>Four Rooms</td>\n",
              "      <td>Crime Comedy</td>\n",
              "      <td>en</td>\n",
              "      <td>4000000</td>\n",
              "      <td>22.876230</td>\n",
              "      <td>09-12-1995</td>\n",
              "      <td>4300000</td>\n",
              "      <td>98.0</td>\n",
              "      <td>6.5</td>\n",
              "      <td>...</td>\n",
              "      <td>NaN</td>\n",
              "      <td>hotel new year's eve witch bet hotel room</td>\n",
              "      <td>It's Ted the Bellhop's first night on the job....</td>\n",
              "      <td>[{\"name\": \"Miramax Films\", \"id\": 14}, {\"name\":...</td>\n",
              "      <td>[{\"iso_3166_1\": \"US\", \"name\": \"United States o...</td>\n",
              "      <td>[{\"iso_639_1\": \"en\", \"name\": \"English\"}]</td>\n",
              "      <td>Twelve outrageous guests. Four scandalous requ...</td>\n",
              "      <td>Tim Roth Antonio Banderas Jennifer Beals Madon...</td>\n",
              "      <td>[{'name': 'Allison Anders', 'gender': 1, 'depa...</td>\n",
              "      <td>Allison Anders</td>\n",
              "    </tr>\n",
              "    <tr>\n",
              "      <th>1</th>\n",
              "      <td>2</td>\n",
              "      <td>Star Wars</td>\n",
              "      <td>Adventure Action Science Fiction</td>\n",
              "      <td>en</td>\n",
              "      <td>11000000</td>\n",
              "      <td>126.393695</td>\n",
              "      <td>25-05-1977</td>\n",
              "      <td>775398007</td>\n",
              "      <td>121.0</td>\n",
              "      <td>8.1</td>\n",
              "      <td>...</td>\n",
              "      <td>http://www.starwars.com/films/star-wars-episod...</td>\n",
              "      <td>android galaxy hermit death star lightsaber</td>\n",
              "      <td>Princess Leia is captured and held hostage by ...</td>\n",
              "      <td>[{\"name\": \"Lucasfilm\", \"id\": 1}, {\"name\": \"Twe...</td>\n",
              "      <td>[{\"iso_3166_1\": \"US\", \"name\": \"United States o...</td>\n",
              "      <td>[{\"iso_639_1\": \"en\", \"name\": \"English\"}]</td>\n",
              "      <td>A long time ago in a galaxy far, far away...</td>\n",
              "      <td>Mark Hamill Harrison Ford Carrie Fisher Peter ...</td>\n",
              "      <td>[{'name': 'George Lucas', 'gender': 2, 'depart...</td>\n",
              "      <td>George Lucas</td>\n",
              "    </tr>\n",
              "    <tr>\n",
              "      <th>2</th>\n",
              "      <td>3</td>\n",
              "      <td>Finding Nemo</td>\n",
              "      <td>Animation Family</td>\n",
              "      <td>en</td>\n",
              "      <td>94000000</td>\n",
              "      <td>85.688789</td>\n",
              "      <td>30-05-2003</td>\n",
              "      <td>940335536</td>\n",
              "      <td>100.0</td>\n",
              "      <td>7.6</td>\n",
              "      <td>...</td>\n",
              "      <td>http://movies.disney.com/finding-nemo</td>\n",
              "      <td>father son relationship harbor underwater fish...</td>\n",
              "      <td>Nemo, an adventurous young clownfish, is unexp...</td>\n",
              "      <td>[{\"name\": \"Pixar Animation Studios\", \"id\": 3}]</td>\n",
              "      <td>[{\"iso_3166_1\": \"US\", \"name\": \"United States o...</td>\n",
              "      <td>[{\"iso_639_1\": \"en\", \"name\": \"English\"}]</td>\n",
              "      <td>There are 3.7 trillion fish in the ocean, they...</td>\n",
              "      <td>Albert Brooks Ellen DeGeneres Alexander Gould ...</td>\n",
              "      <td>[{'name': 'Andrew Stanton', 'gender': 2, 'depa...</td>\n",
              "      <td>Andrew Stanton</td>\n",
              "    </tr>\n",
              "    <tr>\n",
              "      <th>3</th>\n",
              "      <td>4</td>\n",
              "      <td>Forrest Gump</td>\n",
              "      <td>Comedy Drama Romance</td>\n",
              "      <td>en</td>\n",
              "      <td>55000000</td>\n",
              "      <td>138.133331</td>\n",
              "      <td>06-07-1994</td>\n",
              "      <td>677945399</td>\n",
              "      <td>142.0</td>\n",
              "      <td>8.2</td>\n",
              "      <td>...</td>\n",
              "      <td>NaN</td>\n",
              "      <td>vietnam veteran hippie mentally disabled runni...</td>\n",
              "      <td>A man with a low IQ has accomplished great thi...</td>\n",
              "      <td>[{\"name\": \"Paramount Pictures\", \"id\": 4}]</td>\n",
              "      <td>[{\"iso_3166_1\": \"US\", \"name\": \"United States o...</td>\n",
              "      <td>[{\"iso_639_1\": \"en\", \"name\": \"English\"}]</td>\n",
              "      <td>The world will never be the same, once you've ...</td>\n",
              "      <td>Tom Hanks Robin Wright Gary Sinise Mykelti Wil...</td>\n",
              "      <td>[{'name': 'Alan Silvestri', 'gender': 2, 'depa...</td>\n",
              "      <td>Robert Zemeckis</td>\n",
              "    </tr>\n",
              "    <tr>\n",
              "      <th>4</th>\n",
              "      <td>5</td>\n",
              "      <td>American Beauty</td>\n",
              "      <td>Drama</td>\n",
              "      <td>en</td>\n",
              "      <td>15000000</td>\n",
              "      <td>80.878605</td>\n",
              "      <td>15-09-1999</td>\n",
              "      <td>356296601</td>\n",
              "      <td>122.0</td>\n",
              "      <td>7.9</td>\n",
              "      <td>...</td>\n",
              "      <td>http://www.dreamworks.com/ab/</td>\n",
              "      <td>male nudity female nudity adultery midlife cri...</td>\n",
              "      <td>Lester Burnham, a depressed suburban father in...</td>\n",
              "      <td>[{\"name\": \"DreamWorks SKG\", \"id\": 27}, {\"name\"...</td>\n",
              "      <td>[{\"iso_3166_1\": \"US\", \"name\": \"United States o...</td>\n",
              "      <td>[{\"iso_639_1\": \"en\", \"name\": \"English\"}]</td>\n",
              "      <td>Look closer.</td>\n",
              "      <td>Kevin Spacey Annette Bening Thora Birch Wes Be...</td>\n",
              "      <td>[{'name': 'Thomas Newman', 'gender': 2, 'depar...</td>\n",
              "      <td>Sam Mendes</td>\n",
              "    </tr>\n",
              "  </tbody>\n",
              "</table>\n",
              "<p>5 rows × 21 columns</p>\n",
              "</div>\n",
              "    <div class=\"colab-df-buttons\">\n",
              "\n",
              "  <div class=\"colab-df-container\">\n",
              "    <button class=\"colab-df-convert\" onclick=\"convertToInteractive('df-3ece68a7-5fc1-4afc-a530-900d0d0bf615')\"\n",
              "            title=\"Convert this dataframe to an interactive table.\"\n",
              "            style=\"display:none;\">\n",
              "\n",
              "  <svg xmlns=\"http://www.w3.org/2000/svg\" height=\"24px\" viewBox=\"0 -960 960 960\">\n",
              "    <path d=\"M120-120v-720h720v720H120Zm60-500h600v-160H180v160Zm220 220h160v-160H400v160Zm0 220h160v-160H400v160ZM180-400h160v-160H180v160Zm440 0h160v-160H620v160ZM180-180h160v-160H180v160Zm440 0h160v-160H620v160Z\"/>\n",
              "  </svg>\n",
              "    </button>\n",
              "\n",
              "  <style>\n",
              "    .colab-df-container {\n",
              "      display:flex;\n",
              "      gap: 12px;\n",
              "    }\n",
              "\n",
              "    .colab-df-convert {\n",
              "      background-color: #E8F0FE;\n",
              "      border: none;\n",
              "      border-radius: 50%;\n",
              "      cursor: pointer;\n",
              "      display: none;\n",
              "      fill: #1967D2;\n",
              "      height: 32px;\n",
              "      padding: 0 0 0 0;\n",
              "      width: 32px;\n",
              "    }\n",
              "\n",
              "    .colab-df-convert:hover {\n",
              "      background-color: #E2EBFA;\n",
              "      box-shadow: 0px 1px 2px rgba(60, 64, 67, 0.3), 0px 1px 3px 1px rgba(60, 64, 67, 0.15);\n",
              "      fill: #174EA6;\n",
              "    }\n",
              "\n",
              "    .colab-df-buttons div {\n",
              "      margin-bottom: 4px;\n",
              "    }\n",
              "\n",
              "    [theme=dark] .colab-df-convert {\n",
              "      background-color: #3B4455;\n",
              "      fill: #D2E3FC;\n",
              "    }\n",
              "\n",
              "    [theme=dark] .colab-df-convert:hover {\n",
              "      background-color: #434B5C;\n",
              "      box-shadow: 0px 1px 3px 1px rgba(0, 0, 0, 0.15);\n",
              "      filter: drop-shadow(0px 1px 2px rgba(0, 0, 0, 0.3));\n",
              "      fill: #FFFFFF;\n",
              "    }\n",
              "  </style>\n",
              "\n",
              "    <script>\n",
              "      const buttonEl =\n",
              "        document.querySelector('#df-3ece68a7-5fc1-4afc-a530-900d0d0bf615 button.colab-df-convert');\n",
              "      buttonEl.style.display =\n",
              "        google.colab.kernel.accessAllowed ? 'block' : 'none';\n",
              "\n",
              "      async function convertToInteractive(key) {\n",
              "        const element = document.querySelector('#df-3ece68a7-5fc1-4afc-a530-900d0d0bf615');\n",
              "        const dataTable =\n",
              "          await google.colab.kernel.invokeFunction('convertToInteractive',\n",
              "                                                    [key], {});\n",
              "        if (!dataTable) return;\n",
              "\n",
              "        const docLinkHtml = 'Like what you see? Visit the ' +\n",
              "          '<a target=\"_blank\" href=https://colab.research.google.com/notebooks/data_table.ipynb>data table notebook</a>'\n",
              "          + ' to learn more about interactive tables.';\n",
              "        element.innerHTML = '';\n",
              "        dataTable['output_type'] = 'display_data';\n",
              "        await google.colab.output.renderOutput(dataTable, element);\n",
              "        const docLink = document.createElement('div');\n",
              "        docLink.innerHTML = docLinkHtml;\n",
              "        element.appendChild(docLink);\n",
              "      }\n",
              "    </script>\n",
              "  </div>\n",
              "\n",
              "\n",
              "<div id=\"df-dfe3f372-f16e-44aa-a058-026a88711fa8\">\n",
              "  <button class=\"colab-df-quickchart\" onclick=\"quickchart('df-dfe3f372-f16e-44aa-a058-026a88711fa8')\"\n",
              "            title=\"Suggest charts\"\n",
              "            style=\"display:none;\">\n",
              "\n",
              "<svg xmlns=\"http://www.w3.org/2000/svg\" height=\"24px\"viewBox=\"0 0 24 24\"\n",
              "     width=\"24px\">\n",
              "    <g>\n",
              "        <path d=\"M19 3H5c-1.1 0-2 .9-2 2v14c0 1.1.9 2 2 2h14c1.1 0 2-.9 2-2V5c0-1.1-.9-2-2-2zM9 17H7v-7h2v7zm4 0h-2V7h2v10zm4 0h-2v-4h2v4z\"/>\n",
              "    </g>\n",
              "</svg>\n",
              "  </button>\n",
              "\n",
              "<style>\n",
              "  .colab-df-quickchart {\n",
              "      --bg-color: #E8F0FE;\n",
              "      --fill-color: #1967D2;\n",
              "      --hover-bg-color: #E2EBFA;\n",
              "      --hover-fill-color: #174EA6;\n",
              "      --disabled-fill-color: #AAA;\n",
              "      --disabled-bg-color: #DDD;\n",
              "  }\n",
              "\n",
              "  [theme=dark] .colab-df-quickchart {\n",
              "      --bg-color: #3B4455;\n",
              "      --fill-color: #D2E3FC;\n",
              "      --hover-bg-color: #434B5C;\n",
              "      --hover-fill-color: #FFFFFF;\n",
              "      --disabled-bg-color: #3B4455;\n",
              "      --disabled-fill-color: #666;\n",
              "  }\n",
              "\n",
              "  .colab-df-quickchart {\n",
              "    background-color: var(--bg-color);\n",
              "    border: none;\n",
              "    border-radius: 50%;\n",
              "    cursor: pointer;\n",
              "    display: none;\n",
              "    fill: var(--fill-color);\n",
              "    height: 32px;\n",
              "    padding: 0;\n",
              "    width: 32px;\n",
              "  }\n",
              "\n",
              "  .colab-df-quickchart:hover {\n",
              "    background-color: var(--hover-bg-color);\n",
              "    box-shadow: 0 1px 2px rgba(60, 64, 67, 0.3), 0 1px 3px 1px rgba(60, 64, 67, 0.15);\n",
              "    fill: var(--button-hover-fill-color);\n",
              "  }\n",
              "\n",
              "  .colab-df-quickchart-complete:disabled,\n",
              "  .colab-df-quickchart-complete:disabled:hover {\n",
              "    background-color: var(--disabled-bg-color);\n",
              "    fill: var(--disabled-fill-color);\n",
              "    box-shadow: none;\n",
              "  }\n",
              "\n",
              "  .colab-df-spinner {\n",
              "    border: 2px solid var(--fill-color);\n",
              "    border-color: transparent;\n",
              "    border-bottom-color: var(--fill-color);\n",
              "    animation:\n",
              "      spin 1s steps(1) infinite;\n",
              "  }\n",
              "\n",
              "  @keyframes spin {\n",
              "    0% {\n",
              "      border-color: transparent;\n",
              "      border-bottom-color: var(--fill-color);\n",
              "      border-left-color: var(--fill-color);\n",
              "    }\n",
              "    20% {\n",
              "      border-color: transparent;\n",
              "      border-left-color: var(--fill-color);\n",
              "      border-top-color: var(--fill-color);\n",
              "    }\n",
              "    30% {\n",
              "      border-color: transparent;\n",
              "      border-left-color: var(--fill-color);\n",
              "      border-top-color: var(--fill-color);\n",
              "      border-right-color: var(--fill-color);\n",
              "    }\n",
              "    40% {\n",
              "      border-color: transparent;\n",
              "      border-right-color: var(--fill-color);\n",
              "      border-top-color: var(--fill-color);\n",
              "    }\n",
              "    60% {\n",
              "      border-color: transparent;\n",
              "      border-right-color: var(--fill-color);\n",
              "    }\n",
              "    80% {\n",
              "      border-color: transparent;\n",
              "      border-right-color: var(--fill-color);\n",
              "      border-bottom-color: var(--fill-color);\n",
              "    }\n",
              "    90% {\n",
              "      border-color: transparent;\n",
              "      border-bottom-color: var(--fill-color);\n",
              "    }\n",
              "  }\n",
              "</style>\n",
              "\n",
              "  <script>\n",
              "    async function quickchart(key) {\n",
              "      const quickchartButtonEl =\n",
              "        document.querySelector('#' + key + ' button');\n",
              "      quickchartButtonEl.disabled = true;  // To prevent multiple clicks.\n",
              "      quickchartButtonEl.classList.add('colab-df-spinner');\n",
              "      try {\n",
              "        const charts = await google.colab.kernel.invokeFunction(\n",
              "            'suggestCharts', [key], {});\n",
              "      } catch (error) {\n",
              "        console.error('Error during call to suggestCharts:', error);\n",
              "      }\n",
              "      quickchartButtonEl.classList.remove('colab-df-spinner');\n",
              "      quickchartButtonEl.classList.add('colab-df-quickchart-complete');\n",
              "    }\n",
              "    (() => {\n",
              "      let quickchartButtonEl =\n",
              "        document.querySelector('#df-dfe3f372-f16e-44aa-a058-026a88711fa8 button');\n",
              "      quickchartButtonEl.style.display =\n",
              "        google.colab.kernel.accessAllowed ? 'block' : 'none';\n",
              "    })();\n",
              "  </script>\n",
              "</div>\n",
              "\n",
              "    </div>\n",
              "  </div>\n"
            ],
            "application/vnd.google.colaboratory.intrinsic+json": {
              "type": "dataframe",
              "variable_name": "df"
            }
          },
          "metadata": {},
          "execution_count": 22
        }
      ]
    },
    {
      "cell_type": "code",
      "source": [
        "df.info()"
      ],
      "metadata": {
        "colab": {
          "base_uri": "https://localhost:8080/"
        },
        "id": "J5pcWtN_WfA8",
        "outputId": "e6095304-c6ad-4b08-ebee-3550c92fd02e"
      },
      "execution_count": null,
      "outputs": [
        {
          "output_type": "stream",
          "name": "stdout",
          "text": [
            "<class 'pandas.core.frame.DataFrame'>\n",
            "RangeIndex: 4760 entries, 0 to 4759\n",
            "Data columns (total 21 columns):\n",
            " #   Column                    Non-Null Count  Dtype  \n",
            "---  ------                    --------------  -----  \n",
            " 0   Movie_ID                  4760 non-null   int64  \n",
            " 1   Movie_Title               4760 non-null   object \n",
            " 2   Movie_Genre               4760 non-null   object \n",
            " 3   Movie_Language            4760 non-null   object \n",
            " 4   Movie_Budget              4760 non-null   int64  \n",
            " 5   Movie_Popularity          4760 non-null   float64\n",
            " 6   Movie_Release_Date        4760 non-null   object \n",
            " 7   Movie_Revenue             4760 non-null   int64  \n",
            " 8   Movie_Runtime             4758 non-null   float64\n",
            " 9   Movie_Vote                4760 non-null   float64\n",
            " 10  Movie_Vote_Count          4760 non-null   int64  \n",
            " 11  Movie_Homepage            1699 non-null   object \n",
            " 12  Movie_Keywords            4373 non-null   object \n",
            " 13  Movie_Overview            4757 non-null   object \n",
            " 14  Movie_Production_House    4760 non-null   object \n",
            " 15  Movie_Production_Country  4760 non-null   object \n",
            " 16  Movie_Spoken_Language     4760 non-null   object \n",
            " 17  Movie_Tagline             3942 non-null   object \n",
            " 18  Movie_Cast                4733 non-null   object \n",
            " 19  Movie_Crew                4760 non-null   object \n",
            " 20  Movie_Director            4738 non-null   object \n",
            "dtypes: float64(3), int64(4), object(14)\n",
            "memory usage: 781.1+ KB\n"
          ]
        }
      ]
    },
    {
      "cell_type": "markdown",
      "source": [],
      "metadata": {
        "id": "Jax0CAHCWQHd"
      }
    },
    {
      "cell_type": "code",
      "source": [
        "df.shape\n"
      ],
      "metadata": {
        "colab": {
          "base_uri": "https://localhost:8080/"
        },
        "id": "ksbNYLtjWcWg",
        "outputId": "2f6acca2-a9b5-4728-9250-ea8f685755cc"
      },
      "execution_count": null,
      "outputs": [
        {
          "output_type": "execute_result",
          "data": {
            "text/plain": [
              "(4760, 21)"
            ]
          },
          "metadata": {},
          "execution_count": 7
        }
      ]
    },
    {
      "cell_type": "code",
      "source": [
        "df.columns"
      ],
      "metadata": {
        "colab": {
          "base_uri": "https://localhost:8080/"
        },
        "id": "6Xx7TRXCW31G",
        "outputId": "29ee02e8-0d41-4fc0-a1b7-fa474eeef8cb"
      },
      "execution_count": null,
      "outputs": [
        {
          "output_type": "execute_result",
          "data": {
            "text/plain": [
              "Index(['Movie_ID', 'Movie_Title', 'Movie_Genre', 'Movie_Language',\n",
              "       'Movie_Budget', 'Movie_Popularity', 'Movie_Release_Date',\n",
              "       'Movie_Revenue', 'Movie_Runtime', 'Movie_Vote', 'Movie_Vote_Count',\n",
              "       'Movie_Homepage', 'Movie_Keywords', 'Movie_Overview',\n",
              "       'Movie_Production_House', 'Movie_Production_Country',\n",
              "       'Movie_Spoken_Language', 'Movie_Tagline', 'Movie_Cast', 'Movie_Crew',\n",
              "       'Movie_Director'],\n",
              "      dtype='object')"
            ]
          },
          "metadata": {},
          "execution_count": 8
        }
      ]
    },
    {
      "cell_type": "markdown",
      "source": [
        "#**Get Feature Selection**"
      ],
      "metadata": {
        "id": "bDXS-_vYXAmj"
      }
    },
    {
      "cell_type": "code",
      "source": [
        "df_features = df[['Movie_Genre','Movie_Keywords','Movie_Tagline','Movie_Cast','Movie_Director']].fillna('')"
      ],
      "metadata": {
        "id": "A0St4Rr2XPJD"
      },
      "execution_count": null,
      "outputs": []
    },
    {
      "cell_type": "markdown",
      "source": [
        "Selected fiveexisting features to recommend movies. It may vary from one project to another. Like one can add vote counts, budget, language etc."
      ],
      "metadata": {
        "id": "qAdqfNGXZeQ-"
      }
    },
    {
      "cell_type": "code",
      "source": [
        "df_features.shape"
      ],
      "metadata": {
        "colab": {
          "base_uri": "https://localhost:8080/"
        },
        "id": "xrGdHTyaZ-P-",
        "outputId": "d984d4da-d3a8-4b3e-ef6c-d678e6daee97"
      },
      "execution_count": null,
      "outputs": [
        {
          "output_type": "execute_result",
          "data": {
            "text/plain": [
              "(4760, 5)"
            ]
          },
          "metadata": {},
          "execution_count": 10
        }
      ]
    },
    {
      "cell_type": "code",
      "source": [
        "df_features"
      ],
      "metadata": {
        "colab": {
          "base_uri": "https://localhost:8080/",
          "height": 600
        },
        "id": "Qtrc1Fh1aAa0",
        "outputId": "af00fbdd-9a4d-4e7f-858f-c71024c073c3"
      },
      "execution_count": null,
      "outputs": [
        {
          "output_type": "execute_result",
          "data": {
            "text/plain": [
              "                           Movie_Genre  \\\n",
              "0                         Crime Comedy   \n",
              "1     Adventure Action Science Fiction   \n",
              "2                     Animation Family   \n",
              "3                 Comedy Drama Romance   \n",
              "4                                Drama   \n",
              "...                                ...   \n",
              "4755                            Horror   \n",
              "4756               Comedy Family Drama   \n",
              "4757                    Thriller Drama   \n",
              "4758                            Family   \n",
              "4759                       Documentary   \n",
              "\n",
              "                                         Movie_Keywords  \\\n",
              "0             hotel new year's eve witch bet hotel room   \n",
              "1           android galaxy hermit death star lightsaber   \n",
              "2     father son relationship harbor underwater fish...   \n",
              "3     vietnam veteran hippie mentally disabled runni...   \n",
              "4     male nudity female nudity adultery midlife cri...   \n",
              "...                                                 ...   \n",
              "4755                                                      \n",
              "4756                                                      \n",
              "4757                     christian film sex trafficking   \n",
              "4758                                                      \n",
              "4759  music actors legendary perfomer classic hollyw...   \n",
              "\n",
              "                                          Movie_Tagline  \\\n",
              "0     Twelve outrageous guests. Four scandalous requ...   \n",
              "1          A long time ago in a galaxy far, far away...   \n",
              "2     There are 3.7 trillion fish in the ocean, they...   \n",
              "3     The world will never be the same, once you've ...   \n",
              "4                                          Look closer.   \n",
              "...                                                 ...   \n",
              "4755                The hot spot where Satan's waitin'.   \n",
              "4756           It’s better to stand out than to fit in.   \n",
              "4757           She never knew it could happen to her...   \n",
              "4758                                                      \n",
              "4759                                                      \n",
              "\n",
              "                                             Movie_Cast     Movie_Director  \n",
              "0     Tim Roth Antonio Banderas Jennifer Beals Madon...     Allison Anders  \n",
              "1     Mark Hamill Harrison Ford Carrie Fisher Peter ...       George Lucas  \n",
              "2     Albert Brooks Ellen DeGeneres Alexander Gould ...     Andrew Stanton  \n",
              "3     Tom Hanks Robin Wright Gary Sinise Mykelti Wil...    Robert Zemeckis  \n",
              "4     Kevin Spacey Annette Bening Thora Birch Wes Be...         Sam Mendes  \n",
              "...                                                 ...                ...  \n",
              "4755  Lisa Hart Carroll Michael Des Barres Paul Drak...         Pece Dingo  \n",
              "4756  Roni Akurati Brighton Sharbino Jason Lee Anjul...       Frank Lotito  \n",
              "4757  Nicole Smolen Kim Baldwin Ariana Stephens Brys...       Jaco Booyens  \n",
              "4758                                                                        \n",
              "4759                                    Tony Oppedisano  Simon Napier-Bell  \n",
              "\n",
              "[4760 rows x 5 columns]"
            ],
            "text/html": [
              "\n",
              "  <div id=\"df-d5c1ca15-6352-4740-b3ad-d62e1d056b4d\" class=\"colab-df-container\">\n",
              "    <div>\n",
              "<style scoped>\n",
              "    .dataframe tbody tr th:only-of-type {\n",
              "        vertical-align: middle;\n",
              "    }\n",
              "\n",
              "    .dataframe tbody tr th {\n",
              "        vertical-align: top;\n",
              "    }\n",
              "\n",
              "    .dataframe thead th {\n",
              "        text-align: right;\n",
              "    }\n",
              "</style>\n",
              "<table border=\"1\" class=\"dataframe\">\n",
              "  <thead>\n",
              "    <tr style=\"text-align: right;\">\n",
              "      <th></th>\n",
              "      <th>Movie_Genre</th>\n",
              "      <th>Movie_Keywords</th>\n",
              "      <th>Movie_Tagline</th>\n",
              "      <th>Movie_Cast</th>\n",
              "      <th>Movie_Director</th>\n",
              "    </tr>\n",
              "  </thead>\n",
              "  <tbody>\n",
              "    <tr>\n",
              "      <th>0</th>\n",
              "      <td>Crime Comedy</td>\n",
              "      <td>hotel new year's eve witch bet hotel room</td>\n",
              "      <td>Twelve outrageous guests. Four scandalous requ...</td>\n",
              "      <td>Tim Roth Antonio Banderas Jennifer Beals Madon...</td>\n",
              "      <td>Allison Anders</td>\n",
              "    </tr>\n",
              "    <tr>\n",
              "      <th>1</th>\n",
              "      <td>Adventure Action Science Fiction</td>\n",
              "      <td>android galaxy hermit death star lightsaber</td>\n",
              "      <td>A long time ago in a galaxy far, far away...</td>\n",
              "      <td>Mark Hamill Harrison Ford Carrie Fisher Peter ...</td>\n",
              "      <td>George Lucas</td>\n",
              "    </tr>\n",
              "    <tr>\n",
              "      <th>2</th>\n",
              "      <td>Animation Family</td>\n",
              "      <td>father son relationship harbor underwater fish...</td>\n",
              "      <td>There are 3.7 trillion fish in the ocean, they...</td>\n",
              "      <td>Albert Brooks Ellen DeGeneres Alexander Gould ...</td>\n",
              "      <td>Andrew Stanton</td>\n",
              "    </tr>\n",
              "    <tr>\n",
              "      <th>3</th>\n",
              "      <td>Comedy Drama Romance</td>\n",
              "      <td>vietnam veteran hippie mentally disabled runni...</td>\n",
              "      <td>The world will never be the same, once you've ...</td>\n",
              "      <td>Tom Hanks Robin Wright Gary Sinise Mykelti Wil...</td>\n",
              "      <td>Robert Zemeckis</td>\n",
              "    </tr>\n",
              "    <tr>\n",
              "      <th>4</th>\n",
              "      <td>Drama</td>\n",
              "      <td>male nudity female nudity adultery midlife cri...</td>\n",
              "      <td>Look closer.</td>\n",
              "      <td>Kevin Spacey Annette Bening Thora Birch Wes Be...</td>\n",
              "      <td>Sam Mendes</td>\n",
              "    </tr>\n",
              "    <tr>\n",
              "      <th>...</th>\n",
              "      <td>...</td>\n",
              "      <td>...</td>\n",
              "      <td>...</td>\n",
              "      <td>...</td>\n",
              "      <td>...</td>\n",
              "    </tr>\n",
              "    <tr>\n",
              "      <th>4755</th>\n",
              "      <td>Horror</td>\n",
              "      <td></td>\n",
              "      <td>The hot spot where Satan's waitin'.</td>\n",
              "      <td>Lisa Hart Carroll Michael Des Barres Paul Drak...</td>\n",
              "      <td>Pece Dingo</td>\n",
              "    </tr>\n",
              "    <tr>\n",
              "      <th>4756</th>\n",
              "      <td>Comedy Family Drama</td>\n",
              "      <td></td>\n",
              "      <td>It’s better to stand out than to fit in.</td>\n",
              "      <td>Roni Akurati Brighton Sharbino Jason Lee Anjul...</td>\n",
              "      <td>Frank Lotito</td>\n",
              "    </tr>\n",
              "    <tr>\n",
              "      <th>4757</th>\n",
              "      <td>Thriller Drama</td>\n",
              "      <td>christian film sex trafficking</td>\n",
              "      <td>She never knew it could happen to her...</td>\n",
              "      <td>Nicole Smolen Kim Baldwin Ariana Stephens Brys...</td>\n",
              "      <td>Jaco Booyens</td>\n",
              "    </tr>\n",
              "    <tr>\n",
              "      <th>4758</th>\n",
              "      <td>Family</td>\n",
              "      <td></td>\n",
              "      <td></td>\n",
              "      <td></td>\n",
              "      <td></td>\n",
              "    </tr>\n",
              "    <tr>\n",
              "      <th>4759</th>\n",
              "      <td>Documentary</td>\n",
              "      <td>music actors legendary perfomer classic hollyw...</td>\n",
              "      <td></td>\n",
              "      <td>Tony Oppedisano</td>\n",
              "      <td>Simon Napier-Bell</td>\n",
              "    </tr>\n",
              "  </tbody>\n",
              "</table>\n",
              "<p>4760 rows × 5 columns</p>\n",
              "</div>\n",
              "    <div class=\"colab-df-buttons\">\n",
              "\n",
              "  <div class=\"colab-df-container\">\n",
              "    <button class=\"colab-df-convert\" onclick=\"convertToInteractive('df-d5c1ca15-6352-4740-b3ad-d62e1d056b4d')\"\n",
              "            title=\"Convert this dataframe to an interactive table.\"\n",
              "            style=\"display:none;\">\n",
              "\n",
              "  <svg xmlns=\"http://www.w3.org/2000/svg\" height=\"24px\" viewBox=\"0 -960 960 960\">\n",
              "    <path d=\"M120-120v-720h720v720H120Zm60-500h600v-160H180v160Zm220 220h160v-160H400v160Zm0 220h160v-160H400v160ZM180-400h160v-160H180v160Zm440 0h160v-160H620v160ZM180-180h160v-160H180v160Zm440 0h160v-160H620v160Z\"/>\n",
              "  </svg>\n",
              "    </button>\n",
              "\n",
              "  <style>\n",
              "    .colab-df-container {\n",
              "      display:flex;\n",
              "      gap: 12px;\n",
              "    }\n",
              "\n",
              "    .colab-df-convert {\n",
              "      background-color: #E8F0FE;\n",
              "      border: none;\n",
              "      border-radius: 50%;\n",
              "      cursor: pointer;\n",
              "      display: none;\n",
              "      fill: #1967D2;\n",
              "      height: 32px;\n",
              "      padding: 0 0 0 0;\n",
              "      width: 32px;\n",
              "    }\n",
              "\n",
              "    .colab-df-convert:hover {\n",
              "      background-color: #E2EBFA;\n",
              "      box-shadow: 0px 1px 2px rgba(60, 64, 67, 0.3), 0px 1px 3px 1px rgba(60, 64, 67, 0.15);\n",
              "      fill: #174EA6;\n",
              "    }\n",
              "\n",
              "    .colab-df-buttons div {\n",
              "      margin-bottom: 4px;\n",
              "    }\n",
              "\n",
              "    [theme=dark] .colab-df-convert {\n",
              "      background-color: #3B4455;\n",
              "      fill: #D2E3FC;\n",
              "    }\n",
              "\n",
              "    [theme=dark] .colab-df-convert:hover {\n",
              "      background-color: #434B5C;\n",
              "      box-shadow: 0px 1px 3px 1px rgba(0, 0, 0, 0.15);\n",
              "      filter: drop-shadow(0px 1px 2px rgba(0, 0, 0, 0.3));\n",
              "      fill: #FFFFFF;\n",
              "    }\n",
              "  </style>\n",
              "\n",
              "    <script>\n",
              "      const buttonEl =\n",
              "        document.querySelector('#df-d5c1ca15-6352-4740-b3ad-d62e1d056b4d button.colab-df-convert');\n",
              "      buttonEl.style.display =\n",
              "        google.colab.kernel.accessAllowed ? 'block' : 'none';\n",
              "\n",
              "      async function convertToInteractive(key) {\n",
              "        const element = document.querySelector('#df-d5c1ca15-6352-4740-b3ad-d62e1d056b4d');\n",
              "        const dataTable =\n",
              "          await google.colab.kernel.invokeFunction('convertToInteractive',\n",
              "                                                    [key], {});\n",
              "        if (!dataTable) return;\n",
              "\n",
              "        const docLinkHtml = 'Like what you see? Visit the ' +\n",
              "          '<a target=\"_blank\" href=https://colab.research.google.com/notebooks/data_table.ipynb>data table notebook</a>'\n",
              "          + ' to learn more about interactive tables.';\n",
              "        element.innerHTML = '';\n",
              "        dataTable['output_type'] = 'display_data';\n",
              "        await google.colab.output.renderOutput(dataTable, element);\n",
              "        const docLink = document.createElement('div');\n",
              "        docLink.innerHTML = docLinkHtml;\n",
              "        element.appendChild(docLink);\n",
              "      }\n",
              "    </script>\n",
              "  </div>\n",
              "\n",
              "\n",
              "<div id=\"df-a6f2e0d5-b6c2-4161-89c2-682317256274\">\n",
              "  <button class=\"colab-df-quickchart\" onclick=\"quickchart('df-a6f2e0d5-b6c2-4161-89c2-682317256274')\"\n",
              "            title=\"Suggest charts\"\n",
              "            style=\"display:none;\">\n",
              "\n",
              "<svg xmlns=\"http://www.w3.org/2000/svg\" height=\"24px\"viewBox=\"0 0 24 24\"\n",
              "     width=\"24px\">\n",
              "    <g>\n",
              "        <path d=\"M19 3H5c-1.1 0-2 .9-2 2v14c0 1.1.9 2 2 2h14c1.1 0 2-.9 2-2V5c0-1.1-.9-2-2-2zM9 17H7v-7h2v7zm4 0h-2V7h2v10zm4 0h-2v-4h2v4z\"/>\n",
              "    </g>\n",
              "</svg>\n",
              "  </button>\n",
              "\n",
              "<style>\n",
              "  .colab-df-quickchart {\n",
              "      --bg-color: #E8F0FE;\n",
              "      --fill-color: #1967D2;\n",
              "      --hover-bg-color: #E2EBFA;\n",
              "      --hover-fill-color: #174EA6;\n",
              "      --disabled-fill-color: #AAA;\n",
              "      --disabled-bg-color: #DDD;\n",
              "  }\n",
              "\n",
              "  [theme=dark] .colab-df-quickchart {\n",
              "      --bg-color: #3B4455;\n",
              "      --fill-color: #D2E3FC;\n",
              "      --hover-bg-color: #434B5C;\n",
              "      --hover-fill-color: #FFFFFF;\n",
              "      --disabled-bg-color: #3B4455;\n",
              "      --disabled-fill-color: #666;\n",
              "  }\n",
              "\n",
              "  .colab-df-quickchart {\n",
              "    background-color: var(--bg-color);\n",
              "    border: none;\n",
              "    border-radius: 50%;\n",
              "    cursor: pointer;\n",
              "    display: none;\n",
              "    fill: var(--fill-color);\n",
              "    height: 32px;\n",
              "    padding: 0;\n",
              "    width: 32px;\n",
              "  }\n",
              "\n",
              "  .colab-df-quickchart:hover {\n",
              "    background-color: var(--hover-bg-color);\n",
              "    box-shadow: 0 1px 2px rgba(60, 64, 67, 0.3), 0 1px 3px 1px rgba(60, 64, 67, 0.15);\n",
              "    fill: var(--button-hover-fill-color);\n",
              "  }\n",
              "\n",
              "  .colab-df-quickchart-complete:disabled,\n",
              "  .colab-df-quickchart-complete:disabled:hover {\n",
              "    background-color: var(--disabled-bg-color);\n",
              "    fill: var(--disabled-fill-color);\n",
              "    box-shadow: none;\n",
              "  }\n",
              "\n",
              "  .colab-df-spinner {\n",
              "    border: 2px solid var(--fill-color);\n",
              "    border-color: transparent;\n",
              "    border-bottom-color: var(--fill-color);\n",
              "    animation:\n",
              "      spin 1s steps(1) infinite;\n",
              "  }\n",
              "\n",
              "  @keyframes spin {\n",
              "    0% {\n",
              "      border-color: transparent;\n",
              "      border-bottom-color: var(--fill-color);\n",
              "      border-left-color: var(--fill-color);\n",
              "    }\n",
              "    20% {\n",
              "      border-color: transparent;\n",
              "      border-left-color: var(--fill-color);\n",
              "      border-top-color: var(--fill-color);\n",
              "    }\n",
              "    30% {\n",
              "      border-color: transparent;\n",
              "      border-left-color: var(--fill-color);\n",
              "      border-top-color: var(--fill-color);\n",
              "      border-right-color: var(--fill-color);\n",
              "    }\n",
              "    40% {\n",
              "      border-color: transparent;\n",
              "      border-right-color: var(--fill-color);\n",
              "      border-top-color: var(--fill-color);\n",
              "    }\n",
              "    60% {\n",
              "      border-color: transparent;\n",
              "      border-right-color: var(--fill-color);\n",
              "    }\n",
              "    80% {\n",
              "      border-color: transparent;\n",
              "      border-right-color: var(--fill-color);\n",
              "      border-bottom-color: var(--fill-color);\n",
              "    }\n",
              "    90% {\n",
              "      border-color: transparent;\n",
              "      border-bottom-color: var(--fill-color);\n",
              "    }\n",
              "  }\n",
              "</style>\n",
              "\n",
              "  <script>\n",
              "    async function quickchart(key) {\n",
              "      const quickchartButtonEl =\n",
              "        document.querySelector('#' + key + ' button');\n",
              "      quickchartButtonEl.disabled = true;  // To prevent multiple clicks.\n",
              "      quickchartButtonEl.classList.add('colab-df-spinner');\n",
              "      try {\n",
              "        const charts = await google.colab.kernel.invokeFunction(\n",
              "            'suggestCharts', [key], {});\n",
              "      } catch (error) {\n",
              "        console.error('Error during call to suggestCharts:', error);\n",
              "      }\n",
              "      quickchartButtonEl.classList.remove('colab-df-spinner');\n",
              "      quickchartButtonEl.classList.add('colab-df-quickchart-complete');\n",
              "    }\n",
              "    (() => {\n",
              "      let quickchartButtonEl =\n",
              "        document.querySelector('#df-a6f2e0d5-b6c2-4161-89c2-682317256274 button');\n",
              "      quickchartButtonEl.style.display =\n",
              "        google.colab.kernel.accessAllowed ? 'block' : 'none';\n",
              "    })();\n",
              "  </script>\n",
              "</div>\n",
              "\n",
              "  <div id=\"id_f81f906a-c3bc-46ff-ae01-120cc921a637\">\n",
              "    <style>\n",
              "      .colab-df-generate {\n",
              "        background-color: #E8F0FE;\n",
              "        border: none;\n",
              "        border-radius: 50%;\n",
              "        cursor: pointer;\n",
              "        display: none;\n",
              "        fill: #1967D2;\n",
              "        height: 32px;\n",
              "        padding: 0 0 0 0;\n",
              "        width: 32px;\n",
              "      }\n",
              "\n",
              "      .colab-df-generate:hover {\n",
              "        background-color: #E2EBFA;\n",
              "        box-shadow: 0px 1px 2px rgba(60, 64, 67, 0.3), 0px 1px 3px 1px rgba(60, 64, 67, 0.15);\n",
              "        fill: #174EA6;\n",
              "      }\n",
              "\n",
              "      [theme=dark] .colab-df-generate {\n",
              "        background-color: #3B4455;\n",
              "        fill: #D2E3FC;\n",
              "      }\n",
              "\n",
              "      [theme=dark] .colab-df-generate:hover {\n",
              "        background-color: #434B5C;\n",
              "        box-shadow: 0px 1px 3px 1px rgba(0, 0, 0, 0.15);\n",
              "        filter: drop-shadow(0px 1px 2px rgba(0, 0, 0, 0.3));\n",
              "        fill: #FFFFFF;\n",
              "      }\n",
              "    </style>\n",
              "    <button class=\"colab-df-generate\" onclick=\"generateWithVariable('df_features')\"\n",
              "            title=\"Generate code using this dataframe.\"\n",
              "            style=\"display:none;\">\n",
              "\n",
              "  <svg xmlns=\"http://www.w3.org/2000/svg\" height=\"24px\"viewBox=\"0 0 24 24\"\n",
              "       width=\"24px\">\n",
              "    <path d=\"M7,19H8.4L18.45,9,17,7.55,7,17.6ZM5,21V16.75L18.45,3.32a2,2,0,0,1,2.83,0l1.4,1.43a1.91,1.91,0,0,1,.58,1.4,1.91,1.91,0,0,1-.58,1.4L9.25,21ZM18.45,9,17,7.55Zm-12,3A5.31,5.31,0,0,0,4.9,8.1,5.31,5.31,0,0,0,1,6.5,5.31,5.31,0,0,0,4.9,4.9,5.31,5.31,0,0,0,6.5,1,5.31,5.31,0,0,0,8.1,4.9,5.31,5.31,0,0,0,12,6.5,5.46,5.46,0,0,0,6.5,12Z\"/>\n",
              "  </svg>\n",
              "    </button>\n",
              "    <script>\n",
              "      (() => {\n",
              "      const buttonEl =\n",
              "        document.querySelector('#id_f81f906a-c3bc-46ff-ae01-120cc921a637 button.colab-df-generate');\n",
              "      buttonEl.style.display =\n",
              "        google.colab.kernel.accessAllowed ? 'block' : 'none';\n",
              "\n",
              "      buttonEl.onclick = () => {\n",
              "        google.colab.notebook.generateWithVariable('df_features');\n",
              "      }\n",
              "      })();\n",
              "    </script>\n",
              "  </div>\n",
              "\n",
              "    </div>\n",
              "  </div>\n"
            ],
            "application/vnd.google.colaboratory.intrinsic+json": {
              "type": "dataframe",
              "variable_name": "df_features",
              "summary": "{\n  \"name\": \"df_features\",\n  \"rows\": 4760,\n  \"fields\": [\n    {\n      \"column\": \"Movie_Genre\",\n      \"properties\": {\n        \"dtype\": \"category\",\n        \"num_unique_values\": 1164,\n        \"samples\": [\n          \"Family Animation Adventure\",\n          \"Adventure Science Fiction Action\",\n          \"Action Crime Drama Romance Thriller\"\n        ],\n        \"semantic_type\": \"\",\n        \"description\": \"\"\n      }\n    },\n    {\n      \"column\": \"Movie_Keywords\",\n      \"properties\": {\n        \"dtype\": \"string\",\n        \"num_unique_values\": 4203,\n        \"samples\": [\n          \"canada nazis sequel spin off ancient evil\",\n          \"sex professor wedding woman director columbia university\",\n          \"prophecy sea beach gold small town\"\n        ],\n        \"semantic_type\": \"\",\n        \"description\": \"\"\n      }\n    },\n    {\n      \"column\": \"Movie_Tagline\",\n      \"properties\": {\n        \"dtype\": \"string\",\n        \"num_unique_values\": 3928,\n        \"samples\": [\n          \"The messenger must be silenced.\",\n          \"It's not the house that's haunted.\",\n          \"The final hunt begins.\"\n        ],\n        \"semantic_type\": \"\",\n        \"description\": \"\"\n      }\n    },\n    {\n      \"column\": \"Movie_Cast\",\n      \"properties\": {\n        \"dtype\": \"string\",\n        \"num_unique_values\": 4715,\n        \"samples\": [\n          \"Robin Tunney Fairuza Balk Neve Campbell Rachel True Skeet Ulrich\",\n          \"Peter Sellers Christopher Plummer Herbert Lom Catherine Schell Peter Arne\",\n          \"John Wayne Laraine Day Cedric Hardwicke Judith Anderson Anthony Quinn\"\n        ],\n        \"semantic_type\": \"\",\n        \"description\": \"\"\n      }\n    },\n    {\n      \"column\": \"Movie_Director\",\n      \"properties\": {\n        \"dtype\": \"category\",\n        \"num_unique_values\": 2332,\n        \"samples\": [\n          \"Rob McKittrick\",\n          \"Terron R. Parsons\",\n          \"Cyrus Nowrasteh\"\n        ],\n        \"semantic_type\": \"\",\n        \"description\": \"\"\n      }\n    }\n  ]\n}"
            }
          },
          "metadata": {},
          "execution_count": 11
        }
      ]
    },
    {
      "cell_type": "code",
      "source": [
        "x=df_features['Movie_Genre']+' '+ df_features['Movie_Keywords']+' '+ df_features['Movie_Tagline']+' '+ df_features['Movie_Director']\n"
      ],
      "metadata": {
        "id": "xkTrl6Sabvih"
      },
      "execution_count": null,
      "outputs": []
    },
    {
      "cell_type": "code",
      "source": [
        "x"
      ],
      "metadata": {
        "colab": {
          "base_uri": "https://localhost:8080/"
        },
        "id": "LmXaZKZ9bpKl",
        "outputId": "37ed0da7-df47-4dec-be2b-28feb78cb822"
      },
      "execution_count": null,
      "outputs": [
        {
          "output_type": "execute_result",
          "data": {
            "text/plain": [
              "0       Crime Comedy hotel new year's eve witch bet ho...\n",
              "1       Adventure Action Science Fiction android galax...\n",
              "2       Animation Family father son relationship harbo...\n",
              "3       Comedy Drama Romance vietnam veteran hippie me...\n",
              "4       Drama male nudity female nudity adultery midli...\n",
              "                              ...                        \n",
              "4755    Horror  The hot spot where Satan's waitin'. Pe...\n",
              "4756    Comedy Family Drama  It’s better to stand out ...\n",
              "4757    Thriller Drama christian film sex trafficking ...\n",
              "4758                                            Family   \n",
              "4759    Documentary music actors legendary perfomer cl...\n",
              "Length: 4760, dtype: object"
            ]
          },
          "metadata": {},
          "execution_count": 13
        }
      ]
    },
    {
      "cell_type": "code",
      "source": [
        "x.shape"
      ],
      "metadata": {
        "colab": {
          "base_uri": "https://localhost:8080/"
        },
        "id": "tc35M_cNcZgm",
        "outputId": "ed720587-3827-4376-da25-e7d40e0fbbff"
      },
      "execution_count": null,
      "outputs": [
        {
          "output_type": "execute_result",
          "data": {
            "text/plain": [
              "(4760,)"
            ]
          },
          "metadata": {},
          "execution_count": 14
        }
      ]
    },
    {
      "cell_type": "markdown",
      "source": [
        "#**Get Feature Text Conersion to** **Tokens**"
      ],
      "metadata": {
        "id": "5Ze72Rjdc9_d"
      }
    },
    {
      "cell_type": "code",
      "source": [
        "from sklearn.feature_extraction.text import TfidfVectorizer"
      ],
      "metadata": {
        "id": "0xvjf-zkdL8y"
      },
      "execution_count": null,
      "outputs": []
    },
    {
      "cell_type": "code",
      "source": [
        "tfidf = TfidfVectorizer()"
      ],
      "metadata": {
        "id": "zEUmxFkrdzvV"
      },
      "execution_count": null,
      "outputs": []
    },
    {
      "cell_type": "code",
      "source": [
        "X = tfidf.fit_transform(x)"
      ],
      "metadata": {
        "id": "1B9yhu9dd8vX"
      },
      "execution_count": null,
      "outputs": []
    },
    {
      "cell_type": "code",
      "source": [
        "X.shape"
      ],
      "metadata": {
        "colab": {
          "base_uri": "https://localhost:8080/"
        },
        "id": "CdBpo_4IeUz5",
        "outputId": "410928da-cc18-4b22-ba8d-782d5482e37b"
      },
      "execution_count": null,
      "outputs": [
        {
          "output_type": "execute_result",
          "data": {
            "text/plain": [
              "(4760, 9666)"
            ]
          },
          "metadata": {},
          "execution_count": 18
        }
      ]
    },
    {
      "cell_type": "code",
      "source": [
        "print(X)"
      ],
      "metadata": {
        "colab": {
          "base_uri": "https://localhost:8080/"
        },
        "id": "ms5I8Vd8e7g9",
        "outputId": "5fbf0710-13ad-4c4c-cfbf-e67f56a89785"
      },
      "execution_count": null,
      "outputs": [
        {
          "output_type": "stream",
          "name": "stdout",
          "text": [
            "  (0, 376)\t0.18272810724070418\n",
            "  (0, 316)\t0.19632202064896634\n",
            "  (0, 5024)\t0.09373465698968353\n",
            "  (0, 6094)\t0.06761788284030082\n",
            "  (0, 9426)\t0.19090152648212289\n",
            "  (0, 3256)\t0.09303304831704608\n",
            "  (0, 9401)\t0.11559559866313328\n",
            "  (0, 4521)\t0.1443365785980048\n",
            "  (0, 8543)\t0.1065109136318404\n",
            "  (0, 6131)\t0.0786972588733094\n",
            "  (0, 2203)\t0.1375276201579133\n",
            "  (0, 3175)\t0.12385671298754733\n",
            "  (0, 4023)\t0.21434670508652215\n",
            "  (0, 4253)\t0.15944969524116445\n",
            "  (0, 866)\t0.21315961343110615\n",
            "  (0, 5106)\t0.16963506748686155\n",
            "  (0, 6133)\t0.08935032151608546\n",
            "  (0, 374)\t0.08264227113134892\n",
            "  (0, 7062)\t0.21315961343110615\n",
            "  (0, 7448)\t0.21315961343110615\n",
            "  (0, 3296)\t0.15847233257383517\n",
            "  (0, 3724)\t0.20331025305114117\n",
            "  (0, 6209)\t0.20331025305114117\n",
            "  (0, 8864)\t0.19090152648212289\n",
            "  (0, 7244)\t0.15847233257383517\n",
            "  :\t:\n",
            "  (4757, 1975)\t0.26800244457573114\n",
            "  (4757, 3821)\t0.29309239322653075\n",
            "  (4757, 7673)\t0.22148093071406288\n",
            "  (4757, 7622)\t0.20123579506754563\n",
            "  (4757, 3145)\t0.168092031177192\n",
            "  (4757, 4761)\t0.31653219908433233\n",
            "  (4757, 3948)\t0.2305741747626342\n",
            "  (4757, 8597)\t0.10300110054376047\n",
            "  (4757, 8644)\t0.1312593706509848\n",
            "  (4757, 4404)\t0.15447322365698812\n",
            "  (4757, 5939)\t0.1957451067341251\n",
            "  (4757, 2565)\t0.07636984555550978\n",
            "  (4758, 3012)\t1.0\n",
            "  (4759, 5864)\t0.3489795931696709\n",
            "  (4759, 7786)\t0.3489795931696709\n",
            "  (4759, 6411)\t0.3489795931696709\n",
            "  (4759, 166)\t0.3328544664486442\n",
            "  (4759, 4946)\t0.3125392093504262\n",
            "  (4759, 1692)\t0.2891632535235492\n",
            "  (4759, 865)\t0.29915789158688394\n",
            "  (4759, 4053)\t0.27159180538281574\n",
            "  (4759, 7777)\t0.255466678661789\n",
            "  (4759, 2500)\t0.1881896442203568\n",
            "  (4759, 3313)\t0.22790059245772076\n",
            "  (4759, 5811)\t0.16333000721915777\n"
          ]
        }
      ]
    },
    {
      "cell_type": "markdown",
      "source": [
        "#**Get Similarity Score using Cosine Similarity**\n",
        "\n",
        "cosine_similarity computes the L2-normalized dot product of vrctors.Euclidean(L2)normalization projects the vectors onto the unit sphere,and their is then the cosine of the angle between the points denoted by the vectors.\n"
      ],
      "metadata": {
        "id": "kFFUnpwZfjsr"
      }
    },
    {
      "cell_type": "code",
      "source": [
        "from sklearn.metrics.pairwise import cosine_similarity"
      ],
      "metadata": {
        "id": "C8Js4VcfgjsD"
      },
      "execution_count": null,
      "outputs": []
    },
    {
      "cell_type": "code",
      "source": [
        "Similarity_Score = cosine_similarity(X)"
      ],
      "metadata": {
        "id": "arTpV6_zcgSe"
      },
      "execution_count": null,
      "outputs": []
    },
    {
      "cell_type": "code",
      "source": [
        "Similarity_Score"
      ],
      "metadata": {
        "colab": {
          "base_uri": "https://localhost:8080/"
        },
        "id": "J-Tz26g1dbJZ",
        "outputId": "8f460ff6-0f8c-4842-a4da-44fd559e8dfe"
      },
      "execution_count": null,
      "outputs": [
        {
          "output_type": "execute_result",
          "data": {
            "text/plain": [
              "array([[1.        , 0.01723123, 0.04583093, ..., 0.        , 0.        ,\n",
              "        0.        ],\n",
              "       [0.01723123, 1.        , 0.01127435, ..., 0.        , 0.        ,\n",
              "        0.        ],\n",
              "       [0.04583093, 0.01127435, 1.        , ..., 0.        , 0.09498713,\n",
              "        0.        ],\n",
              "       ...,\n",
              "       [0.        , 0.        , 0.        , ..., 1.        , 0.        ,\n",
              "        0.        ],\n",
              "       [0.        , 0.        , 0.09498713, ..., 0.        , 1.        ,\n",
              "        0.        ],\n",
              "       [0.        , 0.        , 0.        , ..., 0.        , 0.        ,\n",
              "        1.        ]])"
            ]
          },
          "metadata": {},
          "execution_count": 22
        }
      ]
    },
    {
      "cell_type": "code",
      "source": [
        "Similarity_Score.shape"
      ],
      "metadata": {
        "colab": {
          "base_uri": "https://localhost:8080/"
        },
        "id": "mAR5ysGIhm3C",
        "outputId": "f4e66ff1-7391-440c-f513-6ac7b338ab26"
      },
      "execution_count": null,
      "outputs": [
        {
          "output_type": "execute_result",
          "data": {
            "text/plain": [
              "(4760, 4760)"
            ]
          },
          "metadata": {},
          "execution_count": 24
        }
      ]
    },
    {
      "cell_type": "markdown",
      "source": [
        "#**Get Movie Name as Input from User and Validate for Closest Spelling**"
      ],
      "metadata": {
        "id": "EVIcSYn-hzje"
      }
    },
    {
      "cell_type": "code",
      "source": [
        "Favourite_Movie_Name = input('Enter your favourite movie name : ')"
      ],
      "metadata": {
        "colab": {
          "base_uri": "https://localhost:8080/"
        },
        "id": "R83kzInAiOht",
        "outputId": "6ade5795-b08e-431d-d25a-df5d70b4929b"
      },
      "execution_count": null,
      "outputs": [
        {
          "name": "stdout",
          "output_type": "stream",
          "text": [
            "Enter your favourite movie name : father son\n"
          ]
        }
      ]
    },
    {
      "cell_type": "code",
      "source": [
        "All_movies_Title_List = df['Movie_Title'].tolist()"
      ],
      "metadata": {
        "id": "IW2qWm-wiG_q"
      },
      "execution_count": null,
      "outputs": []
    },
    {
      "cell_type": "code",
      "source": [
        "import difflib"
      ],
      "metadata": {
        "id": "_pMjLSb1nQkv"
      },
      "execution_count": null,
      "outputs": []
    },
    {
      "cell_type": "code",
      "source": [
        "Movies_Recommendation = difflib.get_close_matches(Favourite_Movie_Name,All_movies_Title_List)\n",
        "print(Movies_Recommendation)"
      ],
      "metadata": {
        "colab": {
          "base_uri": "https://localhost:8080/"
        },
        "id": "9witDX0-nXAC",
        "outputId": "e868dc35-a461-468a-9c48-1336a9cb4fad"
      },
      "execution_count": null,
      "outputs": [
        {
          "output_type": "stream",
          "name": "stdout",
          "text": [
            "[]\n"
          ]
        }
      ]
    },
    {
      "cell_type": "code",
      "source": [
        "Close_Match = Movies_Recommendation[0]\n",
        "print(Close_Match)"
      ],
      "metadata": {
        "colab": {
          "base_uri": "https://localhost:8080/",
          "height": 179
        },
        "id": "rPepQAOcoKis",
        "outputId": "dadb8ed7-8324-4031-98cc-f96ed75e272e",
        "collapsed": true
      },
      "execution_count": null,
      "outputs": [
        {
          "output_type": "error",
          "ename": "IndexError",
          "evalue": "list index out of range",
          "traceback": [
            "\u001b[0;31m---------------------------------------------------------------------------\u001b[0m",
            "\u001b[0;31mIndexError\u001b[0m                                Traceback (most recent call last)",
            "\u001b[0;32m<ipython-input-29-c8484a0d69bb>\u001b[0m in \u001b[0;36m<cell line: 1>\u001b[0;34m()\u001b[0m\n\u001b[0;32m----> 1\u001b[0;31m \u001b[0mClose_Match\u001b[0m \u001b[0;34m=\u001b[0m \u001b[0mMovies_Recommendation\u001b[0m\u001b[0;34m[\u001b[0m\u001b[0;36m0\u001b[0m\u001b[0;34m]\u001b[0m\u001b[0;34m\u001b[0m\u001b[0;34m\u001b[0m\u001b[0m\n\u001b[0m\u001b[1;32m      2\u001b[0m \u001b[0mprint\u001b[0m\u001b[0;34m(\u001b[0m\u001b[0mClose_Match\u001b[0m\u001b[0;34m)\u001b[0m\u001b[0;34m\u001b[0m\u001b[0;34m\u001b[0m\u001b[0m\n",
            "\u001b[0;31mIndexError\u001b[0m: list index out of range"
          ]
        }
      ]
    },
    {
      "cell_type": "code",
      "source": [
        "Index_of_close_Match_Movie = df[df.Movie_Title == Close_Match]['Movie_ID'].values[0]\n",
        "print(Index_of_close_Match_Movie )"
      ],
      "metadata": {
        "colab": {
          "base_uri": "https://localhost:8080/",
          "height": 179
        },
        "id": "6-80uAUfewVA",
        "outputId": "cb2f1cdd-61e8-484f-af9c-863f24c063b4",
        "collapsed": true
      },
      "execution_count": null,
      "outputs": [
        {
          "output_type": "error",
          "ename": "NameError",
          "evalue": "name 'Close_Match' is not defined",
          "traceback": [
            "\u001b[0;31m---------------------------------------------------------------------------\u001b[0m",
            "\u001b[0;31mNameError\u001b[0m                                 Traceback (most recent call last)",
            "\u001b[0;32m<ipython-input-30-34f80f825d31>\u001b[0m in \u001b[0;36m<cell line: 1>\u001b[0;34m()\u001b[0m\n\u001b[0;32m----> 1\u001b[0;31m \u001b[0mIndex_of_close_Match_Movie\u001b[0m \u001b[0;34m=\u001b[0m \u001b[0mdf\u001b[0m\u001b[0;34m[\u001b[0m\u001b[0mdf\u001b[0m\u001b[0;34m.\u001b[0m\u001b[0mMovie_Title\u001b[0m \u001b[0;34m==\u001b[0m \u001b[0mClose_Match\u001b[0m\u001b[0;34m]\u001b[0m\u001b[0;34m[\u001b[0m\u001b[0;34m'Movie_ID'\u001b[0m\u001b[0;34m]\u001b[0m\u001b[0;34m.\u001b[0m\u001b[0mvalues\u001b[0m\u001b[0;34m[\u001b[0m\u001b[0;36m0\u001b[0m\u001b[0;34m]\u001b[0m\u001b[0;34m\u001b[0m\u001b[0;34m\u001b[0m\u001b[0m\n\u001b[0m\u001b[1;32m      2\u001b[0m \u001b[0mprint\u001b[0m\u001b[0;34m(\u001b[0m\u001b[0mIndex_of_close_Match_Movie\u001b[0m \u001b[0;34m)\u001b[0m\u001b[0;34m\u001b[0m\u001b[0;34m\u001b[0m\u001b[0m\n",
            "\u001b[0;31mNameError\u001b[0m: name 'Close_Match' is not defined"
          ]
        }
      ]
    },
    {
      "cell_type": "code",
      "source": [
        "# getting a similar movies\n",
        "Recommendation_Score = list(enumerate(Similarity_Score[Index_of_close_Match_Movie]))\n",
        "print(Recommendation_Score)"
      ],
      "metadata": {
        "colab": {
          "base_uri": "https://localhost:8080/"
        },
        "id": "osMq9ppgd4iB",
        "outputId": "8beb8bae-478a-4d79-ecef-3f76b8a575b2"
      },
      "execution_count": null,
      "outputs": [
        {
          "output_type": "stream",
          "name": "stdout",
          "text": [
            "[(0, 0.0), (1, 0.0), (2, 0.05199058387860429), (3, 0.0), (4, 0.0), (5, 0.02075180321657067), (6, 0.0), (7, 0.0), (8, 0.0), (9, 0.01813414493001236), (10, 0.0), (11, 0.019710743631766038), (12, 0.0), (13, 0.0), (14, 0.08436008401391415), (15, 0.0), (16, 0.0), (17, 0.0), (18, 0.0), (19, 0.0), (20, 0.0), (21, 0.0), (22, 0.0), (23, 0.0), (24, 0.0), (25, 0.01579786051229449), (26, 0.0), (27, 0.0), (28, 0.0), (29, 0.0), (30, 0.04732888653100177), (31, 0.0), (32, 0.0), (33, 0.0), (34, 0.0), (35, 0.0), (36, 0.0), (37, 0.0), (38, 0.0), (39, 0.0), (40, 0.0), (41, 0.0), (42, 0.0215959284477048), (43, 0.0), (44, 0.0), (45, 0.07987506537811082), (46, 0.0), (47, 0.0), (48, 0.0), (49, 0.018781761272447548), (50, 0.0), (51, 0.0), (52, 0.05775257997611678), (53, 0.018289124563374882), (54, 0.020104727030081804), (55, 0.0), (56, 0.0), (57, 0.0), (58, 0.03822451118830984), (59, 0.0), (60, 0.0), (61, 0.0), (62, 0.0), (63, 0.0), (64, 0.06975247543951364), (65, 0.0), (66, 0.02084501086049999), (67, 0.0), (68, 0.0), (69, 0.0), (70, 0.0482863380238525), (71, 0.0), (72, 0.0), (73, 0.01613094710115885), (74, 0.0), (75, 0.017072151321716543), (76, 0.016267203919398315), (77, 0.0), (78, 0.0), (79, 0.0), (80, 0.0), (81, 0.0), (82, 0.0351470497206483), (83, 0.0), (84, 0.0), (85, 0.0), (86, 0.0), (87, 0.0), (88, 0.0), (89, 0.0), (90, 0.0), (91, 0.016098082205720638), (92, 0.0), (93, 0.0), (94, 0.0), (95, 0.0), (96, 0.0), (97, 0.0), (98, 0.0), (99, 0.0), (100, 0.0), (101, 0.0), (102, 0.0), (103, 0.0), (104, 0.0), (105, 0.0809661790978238), (106, 0.013924639837744095), (107, 0.0), (108, 0.028557143065857604), (109, 0.0), (110, 0.0), (111, 0.01723550481454471), (112, 0.0), (113, 0.04008981229048264), (114, 0.0), (115, 0.11900818617907016), (116, 0.0), (117, 0.020997767086728566), (118, 0.0), (119, 0.0), (120, 0.023028671713209985), (121, 0.0), (122, 0.0), (123, 0.0), (124, 0.01774707102000831), (125, 0.0), (126, 0.06743858817766822), (127, 0.0), (128, 0.0), (129, 0.0), (130, 0.0), (131, 0.02007094563088817), (132, 0.0), (133, 0.0), (134, 0.0), (135, 0.0), (136, 0.0), (137, 0.06537241381903725), (138, 0.0), (139, 0.0), (140, 0.0), (141, 0.0), (142, 0.0), (143, 0.0), (144, 0.0), (145, 0.0), (146, 0.11668748384057781), (147, 0.0), (148, 0.0), (149, 0.04551253153437129), (150, 0.0), (151, 0.0), (152, 0.0), (153, 0.027218216053127547), (154, 0.07117440155087348), (155, 0.04110973719069071), (156, 0.0), (157, 0.0), (158, 0.0), (159, 0.0), (160, 0.0), (161, 0.016713843843314462), (162, 0.0), (163, 0.0), (164, 0.0), (165, 0.0), (166, 0.0), (167, 0.0), (168, 0.0), (169, 0.0), (170, 0.0), (171, 0.0), (172, 0.0), (173, 0.0), (174, 0.0), (175, 0.0), (176, 0.0), (177, 0.018625448656009666), (178, 0.04827713059000545), (179, 0.02063841817870604), (180, 0.0), (181, 0.0), (182, 0.0), (183, 0.019012579358671736), (184, 0.0), (185, 0.01826809014212686), (186, 0.0), (187, 0.0), (188, 0.023045882260964004), (189, 0.0), (190, 0.0), (191, 0.01838699035177662), (192, 0.04991528187480532), (193, 0.020062220284108645), (194, 0.0), (195, 0.0349776130784922), (196, 0.032037363679467606), (197, 0.0), (198, 0.051953629715095845), (199, 0.018315708455785725), (200, 0.0), (201, 0.0), (202, 0.04513625050150767), (203, 0.0), (204, 0.02018058470331028), (205, 0.02392839552326576), (206, 0.0781291165995171), (207, 0.0), (208, 0.0), (209, 0.0), (210, 0.0), (211, 0.0), (212, 0.0), (213, 0.0), (214, 0.0), (215, 0.01790940009606732), (216, 0.0), (217, 0.048493845267175005), (218, 0.0), (219, 0.02197520251575843), (220, 0.0), (221, 0.0), (222, 0.0), (223, 0.0), (224, 0.0), (225, 0.0), (226, 0.0), (227, 0.02441586751151529), (228, 0.0), (229, 0.0), (230, 0.0), (231, 0.0), (232, 0.0), (233, 0.0), (234, 0.0), (235, 0.0), (236, 0.0), (237, 0.015148898555786465), (238, 0.0), (239, 0.0), (240, 0.01847578159455844), (241, 0.0), (242, 0.038036976645252726), (243, 0.013475292697215516), (244, 0.0), (245, 0.020600646168832858), (246, 0.05504206109247427), (247, 0.0), (248, 0.0), (249, 0.049998530233381785), (250, 0.0), (251, 0.0), (252, 0.0), (253, 0.0), (254, 0.0), (255, 0.0), (256, 0.0), (257, 0.016584397745923435), (258, 0.0), (259, 0.020966787442864548), (260, 0.0), (261, 0.0), (262, 0.0), (263, 0.0), (264, 0.0), (265, 0.0), (266, 0.0), (267, 0.0), (268, 0.0), (269, 0.0), (270, 0.021315548737433083), (271, 0.0), (272, 0.0), (273, 0.0), (274, 0.0), (275, 0.0), (276, 0.0), (277, 0.034373231621269915), (278, 0.0), (279, 0.0), (280, 0.0), (281, 0.0), (282, 0.0), (283, 0.0), (284, 0.0), (285, 0.0), (286, 0.0), (287, 0.0), (288, 0.01793840622275182), (289, 0.0), (290, 0.0), (291, 0.0), (292, 0.0), (293, 0.0), (294, 0.01647074499021683), (295, 0.0), (296, 0.0), (297, 0.021276079574972948), (298, 0.021003183670742855), (299, 0.019693703732885544), (300, 0.01851842823418058), (301, 0.02163363334836052), (302, 0.03413681154248869), (303, 0.0), (304, 0.03789902191153775), (305, 0.0), (306, 0.01861273173937548), (307, 0.0), (308, 0.023106329953600745), (309, 0.01585463229758366), (310, 0.0), (311, 0.0), (312, 0.020772178624863854), (313, 0.0), (314, 0.016611472603286666), (315, 0.021195884165327018), (316, 0.0), (317, 0.017057343125505626), (318, 0.0), (319, 0.0), (320, 0.0), (321, 0.022061827199054983), (322, 0.021002361185189514), (323, 0.0), (324, 0.017849335752683177), (325, 0.018328180104571754), (326, 0.0), (327, 0.0), (328, 0.0), (329, 0.0), (330, 0.012394284042646581), (331, 0.0), (332, 0.0), (333, 0.01687696934235228), (334, 0.017340893882505058), (335, 0.02007168030359692), (336, 0.0), (337, 0.0), (338, 0.018383893420957576), (339, 0.0), (340, 0.02227513366245428), (341, 0.022838160501738758), (342, 0.0), (343, 0.0), (344, 0.06453800751013743), (345, 0.018935157621240477), (346, 0.03916150053391558), (347, 0.0), (348, 0.0), (349, 0.0), (350, 0.0), (351, 0.01413275835900352), (352, 0.0), (353, 0.0), (354, 0.0), (355, 0.0), (356, 0.0), (357, 0.03504870118580005), (358, 0.0), (359, 0.0), (360, 0.017761310024310986), (361, 0.020623385448372143), (362, 0.022672237409593034), (363, 0.021970994611245496), (364, 0.0), (365, 0.024629719366051468), (366, 0.016122175700142488), (367, 0.0), (368, 0.0), (369, 0.0), (370, 0.0), (371, 0.0), (372, 0.0), (373, 0.0), (374, 0.0), (375, 0.0), (376, 0.0), (377, 0.0), (378, 0.04999757716019987), (379, 0.0), (380, 0.0), (381, 0.0), (382, 0.0), (383, 0.017629876747582613), (384, 0.06592406568349381), (385, 0.0223956367768701), (386, 0.0), (387, 0.0), (388, 0.0), (389, 0.0), (390, 0.0), (391, 0.031176491227344044), (392, 0.06897579663071671), (393, 0.0), (394, 0.01721546461905035), (395, 0.0), (396, 0.0), (397, 0.0), (398, 0.0), (399, 0.1542490571984066), (400, 0.0), (401, 0.01898478060384485), (402, 0.0), (403, 0.0), (404, 0.03987826259438855), (405, 0.09954821533067809), (406, 0.0), (407, 0.01536768017590963), (408, 0.04668543443995316), (409, 0.01800249822801391), (410, 0.0731370394648146), (411, 0.0), (412, 0.0), (413, 0.021625934588440136), (414, 0.035521432104013484), (415, 0.0), (416, 0.0), (417, 0.0), (418, 0.0), (419, 0.0), (420, 0.0), (421, 0.013387784649586247), (422, 0.0), (423, 0.02051640061328102), (424, 0.0), (425, 0.0), (426, 0.0), (427, 0.0), (428, 0.0), (429, 0.0), (430, 0.0), (431, 0.0), (432, 0.0), (433, 0.015043471199119668), (434, 0.0), (435, 0.03563010636951908), (436, 0.0), (437, 0.02309144847669136), (438, 0.0), (439, 0.020162835808608025), (440, 0.0), (441, 0.0), (442, 0.0), (443, 0.05266600419551802), (444, 0.0), (445, 0.017869940996942144), (446, 0.0), (447, 0.02071129206882209), (448, 0.0), (449, 0.0), (450, 0.0), (451, 0.07168743088943472), (452, 0.0), (453, 0.04394003468043527), (454, 0.0), (455, 0.0), (456, 0.020663062160919156), (457, 0.017921072807854745), (458, 0.0), (459, 0.022197428525782027), (460, 0.0), (461, 0.025292833441344937), (462, 0.0), (463, 0.0628885255439541), (464, 0.023813926879178725), (465, 0.0), (466, 0.02159559967540993), (467, 0.0), (468, 0.0), (469, 0.016903605128333676), (470, 0.02426646233076399), (471, 0.0), (472, 0.020970411215299602), (473, 0.0), (474, 0.0), (475, 0.03506267937061532), (476, 0.0), (477, 0.0), (478, 0.0), (479, 0.0), (480, 0.0), (481, 0.0), (482, 0.0), (483, 0.0), (484, 0.0), (485, 0.02261882082758711), (486, 0.02140100815552431), (487, 0.0), (488, 0.0), (489, 0.0), (490, 0.01991839730652858), (491, 0.0), (492, 0.01741521050652182), (493, 0.0), (494, 0.0), (495, 0.04310765895453297), (496, 0.0), (497, 0.019403006974058133), (498, 0.07317049425688482), (499, 0.0), (500, 0.0), (501, 0.017027942410774478), (502, 0.0), (503, 0.0), (504, 0.0), (505, 0.0), (506, 0.016047829237384136), (507, 0.0), (508, 0.026475651701945945), (509, 0.0), (510, 0.015932637928537545), (511, 0.035298887935723944), (512, 0.0), (513, 0.0), (514, 0.0), (515, 0.0), (516, 0.0), (517, 0.022883387653922015), (518, 0.0), (519, 0.0204113132060209), (520, 0.050630882666113805), (521, 0.0), (522, 0.09102177258222485), (523, 0.0), (524, 0.0653232336390159), (525, 0.0), (526, 0.0), (527, 0.03333362069780197), (528, 0.041407091806931806), (529, 0.0), (530, 0.0), (531, 0.0), (532, 0.0), (533, 0.0), (534, 0.0), (535, 0.01943948838419109), (536, 0.0), (537, 0.0), (538, 0.0), (539, 0.046326974979931226), (540, 0.04466171841986992), (541, 0.04108719377097392), (542, 0.012298475143217167), (543, 0.0), (544, 0.0), (545, 0.06192084187398686), (546, 0.06207723143595468), (547, 0.0), (548, 0.0), (549, 0.018730475810183493), (550, 0.0), (551, 0.0), (552, 0.0), (553, 0.045795503492079136), (554, 0.0), (555, 0.0), (556, 0.022068848602825528), (557, 0.0), (558, 0.0), (559, 0.04216097036994582), (560, 0.0), (561, 0.013957222585479183), (562, 0.0), (563, 0.033095055515020705), (564, 0.0), (565, 0.0), (566, 0.0), (567, 0.0), (568, 0.0), (569, 0.06379349601621988), (570, 0.0), (571, 0.0), (572, 0.0), (573, 0.0), (574, 0.0), (575, 0.0), (576, 0.02311951679310825), (577, 0.0179464785067124), (578, 0.01891015577144781), (579, 0.0), (580, 0.0), (581, 0.0), (582, 0.0), (583, 0.017701468203740824), (584, 0.0), (585, 0.0), (586, 0.0), (587, 0.0), (588, 0.0), (589, 0.0), (590, 0.0), (591, 0.0), (592, 0.0), (593, 0.0), (594, 0.0), (595, 0.0), (596, 0.0), (597, 0.018611960600001098), (598, 0.0), (599, 0.0), (600, 0.0), (601, 0.0), (602, 0.0), (603, 0.0), (604, 0.0), (605, 0.0), (606, 0.0), (607, 0.0), (608, 0.0), (609, 0.015101268840724479), (610, 0.0), (611, 0.04633464028021578), (612, 0.021745024754584855), (613, 0.0), (614, 0.0), (615, 0.0), (616, 0.0), (617, 0.0), (618, 0.0), (619, 0.0), (620, 0.0), (621, 0.05352323164152219), (622, 0.04184079880615799), (623, 0.0), (624, 0.0), (625, 0.0), (626, 0.0), (627, 0.0), (628, 0.0), (629, 0.0), (630, 0.0), (631, 0.0), (632, 0.0), (633, 0.0), (634, 0.0), (635, 0.0), (636, 0.0), (637, 0.023174904309074228), (638, 0.01746190060496355), (639, 0.0), (640, 0.015369054724303695), (641, 0.015409352794144538), (642, 0.16097327795528116), (643, 0.0), (644, 0.0), (645, 0.0187628004555905), (646, 0.0), (647, 0.0), (648, 0.0), (649, 0.0), (650, 0.0), (651, 0.13041956580424768), (652, 0.0), (653, 0.0), (654, 0.0), (655, 0.020173288145977082), (656, 0.06739879115478926), (657, 0.017390464673634892), (658, 0.04241834527408911), (659, 0.01816729778999697), (660, 0.05620999750068882), (661, 0.0), (662, 0.039289992221032494), (663, 0.0), (664, 0.0), (665, 0.09174497110049398), (666, 0.0), (667, 0.0), (668, 0.0), (669, 0.0), (670, 0.0), (671, 0.0), (672, 0.0), (673, 0.0), (674, 0.0), (675, 0.0), (676, 0.0), (677, 0.0), (678, 0.0), (679, 0.024364841043811064), (680, 0.0), (681, 0.0), (682, 0.0), (683, 0.0), (684, 0.0), (685, 0.0), (686, 0.02266743846643774), (687, 0.0), (688, 0.02345005638013744), (689, 0.07453781322054555), (690, 0.01760784777962138), (691, 0.13253206800539372), (692, 0.0), (693, 0.0), (694, 0.0), (695, 0.0), (696, 0.021248405118681642), (697, 0.0), (698, 0.0), (699, 0.03742735433552848), (700, 0.022002741012008636), (701, 0.0), (702, 0.018418848858648192), (703, 0.01652714286171454), (704, 0.0), (705, 0.0), (706, 0.014697106166554511), (707, 0.0), (708, 0.0), (709, 0.030612209246995748), (710, 0.017311842579919648), (711, 0.0), (712, 0.07703551623510813), (713, 0.037770615477518386), (714, 0.0), (715, 0.024837122079636734), (716, 0.0), (717, 0.022976598606282945), (718, 0.0), (719, 0.015614312705161509), (720, 0.02420774882076415), (721, 0.0), (722, 0.0), (723, 0.0), (724, 0.021947301675802194), (725, 0.016383719957288146), (726, 0.04782447880570974), (727, 0.0), (728, 0.0), (729, 0.0), (730, 0.022734158872817593), (731, 0.0), (732, 0.0), (733, 0.01788728222441263), (734, 0.0), (735, 0.0), (736, 0.0), (737, 0.0), (738, 0.029811268694927524), (739, 0.0), (740, 0.011735248121269772), (741, 0.04755516515348604), (742, 0.047358618017433865), (743, 0.02133923865620453), (744, 0.0), (745, 0.01858441451825243), (746, 0.05507686471303181), (747, 0.0), (748, 0.0), (749, 0.0), (750, 0.0), (751, 0.0), (752, 0.02090415567244155), (753, 0.02701790950993182), (754, 0.0), (755, 0.0), (756, 0.04402460414827272), (757, 0.03540532145535396), (758, 0.05385185506591309), (759, 0.0), (760, 0.0), (761, 0.0), (762, 0.0), (763, 0.0), (764, 0.0), (765, 0.0), (766, 0.0), (767, 0.021171880256559864), (768, 0.0), (769, 0.0), (770, 0.0), (771, 0.11104945673723741), (772, 0.06727046809272842), (773, 0.018094288430333446), (774, 0.0), (775, 0.0), (776, 0.0), (777, 0.0), (778, 0.0), (779, 0.0), (780, 0.0), (781, 0.06275528037514452), (782, 0.0), (783, 0.0), (784, 0.0), (785, 0.10921525618435979), (786, 0.01689766753386544), (787, 0.011320486306824478), (788, 0.06475621135585943), (789, 0.0), (790, 0.0), (791, 0.06316784305141457), (792, 0.0), (793, 0.0), (794, 0.02451988508761313), (795, 0.0), (796, 0.0), (797, 0.02249744635965356), (798, 0.0), (799, 0.0), (800, 0.0), (801, 0.01833214754993737), (802, 0.02335562856181395), (803, 0.0), (804, 0.11048955728480508), (805, 0.0), (806, 0.020836587594560307), (807, 0.07075539474222907), (808, 0.0), (809, 0.02112329752090182), (810, 0.018618506278313917), (811, 0.0), (812, 0.0), (813, 0.0), (814, 0.02167508803858133), (815, 0.0), (816, 0.04873867849852084), (817, 0.0), (818, 0.0), (819, 0.0), (820, 0.05260734824852809), (821, 0.0), (822, 0.019522712443504682), (823, 0.0), (824, 0.024957718042523412), (825, 0.0), (826, 0.0), (827, 0.06799748433777937), (828, 0.0), (829, 0.01714732062852759), (830, 0.0), (831, 0.03312472098677675), (832, 0.0), (833, 0.0), (834, 0.0), (835, 0.0), (836, 0.017033737301363157), (837, 0.0), (838, 0.0), (839, 0.0), (840, 0.0), (841, 0.0), (842, 0.06839506275396816), (843, 0.0), (844, 0.0), (845, 0.020710803839292802), (846, 0.020464931431433842), (847, 0.0), (848, 0.0), (849, 0.0), (850, 0.0), (851, 0.0), (852, 0.0), (853, 0.09640452157980575), (854, 0.01814886772517905), (855, 0.0), (856, 0.0), (857, 0.0), (858, 0.0), (859, 0.08290995229624401), (860, 0.0), (861, 0.0), (862, 0.0), (863, 0.0), (864, 0.0), (865, 0.019259014734209556), (866, 0.0), (867, 0.0), (868, 0.0), (869, 0.0), (870, 0.0), (871, 0.0), (872, 0.0), (873, 0.0), (874, 0.0), (875, 0.0), (876, 0.0), (877, 0.0), (878, 0.0), (879, 0.1313272259690616), (880, 0.0), (881, 0.0), (882, 0.0), (883, 0.0), (884, 0.0), (885, 0.0), (886, 0.0), (887, 0.0), (888, 0.0), (889, 0.0), (890, 0.0), (891, 0.024448751781096408), (892, 0.017476552437445628), (893, 0.0), (894, 0.06555060285412653), (895, 0.01709519295108934), (896, 0.022329496034683132), (897, 0.0), (898, 0.017796188499978546), (899, 0.0), (900, 0.0), (901, 0.0), (902, 0.0), (903, 0.0), (904, 0.0), (905, 0.07204517616309955), (906, 0.0), (907, 0.0), (908, 0.021905019083479114), (909, 0.02145959464679911), (910, 0.0), (911, 0.0), (912, 0.03607293370571572), (913, 0.0), (914, 0.0), (915, 0.0), (916, 0.0), (917, 0.0), (918, 0.0213585475381145), (919, 0.0), (920, 0.03672402409594418), (921, 0.0), (922, 0.0), (923, 0.0), (924, 0.0), (925, 0.0), (926, 0.014110176519740619), (927, 0.0), (928, 0.0), (929, 0.018366329034330966), (930, 0.0), (931, 0.02022340850423131), (932, 0.06558033555513389), (933, 0.0), (934, 0.0), (935, 0.0), (936, 0.0), (937, 0.0), (938, 0.12238470038638884), (939, 0.06518901843763186), (940, 0.012712556136274422), (941, 0.0), (942, 0.0), (943, 0.0), (944, 0.0), (945, 0.0), (946, 0.04190493472894315), (947, 0.0), (948, 0.0), (949, 0.0), (950, 0.0), (951, 0.0), (952, 0.0), (953, 0.12314446283053637), (954, 0.0), (955, 0.0), (956, 0.022121150241837577), (957, 0.01790004689664674), (958, 0.0), (959, 0.0), (960, 0.0), (961, 0.06743566077629475), (962, 0.0), (963, 0.0), (964, 0.06491948171254294), (965, 0.0), (966, 0.0), (967, 0.0), (968, 0.0), (969, 0.0), (970, 0.0), (971, 0.07603133244236283), (972, 0.0), (973, 0.0), (974, 0.05197158128389605), (975, 0.0), (976, 0.0), (977, 0.02358107199240321), (978, 0.017683184055720683), (979, 0.0), (980, 0.0), (981, 0.0615793364643468), (982, 0.0), (983, 0.0), (984, 0.07145638390618532), (985, 0.05333058423139416), (986, 0.0), (987, 0.02122304696497085), (988, 0.0), (989, 0.042299301937358334), (990, 0.0), (991, 0.0), (992, 0.0), (993, 0.0), (994, 0.0), (995, 0.0), (996, 0.0), (997, 0.0), (998, 0.0), (999, 0.0), (1000, 0.0), (1001, 0.06889583878750274), (1002, 0.04767519207440626), (1003, 0.0), (1004, 0.0), (1005, 0.0), (1006, 0.0), (1007, 0.0), (1008, 0.016471606882547313), (1009, 0.07065890536150342), (1010, 0.0), (1011, 0.02318078045778594), (1012, 0.0), (1013, 0.021633691888608496), (1014, 0.05157204532238285), (1015, 0.0), (1016, 0.01710028727437204), (1017, 0.0986855847171486), (1018, 0.0), (1019, 0.0), (1020, 0.0), (1021, 0.0), (1022, 0.0), (1023, 0.0), (1024, 0.0), (1025, 0.017529682232149325), (1026, 0.01820059978657506), (1027, 0.0), (1028, 0.0), (1029, 0.0), (1030, 0.0), (1031, 0.0), (1032, 0.0), (1033, 0.0), (1034, 0.018658267710018103), (1035, 0.022657696586406234), (1036, 0.019081180905041108), (1037, 0.0), (1038, 0.0), (1039, 0.0), (1040, 0.0), (1041, 0.019496008325651088), (1042, 0.018353650011413553), (1043, 0.0), (1044, 0.0189122446295002), (1045, 0.0), (1046, 0.0), (1047, 0.0), (1048, 0.0), (1049, 0.0), (1050, 0.0), (1051, 0.0), (1052, 0.0), (1053, 0.0), (1054, 0.0), (1055, 0.0), (1056, 0.0), (1057, 0.0), (1058, 0.0), (1059, 0.0), (1060, 0.0), (1061, 0.016790731879499178), (1062, 0.03351291173561762), (1063, 0.0), (1064, 0.0), (1065, 0.0), (1066, 0.0), (1067, 0.0383593552234518), (1068, 0.0), (1069, 0.0), (1070, 0.0), (1071, 0.0), (1072, 0.0), (1073, 0.0), (1074, 0.07541955966924768), (1075, 0.0), (1076, 0.019293656182031334), (1077, 0.0), (1078, 0.0), (1079, 0.09156235232600642), (1080, 0.0), (1081, 0.0), (1082, 0.04288587423886855), (1083, 0.0), (1084, 0.04045981662082579), (1085, 0.01997156681593879), (1086, 0.07178450854244048), (1087, 0.0), (1088, 0.01585192162691185), (1089, 0.0597538866475498), (1090, 0.016143558345838763), (1091, 0.0), (1092, 0.0), (1093, 0.0), (1094, 0.0), (1095, 0.0), (1096, 0.0), (1097, 0.0), (1098, 0.04581276397555078), (1099, 0.0), (1100, 0.0), (1101, 0.09000011072913817), (1102, 0.0), (1103, 0.05723351867802899), (1104, 0.0), (1105, 0.0), (1106, 0.0), (1107, 0.0), (1108, 0.0), (1109, 0.0), (1110, 0.0), (1111, 0.0), (1112, 0.0), (1113, 0.0), (1114, 0.01805709170661789), (1115, 0.0), (1116, 0.04530667801026064), (1117, 0.0), (1118, 0.018005700204696943), (1119, 0.021447855832005442), (1120, 0.0), (1121, 0.0), (1122, 0.11626970888409179), (1123, 0.0), (1124, 0.0), (1125, 0.0), (1126, 0.0), (1127, 0.0), (1128, 0.0), (1129, 0.0), (1130, 0.064164644966448), (1131, 0.0), (1132, 0.0), (1133, 0.0), (1134, 0.0), (1135, 0.0), (1136, 0.0), (1137, 0.016081212417721896), (1138, 0.0), (1139, 0.0), (1140, 0.02133283026622844), (1141, 0.023183937479767016), (1142, 0.0803548962212241), (1143, 0.0), (1144, 0.01730295082242987), (1145, 0.0), (1146, 0.0), (1147, 0.0), (1148, 0.0), (1149, 0.0), (1150, 0.0), (1151, 0.0), (1152, 0.0), (1153, 0.0), (1154, 0.0), (1155, 0.02171459156847039), (1156, 0.0), (1157, 0.1090023080240561), (1158, 0.0), (1159, 0.0), (1160, 0.0), (1161, 0.0), (1162, 0.0), (1163, 0.0), (1164, 0.0), (1165, 0.020457010859870468), (1166, 0.07630760110698541), (1167, 0.0), (1168, 0.023462587672286563), (1169, 0.0), (1170, 0.0), (1171, 0.0), (1172, 0.0), (1173, 0.04381211979670208), (1174, 0.0), (1175, 0.0), (1176, 0.0), (1177, 0.0), (1178, 0.0), (1179, 0.0), (1180, 0.01860388645473454), (1181, 0.0), (1182, 0.0209673815938087), (1183, 0.0), (1184, 0.0), (1185, 0.0), (1186, 0.01736064395543014), (1187, 0.0), (1188, 0.0), (1189, 0.0), (1190, 0.0), (1191, 0.019546483411229748), (1192, 0.0), (1193, 0.0), (1194, 0.0), (1195, 0.02143193975349236), (1196, 0.0190774507600901), (1197, 0.019267682457467395), (1198, 0.021106143224388457), (1199, 0.0), (1200, 0.0), (1201, 0.06084158033002831), (1202, 0.0), (1203, 0.0), (1204, 0.021069722402673175), (1205, 0.0), (1206, 0.08597582871864207), (1207, 0.06206319031085336), (1208, 0.0), (1209, 0.0), (1210, 0.0), (1211, 0.0), (1212, 0.0), (1213, 0.07854218196453656), (1214, 0.0), (1215, 0.018568311844361134), (1216, 0.0), (1217, 0.0729220588346372), (1218, 0.0), (1219, 0.017072591603360613), (1220, 0.0), (1221, 0.035877467298667184), (1222, 0.015591367857377577), (1223, 0.020872569694449474), (1224, 0.0), (1225, 0.02233580333287895), (1226, 0.0), (1227, 0.0), (1228, 0.0), (1229, 0.02075288151528645), (1230, 0.0), (1231, 0.0), (1232, 0.05130136964128172), (1233, 0.02169959273133562), (1234, 0.0), (1235, 0.019403072425352486), (1236, 0.0), (1237, 0.0), (1238, 0.0), (1239, 0.0), (1240, 0.0), (1241, 0.0), (1242, 0.0), (1243, 0.11032422749639643), (1244, 0.0), (1245, 0.07982832654083073), (1246, 0.024817473796922465), (1247, 0.0), (1248, 0.0), (1249, 0.0756877214596097), (1250, 0.04765960611333381), (1251, 0.01643923824175781), (1252, 0.0), (1253, 0.0), (1254, 0.0), (1255, 0.06529198004727897), (1256, 0.0662529606430724), (1257, 0.020851009638023155), (1258, 0.0), (1259, 0.0), (1260, 0.0), (1261, 0.06996221011084562), (1262, 0.0), (1263, 0.0), (1264, 0.0), (1265, 0.0), (1266, 0.0), (1267, 0.0), (1268, 0.016815804577517798), (1269, 0.0), (1270, 0.09698361323675048), (1271, 0.0), (1272, 0.0), (1273, 0.0), (1274, 0.0), (1275, 0.0), (1276, 0.0), (1277, 0.0), (1278, 0.0), (1279, 0.08370060485125318), (1280, 0.0), (1281, 0.0), (1282, 0.0), (1283, 0.0), (1284, 0.01816607586736674), (1285, 0.0), (1286, 0.0), (1287, 0.0), (1288, 0.0), (1289, 0.0), (1290, 0.13606207652298916), (1291, 0.01791811547224075), (1292, 0.05001486134121212), (1293, 0.0), (1294, 0.0), (1295, 0.0), (1296, 0.015086620695343856), (1297, 0.0), (1298, 0.03916183290165414), (1299, 0.0), (1300, 0.03186528361328218), (1301, 0.0), (1302, 0.0), (1303, 0.0), (1304, 0.01940643367624354), (1305, 0.0), (1306, 0.05241421332689033), (1307, 0.01820208735627875), (1308, 0.03604005689050356), (1309, 0.016297737298170044), (1310, 0.017324158877829635), (1311, 0.0), (1312, 0.06440175342269293), (1313, 0.0), (1314, 0.0), (1315, 0.0), (1316, 0.0), (1317, 0.01577191931976327), (1318, 0.058985035560178506), (1319, 0.0), (1320, 0.0), (1321, 0.05464403499598161), (1322, 0.0), (1323, 0.0), (1324, 0.0), (1325, 0.0), (1326, 0.0), (1327, 0.020237405536730688), (1328, 0.022678947262331023), (1329, 0.0), (1330, 0.020818384937907636), (1331, 0.0), (1332, 0.0), (1333, 0.02157186923470103), (1334, 0.0), (1335, 0.07053451205648208), (1336, 0.021849996430232606), (1337, 0.0), (1338, 0.0), (1339, 0.0480750063615956), (1340, 0.0), (1341, 0.0), (1342, 0.0), (1343, 0.0), (1344, 0.12317943927187378), (1345, 0.0), (1346, 0.0), (1347, 0.0), (1348, 0.0), (1349, 0.0), (1350, 0.0), (1351, 0.013150354989069479), (1352, 0.0), (1353, 0.06930708469804078), (1354, 0.03429889014098454), (1355, 0.0), (1356, 0.0), (1357, 0.01841425224317219), (1358, 0.020548169102713607), (1359, 0.0), (1360, 0.0), (1361, 0.02092540423404985), (1362, 0.06673457439633458), (1363, 0.0), (1364, 0.0), (1365, 0.016125145032603178), (1366, 0.0), (1367, 0.0), (1368, 0.01950062499925359), (1369, 0.0), (1370, 0.018757652895552795), (1371, 0.0), (1372, 0.0), (1373, 0.019396921508552534), (1374, 0.0), (1375, 0.0), (1376, 0.0), (1377, 0.0), (1378, 0.0), (1379, 0.06992401643179882), (1380, 0.0), (1381, 0.0), (1382, 0.020565311012159422), (1383, 0.0), (1384, 0.01771132075309408), (1385, 0.0), (1386, 0.0), (1387, 0.01643045586742045), (1388, 0.05605730158003237), (1389, 0.04177042956823342), (1390, 0.0), (1391, 0.0), (1392, 0.0), (1393, 0.1540314277073474), (1394, 0.01680312834859647), (1395, 0.0), (1396, 0.0), (1397, 0.0), (1398, 0.0), (1399, 0.0), (1400, 0.0), (1401, 0.0), (1402, 0.021703010870545665), (1403, 0.0), (1404, 0.0), (1405, 0.016847891102082627), (1406, 0.0), (1407, 0.049399583019582256), (1408, 0.0), (1409, 0.0), (1410, 0.0), (1411, 0.02143685505541393), (1412, 0.019570315834035786), (1413, 0.0), (1414, 0.0), (1415, 0.0), (1416, 0.018907183939065313), (1417, 0.0), (1418, 0.0), (1419, 0.04804205934957628), (1420, 0.0), (1421, 0.018398287152510472), (1422, 0.0), (1423, 0.017948731272398044), (1424, 0.0), (1425, 0.04114746964960096), (1426, 0.0), (1427, 0.0), (1428, 0.03963107663040211), (1429, 0.0), (1430, 0.0), (1431, 0.02198683320696037), (1432, 0.0), (1433, 0.11595067323899332), (1434, 0.0), (1435, 0.021093052770268163), (1436, 0.0), (1437, 0.0), (1438, 0.0), (1439, 0.0), (1440, 0.0), (1441, 0.0), (1442, 0.0), (1443, 0.0), (1444, 0.0), (1445, 0.0), (1446, 0.0), (1447, 0.0), (1448, 0.0), (1449, 0.0), (1450, 0.0), (1451, 0.020263112154427724), (1452, 0.0), (1453, 0.0), (1454, 0.0), (1455, 0.0), (1456, 0.017293833225255725), (1457, 0.017560791953860785), (1458, 0.0), (1459, 0.02178331783291679), (1460, 0.02222799806923699), (1461, 0.0201811628132352), (1462, 0.0), (1463, 0.03994538309075202), (1464, 0.0401266447141109), (1465, 0.0), (1466, 0.026095999144695563), (1467, 0.0), (1468, 0.0), (1469, 0.0), (1470, 0.0), (1471, 0.0), (1472, 0.020198542824455264), (1473, 0.0), (1474, 0.022701495495682403), (1475, 0.0), (1476, 0.021436112641416403), (1477, 0.017540633718628813), (1478, 0.0), (1479, 0.05726760710723561), (1480, 0.018365857893279845), (1481, 0.04731644132796647), (1482, 0.03336807403768991), (1483, 0.0), (1484, 0.0), (1485, 0.03650545261404439), (1486, 0.08588484515119095), (1487, 0.06245652489015483), (1488, 0.0), (1489, 0.07224578601041741), (1490, 0.0), (1491, 0.0), (1492, 0.016425573638089625), (1493, 0.0), (1494, 0.05451252663284139), (1495, 0.019129521543635224), (1496, 0.03600912312380953), (1497, 0.0), (1498, 0.0), (1499, 0.0), (1500, 0.0), (1501, 0.0), (1502, 0.0), (1503, 0.0), (1504, 0.0), (1505, 0.020240232293763236), (1506, 0.012001775673434129), (1507, 0.0), (1508, 0.0), (1509, 0.0), (1510, 0.0), (1511, 0.0), (1512, 0.0), (1513, 0.0235088459854875), (1514, 0.0), (1515, 0.0), (1516, 0.0), (1517, 0.10114135213608962), (1518, 0.02165016961441416), (1519, 0.0), (1520, 0.02508005060082002), (1521, 0.056689796529033595), (1522, 0.02106297311443875), (1523, 0.0314347883822471), (1524, 0.05234301929690833), (1525, 0.021374057459555347), (1526, 0.0), (1527, 0.0), (1528, 0.09305204346704879), (1529, 0.038129816730406586), (1530, 0.0), (1531, 0.022636696334426082), (1532, 0.0), (1533, 0.0), (1534, 0.022047452006702155), (1535, 0.0), (1536, 0.0), (1537, 0.06678330258631347), (1538, 0.0), (1539, 0.019438915245830673), (1540, 0.0), (1541, 0.02051239294366096), (1542, 0.0), (1543, 0.019011147005251312), (1544, 0.0), (1545, 0.0), (1546, 0.03810267779472004), (1547, 0.0), (1548, 0.0), (1549, 0.0), (1550, 0.04304552216398976), (1551, 0.0), (1552, 0.01973979365053237), (1553, 0.0), (1554, 0.024221190470277616), (1555, 0.017945143455178426), (1556, 0.0), (1557, 0.0394011900882879), (1558, 0.0), (1559, 0.0), (1560, 0.0), (1561, 0.019249695807646558), (1562, 0.0), (1563, 0.0), (1564, 0.0), (1565, 0.0), (1566, 0.0), (1567, 0.0), (1568, 0.0), (1569, 0.0), (1570, 0.0), (1571, 0.05970779995234523), (1572, 0.0), (1573, 0.0), (1574, 0.0), (1575, 0.05081830769398111), (1576, 0.0), (1577, 0.0), (1578, 0.04310994496738689), (1579, 0.0), (1580, 0.0), (1581, 0.05638882149775614), (1582, 0.0), (1583, 0.0), (1584, 0.03766764070266704), (1585, 0.0), (1586, 0.0), (1587, 0.02070764803051922), (1588, 0.0), (1589, 0.01956515657487939), (1590, 0.0), (1591, 0.0), (1592, 0.03758781872155097), (1593, 0.0), (1594, 0.050809290843862646), (1595, 0.0), (1596, 0.0), (1597, 0.01835126189222398), (1598, 0.02064402182875552), (1599, 0.0), (1600, 0.02280705497652505), (1601, 0.016254149407042125), (1602, 0.020152552145458306), (1603, 0.0), (1604, 0.02328427626869699), (1605, 0.0), (1606, 0.020393529479004417), (1607, 0.019298552219643394), (1608, 0.0), (1609, 0.0), (1610, 0.037087273865017645), (1611, 0.07733741402673268), (1612, 0.0), (1613, 0.022267115903416755), (1614, 0.04672223701442931), (1615, 0.02757370194399935), (1616, 0.0), (1617, 0.0), (1618, 0.0), (1619, 0.0), (1620, 0.0), (1621, 0.08741407636344146), (1622, 0.0), (1623, 0.0), (1624, 0.0), (1625, 0.0), (1626, 0.04807162700274914), (1627, 0.0), (1628, 0.0), (1629, 0.0), (1630, 0.0), (1631, 0.0), (1632, 0.0), (1633, 0.0), (1634, 0.06775917990183605), (1635, 0.0), (1636, 0.0), (1637, 0.0), (1638, 0.0), (1639, 0.01688261180923098), (1640, 0.02187448395531889), (1641, 0.0), (1642, 0.0), (1643, 0.0), (1644, 0.0), (1645, 0.11032374965839514), (1646, 0.19185733177853936), (1647, 0.0), (1648, 0.04059259734564741), (1649, 0.018187833658708942), (1650, 0.0), (1651, 0.0), (1652, 0.0), (1653, 0.0), (1654, 0.07055126416074818), (1655, 0.0), (1656, 0.0), (1657, 0.01878283462013915), (1658, 0.0), (1659, 0.0), (1660, 0.0), (1661, 0.0), (1662, 0.0), (1663, 0.01926861192369675), (1664, 0.019309606829569954), (1665, 0.0), (1666, 0.0), (1667, 0.0), (1668, 0.0), (1669, 0.0), (1670, 0.022863494733837666), (1671, 0.0), (1672, 0.0), (1673, 0.018910303809817414), (1674, 0.0), (1675, 0.0), (1676, 0.015707468759355258), (1677, 0.02899411644563802), (1678, 0.03793762632381598), (1679, 0.0), (1680, 0.0), (1681, 0.0), (1682, 0.01849857298965679), (1683, 0.029058267863925524), (1684, 0.018359964479266702), (1685, 0.0), (1686, 0.0), (1687, 0.0), (1688, 0.0), (1689, 0.0), (1690, 0.06561844580965567), (1691, 0.04022731501511594), (1692, 0.05588466005134503), (1693, 0.0), (1694, 0.0), (1695, 0.04557428096805524), (1696, 0.04742518117824698), (1697, 0.020202471365388407), (1698, 0.05801361347079763), (1699, 0.0), (1700, 0.01955540567054979), (1701, 0.0), (1702, 0.0), (1703, 0.0), (1704, 0.020646992834365555), (1705, 0.0), (1706, 0.04297345474471506), (1707, 0.0), (1708, 0.0), (1709, 0.0), (1710, 0.0), (1711, 0.029076244975168843), (1712, 0.0), (1713, 0.02726426020485078), (1714, 0.034019390374160866), (1715, 0.0), (1716, 0.0), (1717, 0.0), (1718, 0.0), (1719, 0.0), (1720, 0.020807713075103672), (1721, 0.0), (1722, 0.0), (1723, 0.0), (1724, 0.0), (1725, 0.0), (1726, 0.02045271796164393), (1727, 0.0), (1728, 0.0), (1729, 0.0), (1730, 0.0), (1731, 0.02277229094984206), (1732, 0.0), (1733, 0.0), (1734, 0.0), (1735, 0.0), (1736, 0.0), (1737, 0.023377392829261174), (1738, 0.0), (1739, 0.0184950471606144), (1740, 0.0), (1741, 0.0), (1742, 0.0), (1743, 0.0), (1744, 0.039973580673883236), (1745, 0.0722649482862258), (1746, 0.0), (1747, 0.0), (1748, 0.0), (1749, 0.0), (1750, 0.0), (1751, 0.0), (1752, 0.05746305963190582), (1753, 0.0), (1754, 0.0), (1755, 0.020954476599152005), (1756, 0.0), (1757, 0.06902976675730071), (1758, 0.029639689761875393), (1759, 0.0), (1760, 0.0), (1761, 0.0), (1762, 0.0), (1763, 0.0), (1764, 0.0182046584582062), (1765, 0.0), (1766, 0.02427324752179051), (1767, 0.03587752112941738), (1768, 0.02155841780107166), (1769, 0.02090657851386956), (1770, 0.0), (1771, 0.01891375902700567), (1772, 0.0), (1773, 0.0), (1774, 0.0), (1775, 0.0), (1776, 0.0), (1777, 0.04060388237277924), (1778, 0.0), (1779, 0.0), (1780, 0.03372557178765598), (1781, 0.08205409300548), (1782, 0.0), (1783, 0.03824969413830834), (1784, 0.03662984381157692), (1785, 0.0), (1786, 0.0), (1787, 0.06585836659595629), (1788, 0.0), (1789, 0.0), (1790, 0.0), (1791, 0.0), (1792, 0.0), (1793, 0.0), (1794, 0.06879040523899256), (1795, 0.04774398747290389), (1796, 0.0), (1797, 0.0), (1798, 0.0), (1799, 0.0), (1800, 0.018793701467116616), (1801, 0.0), (1802, 0.0), (1803, 0.08490182605225775), (1804, 0.021416496858272637), (1805, 0.0), (1806, 0.0), (1807, 0.0), (1808, 0.0), (1809, 0.0), (1810, 0.018089761241394504), (1811, 0.0), (1812, 0.0), (1813, 0.0), (1814, 0.03836931821542135), (1815, 0.0), (1816, 0.0), (1817, 0.08123485036784145), (1818, 0.01823640429049182), (1819, 0.0), (1820, 0.02008667812384395), (1821, 0.0), (1822, 0.0), (1823, 0.047478847260404335), (1824, 0.019586260138182723), (1825, 0.0), (1826, 0.0), (1827, 0.01792154323135228), (1828, 0.0), (1829, 0.05998476910371705), (1830, 0.01780981808501992), (1831, 0.0), (1832, 0.0), (1833, 0.0), (1834, 0.0), (1835, 0.0), (1836, 0.0), (1837, 0.018795371907395074), (1838, 0.0), (1839, 0.022027311320233497), (1840, 0.03419105912646315), (1841, 0.019541932621019904), (1842, 0.3721069502980919), (1843, 0.025452349585748085), (1844, 0.04658533744614965), (1845, 0.01600965520652476), (1846, 0.02075374141814275), (1847, 0.0), (1848, 0.0), (1849, 0.01929136265199611), (1850, 0.05048623611993342), (1851, 0.0), (1852, 0.0), (1853, 0.0), (1854, 0.019476989708747193), (1855, 0.0), (1856, 0.0), (1857, 0.023225267320954073), (1858, 0.0), (1859, 0.0), (1860, 0.0), (1861, 0.11269948664723123), (1862, 0.0), (1863, 0.018524244962292255), (1864, 0.0), (1865, 0.0), (1866, 0.0), (1867, 0.07068573412218823), (1868, 0.0), (1869, 0.0669805213723336), (1870, 0.0), (1871, 0.0), (1872, 0.0), (1873, 0.04522961596662044), (1874, 0.0), (1875, 0.019876688121239567), (1876, 0.0), (1877, 0.0), (1878, 0.03839988619057632), (1879, 0.0), (1880, 0.0), (1881, 0.0), (1882, 0.0), (1883, 0.05190536193122109), (1884, 0.0), (1885, 0.0), (1886, 0.0), (1887, 0.0), (1888, 0.0), (1889, 0.02038720086067259), (1890, 0.05917183615444449), (1891, 0.020428494387941195), (1892, 0.0), (1893, 0.0), (1894, 0.0), (1895, 0.017146399640076592), (1896, 0.0), (1897, 0.0), (1898, 0.019446952548557137), (1899, 0.023034401005112688), (1900, 0.0), (1901, 0.0), (1902, 0.022090703910498236), (1903, 0.0), (1904, 0.0), (1905, 0.0), (1906, 0.0), (1907, 0.0), (1908, 0.0), (1909, 0.0), (1910, 0.0), (1911, 0.020738844329109964), (1912, 0.0), (1913, 0.040642958692465356), (1914, 0.0), (1915, 0.037079273367065), (1916, 0.0), (1917, 0.0), (1918, 0.021397266454207704), (1919, 0.012240626645331047), (1920, 0.0), (1921, 0.0), (1922, 0.0), (1923, 0.025206626268576393), (1924, 0.0), (1925, 0.032912128224278865), (1926, 0.0), (1927, 0.0), (1928, 0.08690191292803082), (1929, 0.0), (1930, 0.021438906025494052), (1931, 0.0), (1932, 0.1378903753931722), (1933, 0.0), (1934, 0.0), (1935, 0.047145383039779734), (1936, 0.02104761283528316), (1937, 0.11521571239308812), (1938, 0.0), (1939, 0.0), (1940, 0.026220953553763103), (1941, 0.0), (1942, 0.0), (1943, 0.016567212022539676), (1944, 0.0), (1945, 0.0), (1946, 0.0), (1947, 0.0), (1948, 0.0), (1949, 0.0), (1950, 0.015936486535644223), (1951, 0.06421433622633935), (1952, 0.0), (1953, 0.0), (1954, 0.018404085661079057), (1955, 0.020647351026594454), (1956, 0.0), (1957, 0.0), (1958, 0.06056335860118908), (1959, 0.0), (1960, 0.0), (1961, 0.020976057206454273), (1962, 0.0), (1963, 0.014528606152748097), (1964, 0.01782692538420705), (1965, 0.0), (1966, 0.0), (1967, 0.0), (1968, 0.024549603581568293), (1969, 0.0), (1970, 0.0), (1971, 0.015379357831669575), (1972, 0.0), (1973, 0.08785920762058545), (1974, 0.0), (1975, 0.0), (1976, 0.0), (1977, 0.0), (1978, 0.01632489785226707), (1979, 0.04136056857332169), (1980, 0.0), (1981, 0.031306169223648476), (1982, 0.0), (1983, 0.0), (1984, 0.0), (1985, 0.0), (1986, 0.0), (1987, 0.019861631457728925), (1988, 0.0), (1989, 0.0), (1990, 0.0), (1991, 0.0), (1992, 0.019177055447423836), (1993, 0.0), (1994, 0.0), (1995, 0.0), (1996, 0.0), (1997, 0.0), (1998, 0.043341836624735314), (1999, 0.023629182148760707), (2000, 0.0), (2001, 0.0), (2002, 0.0), (2003, 0.0), (2004, 0.0), (2005, 0.017420205350927635), (2006, 0.01633989969735671), (2007, 0.017202589511677576), (2008, 0.0), (2009, 0.0), (2010, 0.0), (2011, 0.0), (2012, 0.0), (2013, 0.018055853413682897), (2014, 0.04190837775689795), (2015, 0.0), (2016, 0.0), (2017, 0.0), (2018, 0.0), (2019, 0.07447185137377184), (2020, 0.0), (2021, 0.0), (2022, 0.014580482455360986), (2023, 0.0), (2024, 0.0), (2025, 0.06738493417564431), (2026, 0.0), (2027, 0.0), (2028, 0.0), (2029, 0.0), (2030, 0.021062136343933408), (2031, 0.0), (2032, 0.0), (2033, 0.0), (2034, 0.06596546303739574), (2035, 0.03256360402022644), (2036, 0.0), (2037, 0.0), (2038, 0.0), (2039, 0.034365980738478075), (2040, 0.0), (2041, 0.022087769773692777), (2042, 0.0), (2043, 0.01725946033927507), (2044, 0.0), (2045, 0.0), (2046, 0.021544136965002614), (2047, 0.016631418863084536), (2048, 0.0), (2049, 0.02652271904716198), (2050, 0.06927224604901748), (2051, 0.0), (2052, 0.024389371585511944), (2053, 0.0), (2054, 0.02754662156333544), (2055, 0.017495547114941334), (2056, 0.0), (2057, 0.0), (2058, 0.0), (2059, 0.0), (2060, 0.0), (2061, 0.0), (2062, 0.0), (2063, 0.0), (2064, 0.0), (2065, 0.0), (2066, 0.0), (2067, 0.0), (2068, 0.0), (2069, 0.0), (2070, 0.015784677332761503), (2071, 0.0), (2072, 0.0), (2073, 0.04835291830037493), (2074, 0.058567527171829524), (2075, 0.0), (2076, 0.0), (2077, 0.0), (2078, 0.015220109341721931), (2079, 0.023618628506972075), (2080, 0.0), (2081, 0.0), (2082, 0.022797628830912905), (2083, 0.0), (2084, 0.0), (2085, 0.046010437239221894), (2086, 0.06799307256768579), (2087, 0.022036271167685636), (2088, 0.0), (2089, 0.0), (2090, 0.0), (2091, 0.0), (2092, 0.0), (2093, 0.017211631691640264), (2094, 0.0), (2095, 0.020651190371588923), (2096, 0.0), (2097, 0.0), (2098, 0.0), (2099, 0.018728955211617236), (2100, 0.03827772608367121), (2101, 0.0), (2102, 0.0), (2103, 0.0), (2104, 0.0), (2105, 0.0), (2106, 0.0), (2107, 0.0), (2108, 0.0), (2109, 0.0), (2110, 0.0), (2111, 0.019074653144405544), (2112, 0.022760850363506006), (2113, 0.0), (2114, 0.015656730930624876), (2115, 0.0), (2116, 0.0), (2117, 0.020265265856389846), (2118, 0.010602965040072977), (2119, 0.0), (2120, 0.021347581276485558), (2121, 0.0), (2122, 0.0), (2123, 0.0), (2124, 0.0), (2125, 0.01823306233497288), (2126, 0.0), (2127, 0.0), (2128, 0.0), (2129, 0.019644560530004716), (2130, 0.020479995302041143), (2131, 0.019949410957269948), (2132, 0.01789670097716464), (2133, 0.0), (2134, 0.0), (2135, 0.04342153113907585), (2136, 0.0), (2137, 0.0), (2138, 0.0), (2139, 0.0), (2140, 0.0), (2141, 0.0), (2142, 0.0), (2143, 0.018272160204103712), (2144, 0.0), (2145, 0.0), (2146, 0.0), (2147, 0.020854794819481444), (2148, 0.0), (2149, 0.0), (2150, 0.020197446087525845), (2151, 0.058995636743804016), (2152, 0.0), (2153, 0.02076842784427678), (2154, 0.027344661369615834), (2155, 0.0), (2156, 0.0), (2157, 0.06048284607684761), (2158, 0.0), (2159, 0.0), (2160, 0.0), (2161, 0.04369526097869792), (2162, 0.061735339672876886), (2163, 0.020051806423220308), (2164, 0.0), (2165, 0.0), (2166, 0.0), (2167, 0.0), (2168, 0.0), (2169, 0.0), (2170, 0.0), (2171, 0.021938528759645422), (2172, 0.0), (2173, 0.0), (2174, 0.0), (2175, 0.0), (2176, 0.024064696630733035), (2177, 0.0), (2178, 0.020933556287748643), (2179, 0.0), (2180, 0.0), (2181, 0.0), (2182, 0.0), (2183, 0.037234494557967984), (2184, 0.0), (2185, 0.08496912652863686), (2186, 0.0), (2187, 0.0939924835757356), (2188, 0.03351871511661372), (2189, 0.0), (2190, 0.0), (2191, 0.0), (2192, 0.0), (2193, 0.0), (2194, 0.0), (2195, 0.04545662922755825), (2196, 0.08945608177530268), (2197, 0.0), (2198, 0.02155143188588611), (2199, 0.033827788015285784), (2200, 0.0), (2201, 0.01896946149889534), (2202, 0.0), (2203, 0.01907653679206377), (2204, 0.0), (2205, 0.018490932480225163), (2206, 0.0), (2207, 0.07559677630620533), (2208, 0.022441257173319133), (2209, 0.0), (2210, 0.04244776684803764), (2211, 0.0), (2212, 0.0), (2213, 0.0), (2214, 0.0), (2215, 0.0), (2216, 0.03783526004862338), (2217, 0.0), (2218, 0.0), (2219, 0.0), (2220, 0.0), (2221, 0.0), (2222, 0.0), (2223, 0.024764879724437475), (2224, 0.0), (2225, 0.0), (2226, 0.0), (2227, 0.0), (2228, 0.0), (2229, 0.0), (2230, 0.0), (2231, 0.0), (2232, 0.0), (2233, 0.0), (2234, 0.0), (2235, 0.0), (2236, 0.017523428634224382), (2237, 0.0), (2238, 0.0), (2239, 0.01836736415804931), (2240, 0.016056192326933), (2241, 0.0), (2242, 0.0), (2243, 0.0), (2244, 0.0), (2245, 0.018411149141999233), (2246, 0.0), (2247, 0.0), (2248, 0.0), (2249, 0.0), (2250, 0.019779227839841065), (2251, 0.0), (2252, 0.0), (2253, 0.0), (2254, 0.0), (2255, 0.0), (2256, 0.0), (2257, 0.04418381039868551), (2258, 0.0), (2259, 0.022310802683903102), (2260, 0.024660880596543835), (2261, 0.024304488024234527), (2262, 0.018414691769583002), (2263, 0.11600486969777936), (2264, 0.018273297308742026), (2265, 0.025878813279913503), (2266, 0.06556146986211064), (2267, 0.025385043433811923), (2268, 0.0), (2269, 0.05195587055260486), (2270, 0.0), (2271, 0.018482243651283033), (2272, 0.0), (2273, 0.03097525367150548), (2274, 0.06293823286192933), (2275, 0.049724147031950834), (2276, 0.0), (2277, 0.0), (2278, 0.0), (2279, 0.01947844257447206), (2280, 0.0), (2281, 0.06874370537564624), (2282, 0.0), (2283, 0.02387906932310368), (2284, 0.0), (2285, 0.0), (2286, 0.0), (2287, 0.03313212362923488), (2288, 0.0), (2289, 0.0), (2290, 0.07466220897938079), (2291, 0.0), (2292, 0.0), (2293, 0.0), (2294, 0.0), (2295, 0.0), (2296, 0.016149312597087708), (2297, 0.0), (2298, 0.08258687643615667), (2299, 0.0), (2300, 0.0), (2301, 0.017940707120900474), (2302, 0.0), (2303, 0.0), (2304, 0.0), (2305, 0.0), (2306, 0.0), (2307, 0.0), (2308, 0.0), (2309, 0.0), (2310, 0.0), (2311, 0.0), (2312, 0.0), (2313, 0.0), (2314, 0.0), (2315, 0.01752463234584624), (2316, 0.024073639651857076), (2317, 0.022603486113974197), (2318, 0.0), (2319, 0.0208275020348978), (2320, 0.0), (2321, 0.0), (2322, 0.05649814966682715), (2323, 0.018436121405323615), (2324, 0.0), (2325, 0.09831537253043508), (2326, 0.020654350381659237), (2327, 0.03725235963750917), (2328, 0.0), (2329, 0.020350440840947944), (2330, 0.025165241929495197), (2331, 0.06552074199624101), (2332, 0.02118759708035035), (2333, 0.0), (2334, 0.02142942138950274), (2335, 0.023093424816788305), (2336, 0.0), (2337, 0.023635968506616777), (2338, 0.0), (2339, 0.0), (2340, 0.0), (2341, 0.0), (2342, 0.0), (2343, 0.0), (2344, 0.0), (2345, 0.0), (2346, 0.0), (2347, 0.0), (2348, 0.0), (2349, 0.0), (2350, 0.0), (2351, 0.02626158129774312), (2352, 0.10112706146328836), (2353, 0.0), (2354, 0.0), (2355, 0.0), (2356, 0.0), (2357, 0.0), (2358, 0.02268846302855451), (2359, 0.033787128571809946), (2360, 0.0), (2361, 0.0), (2362, 0.0), (2363, 0.0), (2364, 0.014929916832439683), (2365, 0.035000144247559185), (2366, 0.0), (2367, 0.020109188558310294), (2368, 0.0), (2369, 0.0), (2370, 0.0), (2371, 0.08528596275684913), (2372, 0.024072891289986038), (2373, 0.0), (2374, 0.0), (2375, 0.08449640686597722), (2376, 0.0), (2377, 0.0), (2378, 0.0), (2379, 0.05213569710459891), (2380, 0.0), (2381, 0.025959110478540756), (2382, 0.0), (2383, 0.0), (2384, 0.0), (2385, 0.0), (2386, 0.0), (2387, 0.043834600091883495), (2388, 0.0), (2389, 0.018997065495117316), (2390, 0.02501505398777545), (2391, 0.02609165536235461), (2392, 0.0), (2393, 0.04384298403168847), (2394, 0.0), (2395, 0.0), (2396, 0.020934045015949247), (2397, 0.021075275363502288), (2398, 0.0), (2399, 0.0), (2400, 0.02786022776671188), (2401, 0.05062601395093936), (2402, 0.022641434803310562), (2403, 0.0), (2404, 0.0), (2405, 0.02551997413889368), (2406, 0.027577871348220297), (2407, 0.0), (2408, 0.02069595097509146), (2409, 0.0), (2410, 0.023349834218845265), (2411, 0.0), (2412, 0.0), (2413, 0.0), (2414, 0.022190380780760577), (2415, 0.0), (2416, 0.0), (2417, 0.0), (2418, 0.0), (2419, 0.02136714136651852), (2420, 0.0), (2421, 0.02095998461021886), (2422, 0.0), (2423, 0.05079049904202035), (2424, 0.0), (2425, 0.0), (2426, 0.0), (2427, 0.0), (2428, 0.0), (2429, 0.0), (2430, 0.021029927121890498), (2431, 0.0), (2432, 0.0), (2433, 0.025240138138655034), (2434, 0.0), (2435, 0.01955825878369989), (2436, 0.0), (2437, 0.0), (2438, 0.0), (2439, 0.0), (2440, 0.08912239697544966), (2441, 0.0), (2442, 0.0), (2443, 0.0252668994042003), (2444, 0.0), (2445, 0.11215257330457835), (2446, 0.05005709817041551), (2447, 0.04849559558797846), (2448, 0.03503122445236651), (2449, 0.042607121607676525), (2450, 0.02385966499283688), (2451, 0.021896467029406216), (2452, 0.0), (2453, 0.0), (2454, 0.0), (2455, 0.0), (2456, 0.022247831729105293), (2457, 0.0602004354023984), (2458, 0.0), (2459, 0.0), (2460, 0.019675366228008973), (2461, 0.03947953859252595), (2462, 0.02369111597561657), (2463, 0.08350311995645868), (2464, 0.0), (2465, 0.0), (2466, 0.024215625579640257), (2467, 0.0), (2468, 0.033310306993139166), (2469, 0.0), (2470, 0.0), (2471, 0.0), (2472, 0.0), (2473, 0.06194304421937126), (2474, 0.0), (2475, 0.0), (2476, 0.0), (2477, 0.0), (2478, 0.0), (2479, 0.0), (2480, 0.049119285185622814), (2481, 0.0), (2482, 0.0), (2483, 0.0), (2484, 0.13060534929367118), (2485, 0.028929804120690062), (2486, 0.0), (2487, 0.019733181735071856), (2488, 0.028144135788255777), (2489, 0.0), (2490, 0.0), (2491, 0.0), (2492, 0.0), (2493, 0.02425814226979226), (2494, 0.08889835351368747), (2495, 0.0), (2496, 0.0), (2497, 0.0), (2498, 0.0), (2499, 0.0), (2500, 0.0), (2501, 0.0), (2502, 0.01719246669896446), (2503, 0.0), (2504, 0.01785283822645325), (2505, 0.0), (2506, 0.0), (2507, 0.09723875805848568), (2508, 0.0), (2509, 0.038942191981541856), (2510, 0.0), (2511, 0.02108751094540451), (2512, 0.0400645513653943), (2513, 0.0), (2514, 0.0), (2515, 0.0), (2516, 0.02136804967986594), (2517, 0.019460172575998767), (2518, 0.0), (2519, 0.055064744344603525), (2520, 0.0), (2521, 0.031939371229352795), (2522, 0.0), (2523, 0.0), (2524, 0.0), (2525, 0.018528240292330612), (2526, 0.0), (2527, 0.0), (2528, 0.0), (2529, 0.0), (2530, 0.029554573856236048), (2531, 0.04930800001498213), (2532, 0.027896639471672143), (2533, 0.0), (2534, 0.0), (2535, 0.0), (2536, 0.0), (2537, 0.0), (2538, 0.0), (2539, 0.03191218730133983), (2540, 0.0), (2541, 0.016405292972166828), (2542, 0.0), (2543, 0.0), (2544, 0.0), (2545, 0.0), (2546, 0.0), (2547, 0.0), (2548, 0.0), (2549, 0.028540123830267862), (2550, 0.0), (2551, 0.0), (2552, 0.0), (2553, 0.0), (2554, 0.07489541667651922), (2555, 0.024206425553513957), (2556, 0.0), (2557, 0.0), (2558, 0.0), (2559, 0.0), (2560, 0.0), (2561, 0.0), (2562, 0.014227172292918179), (2563, 0.0), (2564, 0.0), (2565, 0.0), (2566, 0.0), (2567, 0.0), (2568, 0.022912198009754806), (2569, 0.0), (2570, 0.06109537553065196), (2571, 0.020669513832347695), (2572, 0.0), (2573, 0.0), (2574, 0.0), (2575, 0.0), (2576, 0.0), (2577, 0.04726839491388696), (2578, 0.04530143674507687), (2579, 0.029795364376736168), (2580, 0.017351235499226906), (2581, 0.0), (2582, 0.019959380688989628), (2583, 0.02434097210615065), (2584, 0.035418716597682906), (2585, 0.0), (2586, 0.0), (2587, 0.0434907524780632), (2588, 0.14088370650145465), (2589, 0.0), (2590, 0.018009694438018833), (2591, 0.018592280299499043), (2592, 0.04777599585748094), (2593, 0.01988282317027872), (2594, 0.0), (2595, 0.0), (2596, 0.0), (2597, 0.0), (2598, 0.0), (2599, 0.0), (2600, 0.0), (2601, 0.0), (2602, 0.0), (2603, 0.03492635899904277), (2604, 0.02478353073178467), (2605, 0.0), (2606, 0.0), (2607, 0.0), (2608, 0.0), (2609, 0.0), (2610, 0.0), (2611, 0.0), (2612, 0.04036760823638557), (2613, 0.0), (2614, 0.020702537782522536), (2615, 0.038646918019887816), (2616, 0.018217597635070325), (2617, 0.07711640613918662), (2618, 0.0), (2619, 0.07054071605235077), (2620, 0.0), (2621, 0.04141952509790864), (2622, 0.03141853426626528), (2623, 0.0), (2624, 0.0), (2625, 0.0), (2626, 0.0), (2627, 0.0), (2628, 0.0), (2629, 0.0), (2630, 0.0), (2631, 0.0), (2632, 0.0), (2633, 0.0), (2634, 0.0), (2635, 0.0), (2636, 0.04205441158113499), (2637, 0.023235743266734516), (2638, 0.0), (2639, 0.0), (2640, 0.0), (2641, 0.0), (2642, 0.0), (2643, 0.04975815982441835), (2644, 0.0), (2645, 0.0), (2646, 0.04965641329471224), (2647, 0.0), (2648, 0.0), (2649, 0.0), (2650, 0.04284241786834164), (2651, 0.0), (2652, 0.021776213733559657), (2653, 0.0), (2654, 0.020331856391832666), (2655, 0.0), (2656, 0.03600587874351282), (2657, 0.0), (2658, 0.0), (2659, 0.0), (2660, 0.06524208467631512), (2661, 0.021808219299894464), (2662, 0.0), (2663, 0.05790220625210573), (2664, 0.0), (2665, 0.0), (2666, 0.020219863982364396), (2667, 0.0), (2668, 0.020988924660841696), (2669, 0.0), (2670, 0.0), (2671, 0.014354434941356306), (2672, 0.024657243851309442), (2673, 0.17183863776796623), (2674, 0.0), (2675, 0.02460688016411086), (2676, 0.0), (2677, 0.043779609124545094), (2678, 0.0), (2679, 0.05344294936633997), (2680, 0.0), (2681, 0.0), (2682, 0.0), (2683, 0.0), (2684, 0.0), (2685, 0.0), (2686, 0.0), (2687, 0.0), (2688, 0.017276690874075018), (2689, 0.0), (2690, 0.0), (2691, 0.0), (2692, 0.0), (2693, 0.0), (2694, 0.0), (2695, 0.0), (2696, 0.0), (2697, 0.0), (2698, 0.0), (2699, 0.11519412824821126), (2700, 0.0), (2701, 0.0), (2702, 0.0), (2703, 0.0), (2704, 0.021594455361414636), (2705, 0.0), (2706, 0.01963643301861264), (2707, 0.0), (2708, 0.023364478073997406), (2709, 0.0), (2710, 0.024997923855749685), (2711, 0.03603849699451314), (2712, 0.0), (2713, 0.0), (2714, 0.0), (2715, 0.0), (2716, 0.0), (2717, 0.06741930669264837), (2718, 0.0), (2719, 0.07430946857856005), (2720, 0.02462398660448994), (2721, 0.016582653588881183), (2722, 0.0), (2723, 0.0), (2724, 0.0), (2725, 0.0), (2726, 0.0), (2727, 0.0), (2728, 0.01655187929737579), (2729, 0.02226011961894375), (2730, 0.0), (2731, 0.0), (2732, 0.0), (2733, 0.0), (2734, 0.01509182121420309), (2735, 0.0), (2736, 0.0), (2737, 0.0), (2738, 0.0), (2739, 0.0), (2740, 0.0), (2741, 0.02309427541404292), (2742, 0.0), (2743, 0.0), (2744, 0.0), (2745, 0.0), (2746, 0.0), (2747, 0.0), (2748, 0.0), (2749, 0.018002093102602795), (2750, 0.0), (2751, 0.0), (2752, 0.019155310529906894), (2753, 0.0), (2754, 0.0), (2755, 0.0), (2756, 0.13243803764017165), (2757, 0.0), (2758, 0.016103340726116355), (2759, 0.0), (2760, 0.02785955736382554), (2761, 0.04165598059269022), (2762, 0.0), (2763, 0.019384674486221835), (2764, 0.0), (2765, 0.0), (2766, 0.014517320024456722), (2767, 0.0), (2768, 0.0), (2769, 0.0), (2770, 0.0492615186096743), (2771, 0.0), (2772, 0.035521865807162045), (2773, 0.0), (2774, 0.03644277159301488), (2775, 0.0), (2776, 0.0), (2777, 0.020397856941886977), (2778, 0.0), (2779, 0.07697093081755521), (2780, 0.0), (2781, 0.11941644660168098), (2782, 0.022398608673036967), (2783, 0.0), (2784, 0.0), (2785, 0.0), (2786, 0.0), (2787, 0.0), (2788, 0.04913115553665511), (2789, 0.03681754072592942), (2790, 0.021197456945675687), (2791, 0.0), (2792, 0.0), (2793, 0.0), (2794, 0.0), (2795, 0.0), (2796, 0.0), (2797, 0.0), (2798, 0.02077375830099086), (2799, 0.022047072377793086), (2800, 0.0), (2801, 0.0), (2802, 0.0), (2803, 0.0), (2804, 0.0), (2805, 0.0), (2806, 0.027141002931367134), (2807, 0.0), (2808, 0.019717185585510593), (2809, 0.0), (2810, 0.025602807100984684), (2811, 0.0), (2812, 0.019965529149331973), (2813, 0.06280250902745775), (2814, 0.013154381429083048), (2815, 0.0), (2816, 0.0), (2817, 0.07693979178878321), (2818, 0.0), (2819, 0.0), (2820, 0.0), (2821, 0.06570284766189602), (2822, 0.01607174041565971), (2823, 0.0), (2824, 0.0), (2825, 0.0), (2826, 0.0), (2827, 0.0), (2828, 0.0), (2829, 0.0), (2830, 0.0), (2831, 0.08569680704296308), (2832, 0.0), (2833, 0.04199975926954957), (2834, 0.0), (2835, 0.018207778231457094), (2836, 0.0), (2837, 0.0), (2838, 0.0), (2839, 0.028267427274085655), (2840, 0.0548654146053786), (2841, 0.06693248334455223), (2842, 0.016357460875009455), (2843, 0.0), (2844, 0.015602065486078264), (2845, 0.01730535915882419), (2846, 0.0), (2847, 0.0), (2848, 0.0), (2849, 0.0), (2850, 0.0), (2851, 1.0000000000000002), (2852, 0.0), (2853, 0.05292615936918208), (2854, 0.023910852236669115), (2855, 0.0), (2856, 0.022828039886442452), (2857, 0.02801563468216512), (2858, 0.0), (2859, 0.0), (2860, 0.0), (2861, 0.0), (2862, 0.0), (2863, 0.0), (2864, 0.0), (2865, 0.0), (2866, 0.0), (2867, 0.01499391608748602), (2868, 0.018929369440758858), (2869, 0.06595399797894738), (2870, 0.0), (2871, 0.0), (2872, 0.0), (2873, 0.026462818876626427), (2874, 0.0), (2875, 0.0), (2876, 0.04651365934205741), (2877, 0.030304456959782147), (2878, 0.0), (2879, 0.0), (2880, 0.0), (2881, 0.0), (2882, 0.0), (2883, 0.0), (2884, 0.0762839584079773), (2885, 0.02255218002341324), (2886, 0.0), (2887, 0.024722811243481385), (2888, 0.0), (2889, 0.0), (2890, 0.0), (2891, 0.0), (2892, 0.018959759232422324), (2893, 0.0), (2894, 0.0), (2895, 0.0), (2896, 0.022523653156858364), (2897, 0.04084314783819291), (2898, 0.0), (2899, 0.04251493739959011), (2900, 0.0), (2901, 0.040086405204327394), (2902, 0.0), (2903, 0.0), (2904, 0.0), (2905, 0.0), (2906, 0.0), (2907, 0.0), (2908, 0.034092425502765325), (2909, 0.08717147506361073), (2910, 0.0), (2911, 0.0), (2912, 0.0), (2913, 0.0), (2914, 0.0), (2915, 0.0), (2916, 0.07645550763538281), (2917, 0.0), (2918, 0.0), (2919, 0.0), (2920, 0.0), (2921, 0.024343106636320083), (2922, 0.0), (2923, 0.0), (2924, 0.05860810611140897), (2925, 0.10268439320707848), (2926, 0.0), (2927, 0.027527198090473125), (2928, 0.0), (2929, 0.05980660460959078), (2930, 0.0), (2931, 0.05095449764682147), (2932, 0.0), (2933, 0.01969060864588355), (2934, 0.0), (2935, 0.0), (2936, 0.0), (2937, 0.0), (2938, 0.020646057581084818), (2939, 0.0), (2940, 0.0), (2941, 0.0), (2942, 0.0), (2943, 0.0), (2944, 0.0), (2945, 0.0521084816800698), (2946, 0.0), (2947, 0.0), (2948, 0.0), (2949, 0.0), (2950, 0.0), (2951, 0.0), (2952, 0.08213866626542336), (2953, 0.0), (2954, 0.0), (2955, 0.0), (2956, 0.0), (2957, 0.0), (2958, 0.0), (2959, 0.0), (2960, 0.0), (2961, 0.0), (2962, 0.03824696813960644), (2963, 0.02258511915105761), (2964, 0.0), (2965, 0.07074258740004574), (2966, 0.0), (2967, 0.0), (2968, 0.0), (2969, 0.0), (2970, 0.0), (2971, 0.0), (2972, 0.01907350857963639), (2973, 0.0), (2974, 0.0), (2975, 0.017119727795567346), (2976, 0.042116968620534344), (2977, 0.0), (2978, 0.0), (2979, 0.0), (2980, 0.02002982095823778), (2981, 0.031704605804121766), (2982, 0.029364269929338088), (2983, 0.0), (2984, 0.0), (2985, 0.016633529806077095), (2986, 0.0), (2987, 0.0), (2988, 0.04265425187481216), (2989, 0.0), (2990, 0.0), (2991, 0.0), (2992, 0.0), (2993, 0.0), (2994, 0.0), (2995, 0.0), (2996, 0.0), (2997, 0.0), (2998, 0.043867371805811683), (2999, 0.0), (3000, 0.09382859402233153), (3001, 0.028412471262280005), (3002, 0.0), (3003, 0.024309443095067815), (3004, 0.0), (3005, 0.0), (3006, 0.0), (3007, 0.0), (3008, 0.0), (3009, 0.0), (3010, 0.0), (3011, 0.019967080795170285), (3012, 0.0), (3013, 0.0), (3014, 0.0), (3015, 0.0), (3016, 0.0), (3017, 0.0), (3018, 0.020346672720456788), (3019, 0.0), (3020, 0.0), (3021, 0.0), (3022, 0.0), (3023, 0.0), (3024, 0.01801911527800305), (3025, 0.0), (3026, 0.0), (3027, 0.017516412596661535), (3028, 0.0), (3029, 0.0), (3030, 0.0), (3031, 0.0), (3032, 0.0), (3033, 0.020945021796629586), (3034, 0.0), (3035, 0.0), (3036, 0.0), (3037, 0.0), (3038, 0.0), (3039, 0.0), (3040, 0.0), (3041, 0.0), (3042, 0.0), (3043, 0.0), (3044, 0.0), (3045, 0.0), (3046, 0.0), (3047, 0.0), (3048, 0.0), (3049, 0.0), (3050, 0.0), (3051, 0.0), (3052, 0.0), (3053, 0.0), (3054, 0.0), (3055, 0.0), (3056, 0.07794778736429743), (3057, 0.0), (3058, 0.02022609402710217), (3059, 0.0), (3060, 0.09061835565136675), (3061, 0.0), (3062, 0.0), (3063, 0.034496489644999455), (3064, 0.0), (3065, 0.0), (3066, 0.01966206795306079), (3067, 0.0), (3068, 0.0), (3069, 0.0), (3070, 0.0), (3071, 0.03690599451719431), (3072, 0.0), (3073, 0.05385862278472853), (3074, 0.0), (3075, 0.0), (3076, 0.0), (3077, 0.04957706488932352), (3078, 0.045144966791528636), (3079, 0.0), (3080, 0.02316408425021433), (3081, 0.03772145702515302), (3082, 0.01916457087890398), (3083, 0.06754386933002372), (3084, 0.023773912161635786), (3085, 0.0), (3086, 0.02616902930765255), (3087, 0.0), (3088, 0.0), (3089, 0.03242408716713139), (3090, 0.04072459870049658), (3091, 0.017208649226828333), (3092, 0.0), (3093, 0.0), (3094, 0.0), (3095, 0.0), (3096, 0.01666140444474325), (3097, 0.0), (3098, 0.044852040897181394), (3099, 0.016981233714128463), (3100, 0.0), (3101, 0.0), (3102, 0.0), (3103, 0.0), (3104, 0.0), (3105, 0.0), (3106, 0.0), (3107, 0.0), (3108, 0.0), (3109, 0.02735664780741653), (3110, 0.054869781408162836), (3111, 0.08028916498404906), (3112, 0.027867720985663945), (3113, 0.0), (3114, 0.0), (3115, 0.0), (3116, 0.02399021503499308), (3117, 0.10400592914282297), (3118, 0.0), (3119, 0.0), (3120, 0.0), (3121, 0.03576416164982457), (3122, 0.0), (3123, 0.0), (3124, 0.0), (3125, 0.0), (3126, 0.0), (3127, 0.06984394323354713), (3128, 0.0), (3129, 0.0), (3130, 0.0), (3131, 0.0), (3132, 0.0), (3133, 0.057367969127180174), (3134, 0.0), (3135, 0.0), (3136, 0.0), (3137, 0.03490892341958904), (3138, 0.021073454091015693), (3139, 0.0), (3140, 0.0), (3141, 0.018949909639739627), (3142, 0.04812781615353384), (3143, 0.0), (3144, 0.03256805578206945), (3145, 0.0), (3146, 0.0), (3147, 0.01964108738520395), (3148, 0.0), (3149, 0.06592168967123113), (3150, 0.0), (3151, 0.020141626570436465), (3152, 0.0749999531658211), (3153, 0.020347670437105024), (3154, 0.0), (3155, 0.05557206930753395), (3156, 0.0), (3157, 0.0), (3158, 0.0), (3159, 0.0), (3160, 0.0), (3161, 0.0), (3162, 0.0), (3163, 0.0), (3164, 0.0), (3165, 0.0), (3166, 0.0), (3167, 0.06101696548018574), (3168, 0.0), (3169, 0.0), (3170, 0.0), (3171, 0.0), (3172, 0.0), (3173, 0.0), (3174, 0.0), (3175, 0.0), (3176, 0.0), (3177, 0.0), (3178, 0.0), (3179, 0.0), (3180, 0.0), (3181, 0.02213199739427087), (3182, 0.05160643761731318), (3183, 0.0), (3184, 0.0), (3185, 0.0), (3186, 0.0), (3187, 0.023988984903444692), (3188, 0.02080784498538041), (3189, 0.11763016051523405), (3190, 0.06188434842987477), (3191, 0.0), (3192, 0.0), (3193, 0.0), (3194, 0.0), (3195, 0.0), (3196, 0.0), (3197, 0.0), (3198, 0.0), (3199, 0.032382013840595976), (3200, 0.0), (3201, 0.0), (3202, 0.0), (3203, 0.0), (3204, 0.03533338363249738), (3205, 0.0), (3206, 0.0), (3207, 0.0), (3208, 0.04428733375751812), (3209, 0.02200842672241258), (3210, 0.0), (3211, 0.019738960073383778), (3212, 0.015542248024415978), (3213, 0.03466677486451559), (3214, 0.0589770446425374), (3215, 0.033649206326025874), (3216, 0.0), (3217, 0.0), (3218, 0.0), (3219, 0.06451039855484761), (3220, 0.0), (3221, 0.02470012702468213), (3222, 0.0), (3223, 0.0), (3224, 0.0), (3225, 0.05538444546110512), (3226, 0.0), (3227, 0.0), (3228, 0.0), (3229, 0.020849253041586142), (3230, 0.0), (3231, 0.0), (3232, 0.01623342690875703), (3233, 0.0), (3234, 0.02410721167975807), (3235, 0.0), (3236, 0.023025854632452675), (3237, 0.019563228640163396), (3238, 0.015975314938363107), (3239, 0.0), (3240, 0.0), (3241, 0.0), (3242, 0.02646057803426095), (3243, 0.0), (3244, 0.01883887223590376), (3245, 0.0), (3246, 0.019472783144161194), (3247, 0.016956065069367404), (3248, 0.0), (3249, 0.0), (3250, 0.0), (3251, 0.0), (3252, 0.0), (3253, 0.0), (3254, 0.017229462492854605), (3255, 0.0), (3256, 0.025595890263668566), (3257, 0.0), (3258, 0.0), (3259, 0.02243646413843197), (3260, 0.0204154354470982), (3261, 0.0), (3262, 0.0), (3263, 0.0), (3264, 0.0), (3265, 0.0), (3266, 0.0), (3267, 0.0), (3268, 0.0), (3269, 0.08265292947140761), (3270, 0.04125304053231152), (3271, 0.0), (3272, 0.04838475436954847), (3273, 0.0), (3274, 0.0), (3275, 0.0), (3276, 0.0), (3277, 0.0), (3278, 0.0), (3279, 0.0), (3280, 0.0), (3281, 0.0), (3282, 0.0), (3283, 0.0), (3284, 0.0), (3285, 0.0), (3286, 0.021436214472218967), (3287, 0.020750521102350174), (3288, 0.0), (3289, 0.07434601980149252), (3290, 0.0), (3291, 0.0), (3292, 0.0), (3293, 0.0), (3294, 0.0), (3295, 0.0), (3296, 0.0), (3297, 0.02259156206390904), (3298, 0.0), (3299, 0.0), (3300, 0.018842806494855136), (3301, 0.0), (3302, 0.0), (3303, 0.041478338365995106), (3304, 0.05068391484069358), (3305, 0.0), (3306, 0.0), (3307, 0.0), (3308, 0.0), (3309, 0.0), (3310, 0.0), (3311, 0.0), (3312, 0.06752059323922144), (3313, 0.0), (3314, 0.0), (3315, 0.01853964981495659), (3316, 0.0), (3317, 0.0), (3318, 0.017295691064378352), (3319, 0.0), (3320, 0.0), (3321, 0.02042438794910531), (3322, 0.0), (3323, 0.0), (3324, 0.0), (3325, 0.0), (3326, 0.0), (3327, 0.018775349948609535), (3328, 0.0), (3329, 0.0), (3330, 0.02169795010842533), (3331, 0.0), (3332, 0.0), (3333, 0.0814578302034133), (3334, 0.0), (3335, 0.022608953171447763), (3336, 0.0), (3337, 0.0), (3338, 0.08917317756613369), (3339, 0.0), (3340, 0.0), (3341, 0.0), (3342, 0.02030325236815822), (3343, 0.0), (3344, 0.03553599980308001), (3345, 0.0), (3346, 0.0), (3347, 0.0), (3348, 0.02094618587569663), (3349, 0.0), (3350, 0.020223721476513534), (3351, 0.0), (3352, 0.0), (3353, 0.0), (3354, 0.0), (3355, 0.0), (3356, 0.013808573871759423), (3357, 0.0), (3358, 0.0), (3359, 0.0), (3360, 0.018770831907642723), (3361, 0.0), (3362, 0.0), (3363, 0.0), (3364, 0.0), (3365, 0.0), (3366, 0.019647166440385506), (3367, 0.0), (3368, 0.0), (3369, 0.0), (3370, 0.03832404838887578), (3371, 0.0), (3372, 0.0), (3373, 0.0), (3374, 0.0), (3375, 0.0), (3376, 0.0), (3377, 0.0), (3378, 0.0), (3379, 0.02012843603007828), (3380, 0.0), (3381, 0.0), (3382, 0.0), (3383, 0.0), (3384, 0.0), (3385, 0.0), (3386, 0.049819003933060386), (3387, 0.054245083683427515), (3388, 0.02148770886161003), (3389, 0.019001699974753507), (3390, 0.03847103549762411), (3391, 0.0), (3392, 0.0511957128146344), (3393, 0.0), (3394, 0.0), (3395, 0.017382008224278257), (3396, 0.0), (3397, 0.016521559994194985), (3398, 0.0), (3399, 0.0), (3400, 0.0), (3401, 0.0), (3402, 0.0), (3403, 0.0), (3404, 0.0), (3405, 0.0), (3406, 0.0), (3407, 0.0), (3408, 0.0), (3409, 0.0), (3410, 0.0), (3411, 0.0), (3412, 0.0), (3413, 0.0), (3414, 0.0), (3415, 0.0), (3416, 0.0), (3417, 0.0), (3418, 0.05037856275038977), (3419, 0.0), (3420, 0.0), (3421, 0.014821646361752304), (3422, 0.05939896047417212), (3423, 0.0), (3424, 0.0), (3425, 0.0), (3426, 0.0), (3427, 0.02085197962942617), (3428, 0.0), (3429, 0.0), (3430, 0.0), (3431, 0.0), (3432, 0.0), (3433, 0.0), (3434, 0.0), (3435, 0.0), (3436, 0.0), (3437, 0.0), (3438, 0.0), (3439, 0.0), (3440, 0.0), (3441, 0.0), (3442, 0.0), (3443, 0.0), (3444, 0.023481079376164567), (3445, 0.0), (3446, 0.0), (3447, 0.0), (3448, 0.0), (3449, 0.0), (3450, 0.0), (3451, 0.0), (3452, 0.0), (3453, 0.0), (3454, 0.0), (3455, 0.0), (3456, 0.09099986284371676), (3457, 0.020239188571867333), (3458, 0.04324150383638363), (3459, 0.018916695894339308), (3460, 0.0), (3461, 0.0451206152542576), (3462, 0.0), (3463, 0.0), (3464, 0.022055552094289926), (3465, 0.0), (3466, 0.0), (3467, 0.0), (3468, 0.0), (3469, 0.0), (3470, 0.0), (3471, 0.0), (3472, 0.04059562239642261), (3473, 0.029727889589766725), (3474, 0.048296546259962), (3475, 0.0), (3476, 0.0220831813686404), (3477, 0.07284694587956361), (3478, 0.0), (3479, 0.0), (3480, 0.0), (3481, 0.018475434158057025), (3482, 0.02113545676979176), (3483, 0.0), (3484, 0.015183052498331538), (3485, 0.01733645989976339), (3486, 0.0), (3487, 0.0), (3488, 0.0), (3489, 0.0), (3490, 0.0), (3491, 0.0), (3492, 0.0), (3493, 0.0), (3494, 0.0), (3495, 0.0), (3496, 0.0), (3497, 0.026501233524954815), (3498, 0.04772383224581621), (3499, 0.0), (3500, 0.0), (3501, 0.0), (3502, 0.0), (3503, 0.06449452649489101), (3504, 0.0), (3505, 0.026412023533041694), (3506, 0.021613555968954434), (3507, 0.05296785825018869), (3508, 0.0), (3509, 0.03736042258238991), (3510, 0.06697806291714699), (3511, 0.0), (3512, 0.0), (3513, 0.0), (3514, 0.0), (3515, 0.0), (3516, 0.023327728429420255), (3517, 0.0), (3518, 0.0), (3519, 0.0), (3520, 0.0), (3521, 0.0), (3522, 0.0), (3523, 0.0), (3524, 0.02711968176408708), (3525, 0.017217674496387926), (3526, 0.0), (3527, 0.0), (3528, 0.0), (3529, 0.0), (3530, 0.0), (3531, 0.0), (3532, 0.0), (3533, 0.020023717664924914), (3534, 0.0), (3535, 0.0), (3536, 0.020735085250325542), (3537, 0.0), (3538, 0.0), (3539, 0.072945829861324), (3540, 0.02578942560901215), (3541, 0.0), (3542, 0.0), (3543, 0.0), (3544, 0.0), (3545, 0.031114474284575606), (3546, 0.030326039337225972), (3547, 0.0), (3548, 0.0), (3549, 0.0), (3550, 0.0), (3551, 0.0), (3552, 0.0), (3553, 0.05513946114480154), (3554, 0.03089522531043376), (3555, 0.0), (3556, 0.0), (3557, 0.04893501954792493), (3558, 0.0), (3559, 0.0), (3560, 0.0), (3561, 0.0), (3562, 0.01890265456627679), (3563, 0.09681548025991607), (3564, 0.01901556197360971), (3565, 0.0), (3566, 0.0), (3567, 0.0), (3568, 0.0), (3569, 0.0), (3570, 0.0), (3571, 0.0), (3572, 0.0), (3573, 0.0), (3574, 0.013599450856587477), (3575, 0.0), (3576, 0.0), (3577, 0.0), (3578, 0.0), (3579, 0.019145097256661036), (3580, 0.0), (3581, 0.027355629654032623), (3582, 0.0), (3583, 0.0), (3584, 0.0), (3585, 0.0), (3586, 0.0), (3587, 0.0), (3588, 0.0), (3589, 0.0), (3590, 0.0), (3591, 0.0), (3592, 0.0), (3593, 0.023652487696867636), (3594, 0.07301884341236894), (3595, 0.0), (3596, 0.020800901293146577), (3597, 0.0), (3598, 0.0), (3599, 0.0), (3600, 0.0), (3601, 0.0), (3602, 0.0), (3603, 0.0), (3604, 0.0), (3605, 0.0), (3606, 0.019675542549936618), (3607, 0.02886457276306346), (3608, 0.0), (3609, 0.0), (3610, 0.0545190992118748), (3611, 0.051143600816426917), (3612, 0.0), (3613, 0.038408384616561674), (3614, 0.0), (3615, 0.0), (3616, 0.029544153824883995), (3617, 0.0), (3618, 0.0), (3619, 0.0), (3620, 0.031120356329583054), (3621, 0.0), (3622, 0.0), (3623, 0.0), (3624, 0.0), (3625, 0.0), (3626, 0.06791898713963325), (3627, 0.0), (3628, 0.022206822923783353), (3629, 0.0), (3630, 0.0), (3631, 0.021096811650059104), (3632, 0.022471386774683792), (3633, 0.01818080812119967), (3634, 0.0), (3635, 0.0), (3636, 0.0), (3637, 0.0), (3638, 0.0), (3639, 0.0), (3640, 0.0), (3641, 0.0), (3642, 0.02349355538336352), (3643, 0.020949690168249508), (3644, 0.0), (3645, 0.0), (3646, 0.03974906789816894), (3647, 0.0), (3648, 0.0), (3649, 0.0), (3650, 0.019884917821864856), (3651, 0.0), (3652, 0.0), (3653, 0.0), (3654, 0.0), (3655, 0.01668907516317874), (3656, 0.09065517652326893), (3657, 0.0), (3658, 0.015917133924135952), (3659, 0.0), (3660, 0.04182424236963272), (3661, 0.0), (3662, 0.0), (3663, 0.0), (3664, 0.0), (3665, 0.0), (3666, 0.0), (3667, 0.01437912806027996), (3668, 0.0), (3669, 0.0), (3670, 0.0), (3671, 0.02708822123512917), (3672, 0.0), (3673, 0.020691506269962235), (3674, 0.03505039150284654), (3675, 0.0), (3676, 0.0), (3677, 0.0), (3678, 0.0), (3679, 0.0), (3680, 0.0), (3681, 0.0), (3682, 0.02919000877044893), (3683, 0.04618001439768681), (3684, 0.16383523983689194), (3685, 0.1387254791624838), (3686, 0.0), (3687, 0.0), (3688, 0.0), (3689, 0.0), (3690, 0.0), (3691, 0.0), (3692, 0.0), (3693, 0.016658065576994993), (3694, 0.0), (3695, 0.02264697296061002), (3696, 0.0), (3697, 0.0), (3698, 0.0), (3699, 0.0), (3700, 0.0), (3701, 0.020805560962827364), (3702, 0.0), (3703, 0.0), (3704, 0.029378361140273094), (3705, 0.0), (3706, 0.0), (3707, 0.0), (3708, 0.0), (3709, 0.0), (3710, 0.0), (3711, 0.0), (3712, 0.0), (3713, 0.0), (3714, 0.0), (3715, 0.0), (3716, 0.018659139564470087), (3717, 0.0), (3718, 0.018661451311664898), (3719, 0.0), (3720, 0.0), (3721, 0.0), (3722, 0.02141572804066614), (3723, 0.0), (3724, 0.0), (3725, 0.0), (3726, 0.024268585966390744), (3727, 0.0), (3728, 0.02288661557659308), (3729, 0.0), (3730, 0.0), (3731, 0.0), (3732, 0.02099173493419706), (3733, 0.0), (3734, 0.0), (3735, 0.024242653074200177), (3736, 0.046799119691019214), (3737, 0.0), (3738, 0.03936080441875323), (3739, 0.020039630390466266), (3740, 0.0), (3741, 0.0), (3742, 0.0), (3743, 0.0), (3744, 0.0), (3745, 0.0), (3746, 0.02300144368419169), (3747, 0.0), (3748, 0.0), (3749, 0.0), (3750, 0.014190796729089634), (3751, 0.04571187704141781), (3752, 0.03520142534233181), (3753, 0.038863338611558995), (3754, 0.0), (3755, 0.0), (3756, 0.0), (3757, 0.0), (3758, 0.0), (3759, 0.0), (3760, 0.0), (3761, 0.0), (3762, 0.0), (3763, 0.02607352883972934), (3764, 0.0), (3765, 0.0), (3766, 0.0), (3767, 0.0), (3768, 0.0), (3769, 0.04529316141939056), (3770, 0.0), (3771, 0.0), (3772, 0.0), (3773, 0.0), (3774, 0.02135370272708845), (3775, 0.0), (3776, 0.0), (3777, 0.0), (3778, 0.0), (3779, 0.0), (3780, 0.02244905360918014), (3781, 0.0), (3782, 0.0), (3783, 0.0), (3784, 0.0), (3785, 0.0936086299362065), (3786, 0.0), (3787, 0.0), (3788, 0.0), (3789, 0.0), (3790, 0.09178585869058194), (3791, 0.0), (3792, 0.020166647102014854), (3793, 0.0), (3794, 0.0), (3795, 0.0), (3796, 0.04964598119710732), (3797, 0.047804710394660596), (3798, 0.0), (3799, 0.0), (3800, 0.0), (3801, 0.0), (3802, 0.0), (3803, 0.018729034335221526), (3804, 0.0), (3805, 0.02571653814098914), (3806, 0.0), (3807, 0.0380119881146724), (3808, 0.0), (3809, 0.0), (3810, 0.0), (3811, 0.0), (3812, 0.15389884902005552), (3813, 0.05805613983304425), (3814, 0.0), (3815, 0.0), (3816, 0.022905289875568627), (3817, 0.02481466547576987), (3818, 0.0), (3819, 0.018482059476201844), (3820, 0.0), (3821, 0.0), (3822, 0.025313650413663673), (3823, 0.0), (3824, 0.0), (3825, 0.0), (3826, 0.018868916961829234), (3827, 0.0), (3828, 0.0), (3829, 0.0), (3830, 0.028026740491718636), (3831, 0.0), (3832, 0.0), (3833, 0.0), (3834, 0.0), (3835, 0.032328933795868924), (3836, 0.0), (3837, 0.0), (3838, 0.0), (3839, 0.0), (3840, 0.0), (3841, 0.01797110867052643), (3842, 0.0), (3843, 0.017662508190270043), (3844, 0.0), (3845, 0.0), (3846, 0.023807532103711785), (3847, 0.020671073847934422), (3848, 0.0), (3849, 0.022194573287196435), (3850, 0.0), (3851, 0.0), (3852, 0.0), (3853, 0.0), (3854, 0.0), (3855, 0.016396510533208956), (3856, 0.0), (3857, 0.0), (3858, 0.025683247626505527), (3859, 0.0), (3860, 0.0), (3861, 0.0), (3862, 0.0), (3863, 0.0), (3864, 0.04620341649217832), (3865, 0.01682093824266409), (3866, 0.0), (3867, 0.0), (3868, 0.03742894984948857), (3869, 0.0), (3870, 0.0), (3871, 0.023021806420104807), (3872, 0.0), (3873, 0.0), (3874, 0.0), (3875, 0.0), (3876, 0.017441228400833467), (3877, 0.0), (3878, 0.0), (3879, 0.0), (3880, 0.0), (3881, 0.0), (3882, 0.0), (3883, 0.0), (3884, 0.0), (3885, 0.0), (3886, 0.0), (3887, 0.0), (3888, 0.0), (3889, 0.0), (3890, 0.05186954555437886), (3891, 0.0), (3892, 0.04411452731834864), (3893, 0.051670833780626306), (3894, 0.017971912810533723), (3895, 0.0), (3896, 0.0), (3897, 0.0), (3898, 0.0), (3899, 0.0), (3900, 0.0), (3901, 0.0), (3902, 0.0), (3903, 0.0), (3904, 0.0), (3905, 0.0), (3906, 0.0), (3907, 0.0), (3908, 0.0), (3909, 0.0), (3910, 0.0), (3911, 0.0), (3912, 0.04154327629839204), (3913, 0.0), (3914, 0.0), (3915, 0.0), (3916, 0.058914230460538286), (3917, 0.0), (3918, 0.0), (3919, 0.0), (3920, 0.0), (3921, 0.0), (3922, 0.0), (3923, 0.018967613839139606), (3924, 0.0), (3925, 0.0), (3926, 0.044470637858746345), (3927, 0.0), (3928, 0.0), (3929, 0.0), (3930, 0.0), (3931, 0.0), (3932, 0.0), (3933, 0.0), (3934, 0.0), (3935, 0.0), (3936, 0.0), (3937, 0.0), (3938, 0.024344557736802237), (3939, 0.0), (3940, 0.0), (3941, 0.0), (3942, 0.0), (3943, 0.023507347458581393), (3944, 0.0), (3945, 0.0), (3946, 0.0), (3947, 0.0), (3948, 0.019086925387530863), (3949, 0.0), (3950, 0.0), (3951, 0.0), (3952, 0.0), (3953, 0.0), (3954, 0.0), (3955, 0.0), (3956, 0.0), (3957, 0.0), (3958, 0.0), (3959, 0.0), (3960, 0.0), (3961, 0.0), (3962, 0.0), (3963, 0.0), (3964, 0.0), (3965, 0.0), (3966, 0.017746732700131034), (3967, 0.13815355774863738), (3968, 0.0), (3969, 0.0497198558305289), (3970, 0.0), (3971, 0.0), (3972, 0.0), (3973, 0.0), (3974, 0.019144820954642067), (3975, 0.0), (3976, 0.0), (3977, 0.0), (3978, 0.0), (3979, 0.0), (3980, 0.015290030360795558), (3981, 0.0), (3982, 0.05179331364541223), (3983, 0.014321141993650295), (3984, 0.0), (3985, 0.02096343857559968), (3986, 0.0), (3987, 0.0), (3988, 0.0), (3989, 0.0), (3990, 0.047177653388934426), (3991, 0.02079710914383063), (3992, 0.0), (3993, 0.019033886087205684), (3994, 0.04268551115741505), (3995, 0.0), (3996, 0.0), (3997, 0.0), (3998, 0.0), (3999, 0.0), (4000, 0.0), (4001, 0.0), (4002, 0.0), (4003, 0.0), (4004, 0.0), (4005, 0.0), (4006, 0.0), (4007, 0.0), (4008, 0.0), (4009, 0.019480934702054482), (4010, 0.024094243228782564), (4011, 0.01960891241198666), (4012, 0.0), (4013, 0.0), (4014, 0.0), (4015, 0.035057401030485214), (4016, 0.0), (4017, 0.0), (4018, 0.0), (4019, 0.0), (4020, 0.019772633936214347), (4021, 0.047565309251046704), (4022, 0.0), (4023, 0.0), (4024, 0.0), (4025, 0.0), (4026, 0.0), (4027, 0.057286106987169294), (4028, 0.0), (4029, 0.0), (4030, 0.0), (4031, 0.02687134860501995), (4032, 0.0), (4033, 0.021665825203252685), (4034, 0.024841624812054375), (4035, 0.016468322364382473), (4036, 0.0), (4037, 0.018652761309785295), (4038, 0.0), (4039, 0.0), (4040, 0.0), (4041, 0.0), (4042, 0.0), (4043, 0.0), (4044, 0.0), (4045, 0.09602844974076911), (4046, 0.0), (4047, 0.0), (4048, 0.0), (4049, 0.0), (4050, 0.0), (4051, 0.0), (4052, 0.0), (4053, 0.0), (4054, 0.0), (4055, 0.0), (4056, 0.0), (4057, 0.0), (4058, 0.0), (4059, 0.019613528025317323), (4060, 0.0), (4061, 0.0), (4062, 0.0), (4063, 0.0), (4064, 0.0), (4065, 0.0), (4066, 0.018397016559946078), (4067, 0.0), (4068, 0.0), (4069, 0.0), (4070, 0.019001196992742556), (4071, 0.0), (4072, 0.0), (4073, 0.01968459574396537), (4074, 0.13523705540833003), (4075, 0.0), (4076, 0.0), (4077, 0.0), (4078, 0.0), (4079, 0.0), (4080, 0.0), (4081, 0.0), (4082, 0.0), (4083, 0.0), (4084, 0.0), (4085, 0.0), (4086, 0.0464521121223016), (4087, 0.0), (4088, 0.0), (4089, 0.020912693449182115), (4090, 0.0), (4091, 0.0), (4092, 0.0), (4093, 0.0), (4094, 0.0), (4095, 0.0), (4096, 0.0), (4097, 0.021402118768958884), (4098, 0.0), (4099, 0.019950776479651183), (4100, 0.0), (4101, 0.0), (4102, 0.0), (4103, 0.0), (4104, 0.0), (4105, 0.0), (4106, 0.0), (4107, 0.0), (4108, 0.0), (4109, 0.019196889807269968), (4110, 0.016618914527638137), (4111, 0.0), (4112, 0.018070089878500176), (4113, 0.0), (4114, 0.01632734981723421), (4115, 0.0), (4116, 0.0), (4117, 0.0), (4118, 0.026182442692136557), (4119, 0.0), (4120, 0.0), (4121, 0.0), (4122, 0.14118225967866466), (4123, 0.0), (4124, 0.0), (4125, 0.0), (4126, 0.0), (4127, 0.0), (4128, 0.0205973292024237), (4129, 0.0), (4130, 0.0), (4131, 0.0), (4132, 0.0), (4133, 0.0), (4134, 0.0), (4135, 0.0403625484532109), (4136, 0.022831499250177835), (4137, 0.019744755360431913), (4138, 0.0), (4139, 0.0), (4140, 0.04765277831826532), (4141, 0.0), (4142, 0.0), (4143, 0.0), (4144, 0.0), (4145, 0.0), (4146, 0.020528062422838354), (4147, 0.0), (4148, 0.0), (4149, 0.0), (4150, 0.0), (4151, 0.0), (4152, 0.017818705268153875), (4153, 0.0), (4154, 0.0), (4155, 0.019085036274569003), (4156, 0.0), (4157, 0.023941319814474973), (4158, 0.0), (4159, 0.020095180435591636), (4160, 0.030370056837618866), (4161, 0.0), (4162, 0.0), (4163, 0.0), (4164, 0.040566665242512644), (4165, 0.0), (4166, 0.0), (4167, 0.11998089992263984), (4168, 0.021437715800825426), (4169, 0.04874481568465288), (4170, 0.0), (4171, 0.014475015228166783), (4172, 0.0), (4173, 0.04322063168999882), (4174, 0.017180326827426692), (4175, 0.0), (4176, 0.0), (4177, 0.0), (4178, 0.0), (4179, 0.0), (4180, 0.0), (4181, 0.0), (4182, 0.0), (4183, 0.0), (4184, 0.0), (4185, 0.0), (4186, 0.017174163612346503), (4187, 0.022826620261591563), (4188, 0.0), (4189, 0.21148484193802947), (4190, 0.042312831366667136), (4191, 0.018523560883502658), (4192, 0.0), (4193, 0.0), (4194, 0.03139941431749527), (4195, 0.020015376924986193), (4196, 0.022868831397745166), (4197, 0.07352176424085896), (4198, 0.0), (4199, 0.060793947875035725), (4200, 0.0), (4201, 0.0), (4202, 0.0), (4203, 0.07043740530086175), (4204, 0.0), (4205, 0.0), (4206, 0.0), (4207, 0.044701214128708824), (4208, 0.0), (4209, 0.0), (4210, 0.01959208755758905), (4211, 0.0), (4212, 0.0), (4213, 0.0), (4214, 0.0), (4215, 0.0), (4216, 0.0), (4217, 0.0), (4218, 0.03904040909767216), (4219, 0.0), (4220, 0.0), (4221, 0.0), (4222, 0.0), (4223, 0.0), (4224, 0.0), (4225, 0.0), (4226, 0.0), (4227, 0.0), (4228, 0.0), (4229, 0.0), (4230, 0.0), (4231, 0.0), (4232, 0.0), (4233, 0.0), (4234, 0.0), (4235, 0.0), (4236, 0.0), (4237, 0.0), (4238, 0.0), (4239, 0.0), (4240, 0.08465870213785966), (4241, 0.0), (4242, 0.032256655137271224), (4243, 0.0), (4244, 0.0), (4245, 0.0), (4246, 0.0), (4247, 0.01811899860366132), (4248, 0.0), (4249, 0.0), (4250, 0.0), (4251, 0.0), (4252, 0.16264404649617906), (4253, 0.0), (4254, 0.0), (4255, 0.0), (4256, 0.0), (4257, 0.0), (4258, 0.050665325431156684), (4259, 0.025581651970942598), (4260, 0.0), (4261, 0.0), (4262, 0.04590601605282293), (4263, 0.0), (4264, 0.0), (4265, 0.0), (4266, 0.0), (4267, 0.0), (4268, 0.047686566438911226), (4269, 0.0), (4270, 0.023987943198265284), (4271, 0.024769350134870378), (4272, 0.0), (4273, 0.0), (4274, 0.018581002093684174), (4275, 0.0), (4276, 0.0), (4277, 0.060576548048134296), (4278, 0.0), (4279, 0.0), (4280, 0.0), (4281, 0.0), (4282, 0.0), (4283, 0.0), (4284, 0.0), (4285, 0.0), (4286, 0.07922596231215039), (4287, 0.07953122451157187), (4288, 0.0), (4289, 0.0), (4290, 0.04081544214574794), (4291, 0.0), (4292, 0.0), (4293, 0.0), (4294, 0.0), (4295, 0.0), (4296, 0.0), (4297, 0.0), (4298, 0.0), (4299, 0.0), (4300, 0.0), (4301, 0.0), (4302, 0.0), (4303, 0.01858177341322699), (4304, 0.0), (4305, 0.0), (4306, 0.0), (4307, 0.0), (4308, 0.0), (4309, 0.047580532651052984), (4310, 0.023980658880685728), (4311, 0.0), (4312, 0.0), (4313, 0.0), (4314, 0.020142219899063483), (4315, 0.0), (4316, 0.0), (4317, 0.0), (4318, 0.0), (4319, 0.15855506724467167), (4320, 0.0), (4321, 0.017500588740103493), (4322, 0.0), (4323, 0.0), (4324, 0.0), (4325, 0.11884122014202936), (4326, 0.0), (4327, 0.0), (4328, 0.0), (4329, 0.09991599761816933), (4330, 0.022464473142053833), (4331, 0.0), (4332, 0.0), (4333, 0.026617603427997374), (4334, 0.0), (4335, 0.0), (4336, 0.0), (4337, 0.0), (4338, 0.024299677358231363), (4339, 0.0), (4340, 0.02286015723258615), (4341, 0.0938321790939947), (4342, 0.02087326149480712), (4343, 0.0), (4344, 0.0), (4345, 0.0), (4346, 0.023140088259535698), (4347, 0.024394457029170112), (4348, 0.021461996928224248), (4349, 0.0), (4350, 0.0), (4351, 0.02454687136085736), (4352, 0.0), (4353, 0.06301740887010052), (4354, 0.0), (4355, 0.0), (4356, 0.04161795842569192), (4357, 0.0), (4358, 0.10572797016239252), (4359, 0.04700398167255859), (4360, 0.0), (4361, 0.0), (4362, 0.0), (4363, 0.0), (4364, 0.025617891937709712), (4365, 0.0), (4366, 0.019372032289852476), (4367, 0.0), (4368, 0.0), (4369, 0.0), (4370, 0.0), (4371, 0.08005061466683427), (4372, 0.0), (4373, 0.0), (4374, 0.06845079440384715), (4375, 0.0), (4376, 0.0), (4377, 0.0), (4378, 0.0), (4379, 0.0), (4380, 0.023016670832897698), (4381, 0.0), (4382, 0.0), (4383, 0.0), (4384, 0.0), (4385, 0.0), (4386, 0.0), (4387, 0.0), (4388, 0.11727650856520938), (4389, 0.0), (4390, 0.0), (4391, 0.0), (4392, 0.0), (4393, 0.0), (4394, 0.0), (4395, 0.04799618670227931), (4396, 0.024149053814178874), (4397, 0.0256512679994783), (4398, 0.0), (4399, 0.03870878088101215), (4400, 0.0), (4401, 0.0), (4402, 0.018092121815821954), (4403, 0.0), (4404, 0.0), (4405, 0.019337501572730967), (4406, 0.0), (4407, 0.02948274000311803), (4408, 0.0), (4409, 0.0), (4410, 0.0), (4411, 0.1092806261807747), (4412, 0.0), (4413, 0.0), (4414, 0.0), (4415, 0.0), (4416, 0.0), (4417, 0.0), (4418, 0.0), (4419, 0.0), (4420, 0.0), (4421, 0.0), (4422, 0.0), (4423, 0.0), (4424, 0.0), (4425, 0.0), (4426, 0.0), (4427, 0.044234925867651646), (4428, 0.0), (4429, 0.0), (4430, 0.0), (4431, 0.0), (4432, 0.0), (4433, 0.0), (4434, 0.1454461133751169), (4435, 0.0), (4436, 0.0), (4437, 0.0962424758103818), (4438, 0.040784494772242906), (4439, 0.0), (4440, 0.0), (4441, 0.0), (4442, 0.0), (4443, 0.0), (4444, 0.0), (4445, 0.05013931605218044), (4446, 0.0), (4447, 0.019212018001313204), (4448, 0.0), (4449, 0.0), (4450, 0.0), (4451, 0.0), (4452, 0.0), (4453, 0.0), (4454, 0.08488190481878423), (4455, 0.0392964897497587), (4456, 0.0), (4457, 0.020888465003508317), (4458, 0.0), (4459, 0.0), (4460, 0.02584418416997566), (4461, 0.0), (4462, 0.0), (4463, 0.0), (4464, 0.0), (4465, 0.0), (4466, 0.0), (4467, 0.0), (4468, 0.01755347756162184), (4469, 0.0), (4470, 0.0), (4471, 0.0), (4472, 0.020407770707631882), (4473, 0.016900703465289157), (4474, 0.0), (4475, 0.0), (4476, 0.0), (4477, 0.0), (4478, 0.02285897954391441), (4479, 0.0), (4480, 0.0), (4481, 0.0), (4482, 0.021576734378952703), (4483, 0.03013934423150345), (4484, 0.0), (4485, 0.0), (4486, 0.0), (4487, 0.0), (4488, 0.0), (4489, 0.0), (4490, 0.02769707262944175), (4491, 0.0), (4492, 0.02192389781992831), (4493, 0.0), (4494, 0.0), (4495, 0.0), (4496, 0.0), (4497, 0.05074958254615897), (4498, 0.036709383676754914), (4499, 0.0), (4500, 0.04790975478658964), (4501, 0.023033198454500487), (4502, 0.0), (4503, 0.020891673781566422), (4504, 0.0), (4505, 0.0), (4506, 0.0), (4507, 0.0), (4508, 0.0), (4509, 0.0), (4510, 0.0), (4511, 0.0), (4512, 0.0), (4513, 0.0), (4514, 0.0), (4515, 0.05779121152944941), (4516, 0.027359716688671626), (4517, 0.0), (4518, 0.0), (4519, 0.045800764139079395), (4520, 0.0), (4521, 0.0), (4522, 0.0), (4523, 0.0), (4524, 0.0), (4525, 0.0), (4526, 0.031108251325783584), (4527, 0.0), (4528, 0.0), (4529, 0.0), (4530, 0.0), (4531, 0.0), (4532, 0.0), (4533, 0.0), (4534, 0.0), (4535, 0.0), (4536, 0.10507083148329288), (4537, 0.0), (4538, 0.06477430661497752), (4539, 0.0), (4540, 0.0), (4541, 0.06401645918033168), (4542, 0.0195217585598182), (4543, 0.0), (4544, 0.0), (4545, 0.0), (4546, 0.0), (4547, 0.0), (4548, 0.0), (4549, 0.0), (4550, 0.0), (4551, 0.0), (4552, 0.0), (4553, 0.0), (4554, 0.0), (4555, 0.0), (4556, 0.0), (4557, 0.0), (4558, 0.044436781109916675), (4559, 0.025035547452928145), (4560, 0.0), (4561, 0.0), (4562, 0.0), (4563, 0.0), (4564, 0.0), (4565, 0.0), (4566, 0.0), (4567, 0.0), (4568, 0.0), (4569, 0.08561540624448459), (4570, 0.0489873762199798), (4571, 0.0), (4572, 0.0), (4573, 0.0), (4574, 0.021947661032048708), (4575, 0.0), (4576, 0.0), (4577, 0.0), (4578, 0.0), (4579, 0.0), (4580, 0.0), (4581, 0.0), (4582, 0.0), (4583, 0.0), (4584, 0.0), (4585, 0.0), (4586, 0.0), (4587, 0.043483968322275045), (4588, 0.0), (4589, 0.0), (4590, 0.017799179016797596), (4591, 0.0), (4592, 0.0), (4593, 0.0), (4594, 0.0), (4595, 0.0), (4596, 0.0), (4597, 0.0), (4598, 0.037152477159289696), (4599, 0.02864103232341461), (4600, 0.01792038150656204), (4601, 0.0), (4602, 0.0), (4603, 0.0), (4604, 0.025562118909008866), (4605, 0.0), (4606, 0.0), (4607, 0.0), (4608, 0.0), (4609, 0.0), (4610, 0.0), (4611, 0.0), (4612, 0.0), (4613, 0.0), (4614, 0.0), (4615, 0.0), (4616, 0.0), (4617, 0.0), (4618, 0.0), (4619, 0.0), (4620, 0.0), (4621, 0.0), (4622, 0.0), (4623, 0.0), (4624, 0.0), (4625, 0.0), (4626, 0.0), (4627, 0.0), (4628, 0.0), (4629, 0.0), (4630, 0.0), (4631, 0.0), (4632, 0.0), (4633, 0.0), (4634, 0.0), (4635, 0.0), (4636, 0.0), (4637, 0.0), (4638, 0.0614629701849201), (4639, 0.020916060634154528), (4640, 0.0), (4641, 0.0), (4642, 0.0), (4643, 0.0), (4644, 0.0), (4645, 0.0), (4646, 0.0), (4647, 0.03770065602100805), (4648, 0.0), (4649, 0.0), (4650, 0.0), (4651, 0.0), (4652, 0.0), (4653, 0.0), (4654, 0.0), (4655, 0.0), (4656, 0.0), (4657, 0.0), (4658, 0.0), (4659, 0.16380297866729288), (4660, 0.0), (4661, 0.0), (4662, 0.021911887483699138), (4663, 0.04685703119694179), (4664, 0.0), (4665, 0.0), (4666, 0.0), (4667, 0.0), (4668, 0.0), (4669, 0.0), (4670, 0.0), (4671, 0.0), (4672, 0.0), (4673, 0.0), (4674, 0.0), (4675, 0.07453092819391191), (4676, 0.0), (4677, 0.0), (4678, 0.0), (4679, 0.01873500900245005), (4680, 0.0), (4681, 0.0), (4682, 0.0), (4683, 0.0), (4684, 0.021183973075823807), (4685, 0.0), (4686, 0.0), (4687, 0.0), (4688, 0.0), (4689, 0.0), (4690, 0.0), (4691, 0.0), (4692, 0.0), (4693, 0.0), (4694, 0.0), (4695, 0.0), (4696, 0.0), (4697, 0.0), (4698, 0.0), (4699, 0.10171461314279888), (4700, 0.13270770262489653), (4701, 0.0), (4702, 0.0), (4703, 0.0), (4704, 0.0), (4705, 0.0), (4706, 0.0), (4707, 0.0), (4708, 0.10907733659037426), (4709, 0.0), (4710, 0.0), (4711, 0.14326462150905026), (4712, 0.0), (4713, 0.0), (4714, 0.0), (4715, 0.0), (4716, 0.0), (4717, 0.0), (4718, 0.04090138161462782), (4719, 0.08050926321626396), (4720, 0.0), (4721, 0.0), (4722, 0.0), (4723, 0.0), (4724, 0.0), (4725, 0.0350572759219526), (4726, 0.0), (4727, 0.0), (4728, 0.0), (4729, 0.0), (4730, 0.038888008390855044), (4731, 0.0), (4732, 0.0), (4733, 0.0), (4734, 0.0), (4735, 0.0), (4736, 0.0), (4737, 0.02647500025040298), (4738, 0.0), (4739, 0.03254679082593494), (4740, 0.04342298142757839), (4741, 0.0), (4742, 0.0), (4743, 0.0), (4744, 0.0), (4745, 0.0), (4746, 0.0), (4747, 0.0), (4748, 0.0), (4749, 0.0), (4750, 0.0), (4751, 0.0), (4752, 0.01530155349951073), (4753, 0.0), (4754, 0.020342396485897956), (4755, 0.0), (4756, 0.17901370710495013), (4757, 0.022554618153497408), (4758, 0.17279992959195253), (4759, 0.07552308902485139)]\n"
          ]
        }
      ]
    },
    {
      "cell_type": "code",
      "source": [
        "len(Recommendation_Score)"
      ],
      "metadata": {
        "colab": {
          "base_uri": "https://localhost:8080/"
        },
        "id": "FXyZhLC6fLgn",
        "outputId": "f768b011-2122-4f31-9575-5784c7217682"
      },
      "execution_count": null,
      "outputs": [
        {
          "output_type": "execute_result",
          "data": {
            "text/plain": [
              "4760"
            ]
          },
          "metadata": {},
          "execution_count": 75
        }
      ]
    },
    {
      "cell_type": "markdown",
      "source": [
        "#**Get All Movies Sort Based on Recommendation Score wrt Favourite Movie**"
      ],
      "metadata": {
        "id": "nXdcBcQhfYNo"
      }
    },
    {
      "cell_type": "code",
      "source": [
        "# sorting the movies based o their similarity score\n",
        "Sorted_Similar_Movies = sorted(Recommendation_Score, key = lambda x:x[1], reverse = True)\n",
        "print(Sorted_Similar_Movies)"
      ],
      "metadata": {
        "colab": {
          "base_uri": "https://localhost:8080/"
        },
        "id": "ZGd1yi7Pf-p7",
        "outputId": "502c8f6a-21a9-4f4f-cafd-6e31d717c164"
      },
      "execution_count": null,
      "outputs": [
        {
          "output_type": "stream",
          "name": "stdout",
          "text": [
            "[(2851, 1.0000000000000002), (1842, 0.3721069502980919), (4189, 0.21148484193802947), (1646, 0.19185733177853936), (4756, 0.17901370710495013), (4758, 0.17279992959195253), (2673, 0.17183863776796623), (3684, 0.16383523983689194), (4659, 0.16380297866729288), (4252, 0.16264404649617906), (642, 0.16097327795528116), (4319, 0.15855506724467167), (399, 0.1542490571984066), (1393, 0.1540314277073474), (3812, 0.15389884902005552), (4434, 0.1454461133751169), (4711, 0.14326462150905026), (4122, 0.14118225967866466), (2588, 0.14088370650145465), (3685, 0.1387254791624838), (3967, 0.13815355774863738), (1932, 0.1378903753931722), (1290, 0.13606207652298916), (4074, 0.13523705540833003), (4700, 0.13270770262489653), (691, 0.13253206800539372), (2756, 0.13243803764017165), (879, 0.1313272259690616), (2484, 0.13060534929367118), (651, 0.13041956580424768), (1344, 0.12317943927187378), (953, 0.12314446283053637), (938, 0.12238470038638884), (4167, 0.11998089992263984), (2781, 0.11941644660168098), (115, 0.11900818617907016), (4325, 0.11884122014202936), (3189, 0.11763016051523405), (4388, 0.11727650856520938), (146, 0.11668748384057781), (1122, 0.11626970888409179), (2263, 0.11600486969777936), (1433, 0.11595067323899332), (1937, 0.11521571239308812), (2699, 0.11519412824821126), (1861, 0.11269948664723123), (2445, 0.11215257330457835), (771, 0.11104945673723741), (804, 0.11048955728480508), (1243, 0.11032422749639643), (1645, 0.11032374965839514), (4411, 0.1092806261807747), (785, 0.10921525618435979), (4708, 0.10907733659037426), (1157, 0.1090023080240561), (4358, 0.10572797016239252), (4536, 0.10507083148329288), (3117, 0.10400592914282297), (2925, 0.10268439320707848), (4699, 0.10171461314279888), (1517, 0.10114135213608962), (2352, 0.10112706146328836), (4329, 0.09991599761816933), (405, 0.09954821533067809), (1017, 0.0986855847171486), (2325, 0.09831537253043508), (2507, 0.09723875805848568), (1270, 0.09698361323675048), (3563, 0.09681548025991607), (853, 0.09640452157980575), (4437, 0.0962424758103818), (4045, 0.09602844974076911), (2187, 0.0939924835757356), (4341, 0.0938321790939947), (3000, 0.09382859402233153), (3785, 0.0936086299362065), (1528, 0.09305204346704879), (3790, 0.09178585869058194), (665, 0.09174497110049398), (1079, 0.09156235232600642), (522, 0.09102177258222485), (3456, 0.09099986284371676), (3656, 0.09065517652326893), (3060, 0.09061835565136675), (1101, 0.09000011072913817), (2196, 0.08945608177530268), (3338, 0.08917317756613369), (2440, 0.08912239697544966), (2494, 0.08889835351368747), (1973, 0.08785920762058545), (1621, 0.08741407636344146), (2909, 0.08717147506361073), (1928, 0.08690191292803082), (1206, 0.08597582871864207), (1486, 0.08588484515119095), (2831, 0.08569680704296308), (4569, 0.08561540624448459), (2371, 0.08528596275684913), (2185, 0.08496912652863686), (1803, 0.08490182605225775), (4454, 0.08488190481878423), (4240, 0.08465870213785966), (2375, 0.08449640686597722), (14, 0.08436008401391415), (1279, 0.08370060485125318), (2463, 0.08350311995645868), (859, 0.08290995229624401), (3269, 0.08265292947140761), (2298, 0.08258687643615667), (2952, 0.08213866626542336), (1781, 0.08205409300548), (3333, 0.0814578302034133), (1817, 0.08123485036784145), (105, 0.0809661790978238), (4719, 0.08050926321626396), (1142, 0.0803548962212241), (3111, 0.08028916498404906), (4371, 0.08005061466683427), (45, 0.07987506537811082), (1245, 0.07982832654083073), (4287, 0.07953122451157187), (4286, 0.07922596231215039), (1213, 0.07854218196453656), (206, 0.0781291165995171), (3056, 0.07794778736429743), (1611, 0.07733741402673268), (2617, 0.07711640613918662), (712, 0.07703551623510813), (2779, 0.07697093081755521), (2817, 0.07693979178878321), (2916, 0.07645550763538281), (1166, 0.07630760110698541), (2884, 0.0762839584079773), (971, 0.07603133244236283), (1249, 0.0756877214596097), (2207, 0.07559677630620533), (4759, 0.07552308902485139), (1074, 0.07541955966924768), (3152, 0.0749999531658211), (2554, 0.07489541667651922), (2290, 0.07466220897938079), (689, 0.07453781322054555), (4675, 0.07453092819391191), (2019, 0.07447185137377184), (3289, 0.07434601980149252), (2719, 0.07430946857856005), (4197, 0.07352176424085896), (498, 0.07317049425688482), (410, 0.0731370394648146), (3594, 0.07301884341236894), (3539, 0.072945829861324), (1217, 0.0729220588346372), (3477, 0.07284694587956361), (1745, 0.0722649482862258), (1489, 0.07224578601041741), (905, 0.07204517616309955), (1086, 0.07178450854244048), (451, 0.07168743088943472), (984, 0.07145638390618532), (154, 0.07117440155087348), (807, 0.07075539474222907), (2965, 0.07074258740004574), (1867, 0.07068573412218823), (1009, 0.07065890536150342), (1654, 0.07055126416074818), (2619, 0.07054071605235077), (1335, 0.07053451205648208), (4203, 0.07043740530086175), (1261, 0.06996221011084562), (1379, 0.06992401643179882), (3127, 0.06984394323354713), (64, 0.06975247543951364), (1353, 0.06930708469804078), (2050, 0.06927224604901748), (1757, 0.06902976675730071), (392, 0.06897579663071671), (1001, 0.06889583878750274), (1794, 0.06879040523899256), (2281, 0.06874370537564624), (4374, 0.06845079440384715), (842, 0.06839506275396816), (827, 0.06799748433777937), (2086, 0.06799307256768579), (3626, 0.06791898713963325), (1634, 0.06775917990183605), (3083, 0.06754386933002372), (3312, 0.06752059323922144), (126, 0.06743858817766822), (961, 0.06743566077629475), (2717, 0.06741930669264837), (656, 0.06739879115478926), (2025, 0.06738493417564431), (772, 0.06727046809272842), (1869, 0.0669805213723336), (3510, 0.06697806291714699), (2841, 0.06693248334455223), (1537, 0.06678330258631347), (1362, 0.06673457439633458), (1256, 0.0662529606430724), (2034, 0.06596546303739574), (2869, 0.06595399797894738), (384, 0.06592406568349381), (3149, 0.06592168967123113), (1787, 0.06585836659595629), (2821, 0.06570284766189602), (1690, 0.06561844580965567), (932, 0.06558033555513389), (2266, 0.06556146986211064), (894, 0.06555060285412653), (2331, 0.06552074199624101), (137, 0.06537241381903725), (524, 0.0653232336390159), (1255, 0.06529198004727897), (2660, 0.06524208467631512), (939, 0.06518901843763186), (964, 0.06491948171254294), (4538, 0.06477430661497752), (788, 0.06475621135585943), (344, 0.06453800751013743), (3219, 0.06451039855484761), (3503, 0.06449452649489101), (1312, 0.06440175342269293), (1951, 0.06421433622633935), (1130, 0.064164644966448), (4541, 0.06401645918033168), (569, 0.06379349601621988), (791, 0.06316784305141457), (4353, 0.06301740887010052), (2274, 0.06293823286192933), (463, 0.0628885255439541), (2813, 0.06280250902745775), (781, 0.06275528037514452), (1487, 0.06245652489015483), (546, 0.06207723143595468), (1207, 0.06206319031085336), (2473, 0.06194304421937126), (545, 0.06192084187398686), (3190, 0.06188434842987477), (2162, 0.061735339672876886), (981, 0.0615793364643468), (4638, 0.0614629701849201), (2570, 0.06109537553065196), (3167, 0.06101696548018574), (1201, 0.06084158033002831), (4199, 0.060793947875035725), (4277, 0.060576548048134296), (1958, 0.06056335860118908), (2157, 0.06048284607684761), (2457, 0.0602004354023984), (1829, 0.05998476910371705), (2929, 0.05980660460959078), (1089, 0.0597538866475498), (1571, 0.05970779995234523), (3422, 0.05939896047417212), (1890, 0.05917183615444449), (2151, 0.058995636743804016), (1318, 0.058985035560178506), (3214, 0.0589770446425374), (3916, 0.058914230460538286), (2924, 0.05860810611140897), (2074, 0.058567527171829524), (3813, 0.05805613983304425), (1698, 0.05801361347079763), (2663, 0.05790220625210573), (4515, 0.05779121152944941), (52, 0.05775257997611678), (1752, 0.05746305963190582), (3133, 0.057367969127180174), (4027, 0.057286106987169294), (1479, 0.05726760710723561), (1103, 0.05723351867802899), (1521, 0.056689796529033595), (2322, 0.05649814966682715), (1581, 0.05638882149775614), (660, 0.05620999750068882), (1388, 0.05605730158003237), (1692, 0.05588466005134503), (3155, 0.05557206930753395), (3225, 0.05538444546110512), (3553, 0.05513946114480154), (746, 0.05507686471303181), (2519, 0.055064744344603525), (246, 0.05504206109247427), (3110, 0.054869781408162836), (2840, 0.0548654146053786), (1321, 0.05464403499598161), (3610, 0.0545190992118748), (1494, 0.05451252663284139), (3387, 0.054245083683427515), (3073, 0.05385862278472853), (758, 0.05385185506591309), (621, 0.05352323164152219), (2679, 0.05344294936633997), (985, 0.05333058423139416), (3507, 0.05296785825018869), (2853, 0.05292615936918208), (443, 0.05266600419551802), (820, 0.05260734824852809), (1306, 0.05241421332689033), (1524, 0.05234301929690833), (2379, 0.05213569710459891), (2945, 0.0521084816800698), (2, 0.05199058387860429), (974, 0.05197158128389605), (2269, 0.05195587055260486), (198, 0.051953629715095845), (1883, 0.05190536193122109), (3890, 0.05186954555437886), (3982, 0.05179331364541223), (3893, 0.051670833780626306), (3182, 0.05160643761731318), (1014, 0.05157204532238285), (1232, 0.05130136964128172), (3392, 0.0511957128146344), (3611, 0.051143600816426917), (2931, 0.05095449764682147), (1575, 0.05081830769398111), (1594, 0.050809290843862646), (2423, 0.05079049904202035), (4497, 0.05074958254615897), (3304, 0.05068391484069358), (4258, 0.050665325431156684), (520, 0.050630882666113805), (2401, 0.05062601395093936), (1850, 0.05048623611993342), (3418, 0.05037856275038977), (4445, 0.05013931605218044), (2446, 0.05005709817041551), (1292, 0.05001486134121212), (249, 0.049998530233381785), (378, 0.04999757716019987), (192, 0.04991528187480532), (3386, 0.049819003933060386), (2643, 0.04975815982441835), (2275, 0.049724147031950834), (3969, 0.0497198558305289), (2646, 0.04965641329471224), (3796, 0.04964598119710732), (3077, 0.04957706488932352), (1407, 0.049399583019582256), (2531, 0.04930800001498213), (2770, 0.0492615186096743), (2788, 0.04913115553665511), (2480, 0.049119285185622814), (4570, 0.0489873762199798), (3557, 0.04893501954792493), (4169, 0.04874481568465288), (816, 0.04873867849852084), (2447, 0.04849559558797846), (217, 0.048493845267175005), (3272, 0.04838475436954847), (2073, 0.04835291830037493), (3474, 0.048296546259962), (70, 0.0482863380238525), (178, 0.04827713059000545), (3142, 0.04812781615353384), (1339, 0.0480750063615956), (1626, 0.04807162700274914), (1419, 0.04804205934957628), (4395, 0.04799618670227931), (4500, 0.04790975478658964), (726, 0.04782447880570974), (3797, 0.047804710394660596), (2592, 0.04777599585748094), (1795, 0.04774398747290389), (3498, 0.04772383224581621), (4268, 0.047686566438911226), (1002, 0.04767519207440626), (1250, 0.04765960611333381), (4140, 0.04765277831826532), (4309, 0.047580532651052984), (4021, 0.047565309251046704), (741, 0.04755516515348604), (1823, 0.047478847260404335), (1696, 0.04742518117824698), (742, 0.047358618017433865), (30, 0.04732888653100177), (1481, 0.04731644132796647), (2577, 0.04726839491388696), (3990, 0.047177653388934426), (1935, 0.047145383039779734), (4359, 0.04700398167255859), (4663, 0.04685703119694179), (3736, 0.046799119691019214), (1614, 0.04672223701442931), (408, 0.04668543443995316), (1844, 0.04658533744614965), (2876, 0.04651365934205741), (4086, 0.0464521121223016), (611, 0.04633464028021578), (539, 0.046326974979931226), (3864, 0.04620341649217832), (3683, 0.04618001439768681), (2085, 0.046010437239221894), (4262, 0.04590601605282293), (1098, 0.04581276397555078), (4519, 0.045800764139079395), (553, 0.045795503492079136), (3751, 0.04571187704141781), (1695, 0.04557428096805524), (149, 0.04551253153437129), (2195, 0.04545662922755825), (1116, 0.04530667801026064), (2578, 0.04530143674507687), (3769, 0.04529316141939056), (1873, 0.04522961596662044), (3078, 0.045144966791528636), (202, 0.04513625050150767), (3461, 0.0451206152542576), (3098, 0.044852040897181394), (4207, 0.044701214128708824), (540, 0.04466171841986992), (3926, 0.044470637858746345), (4558, 0.044436781109916675), (3208, 0.04428733375751812), (4427, 0.044234925867651646), (2257, 0.04418381039868551), (3892, 0.04411452731834864), (756, 0.04402460414827272), (453, 0.04394003468043527), (2998, 0.043867371805811683), (2393, 0.04384298403168847), (2387, 0.043834600091883495), (1173, 0.04381211979670208), (2677, 0.043779609124545094), (2161, 0.04369526097869792), (2587, 0.0434907524780632), (4587, 0.043483968322275045), (4740, 0.04342298142757839), (2135, 0.04342153113907585), (1998, 0.043341836624735314), (3458, 0.04324150383638363), (4173, 0.04322063168999882), (1578, 0.04310994496738689), (495, 0.04310765895453297), (1550, 0.04304552216398976), (1706, 0.04297345474471506), (1082, 0.04288587423886855), (2650, 0.04284241786834164), (3994, 0.04268551115741505), (2988, 0.04265425187481216), (2449, 0.042607121607676525), (2899, 0.04251493739959011), (2210, 0.04244776684803764), (658, 0.04241834527408911), (4190, 0.042312831366667136), (989, 0.042299301937358334), (559, 0.04216097036994582), (2976, 0.042116968620534344), (2636, 0.04205441158113499), (2833, 0.04199975926954957), (2014, 0.04190837775689795), (946, 0.04190493472894315), (622, 0.04184079880615799), (3660, 0.04182424236963272), (1389, 0.04177042956823342), (2761, 0.04165598059269022), (4356, 0.04161795842569192), (3912, 0.04154327629839204), (3303, 0.041478338365995106), (2621, 0.04141952509790864), (528, 0.041407091806931806), (1979, 0.04136056857332169), (3270, 0.04125304053231152), (1425, 0.04114746964960096), (155, 0.04110973719069071), (541, 0.04108719377097392), (4718, 0.04090138161462782), (2897, 0.04084314783819291), (4290, 0.04081544214574794), (4438, 0.040784494772242906), (3090, 0.04072459870049658), (1913, 0.040642958692465356), (1777, 0.04060388237277924), (3472, 0.04059562239642261), (1648, 0.04059259734564741), (4164, 0.040566665242512644), (1084, 0.04045981662082579), (2612, 0.04036760823638557), (4135, 0.0403625484532109), (1691, 0.04022731501511594), (1464, 0.0401266447141109), (113, 0.04008981229048264), (2901, 0.040086405204327394), (2512, 0.0400645513653943), (1744, 0.039973580673883236), (1463, 0.03994538309075202), (404, 0.03987826259438855), (3646, 0.03974906789816894), (1428, 0.03963107663040211), (2461, 0.03947953859252595), (1557, 0.0394011900882879), (3738, 0.03936080441875323), (4455, 0.0392964897497587), (662, 0.039289992221032494), (1298, 0.03916183290165414), (346, 0.03916150053391558), (4218, 0.03904040909767216), (2509, 0.038942191981541856), (4730, 0.038888008390855044), (3753, 0.038863338611558995), (4399, 0.03870878088101215), (2615, 0.038646918019887816), (3390, 0.03847103549762411), (3613, 0.038408384616561674), (1878, 0.03839988619057632), (1814, 0.03836931821542135), (1067, 0.0383593552234518), (3370, 0.03832404838887578), (2100, 0.03827772608367121), (1783, 0.03824969413830834), (2962, 0.03824696813960644), (58, 0.03822451118830984), (1529, 0.038129816730406586), (1546, 0.03810267779472004), (242, 0.038036976645252726), (3807, 0.0380119881146724), (1678, 0.03793762632381598), (304, 0.03789902191153775), (2216, 0.03783526004862338), (713, 0.037770615477518386), (3081, 0.03772145702515302), (4647, 0.03770065602100805), (1584, 0.03766764070266704), (1592, 0.03758781872155097), (3868, 0.03742894984948857), (699, 0.03742735433552848), (3509, 0.03736042258238991), (2327, 0.03725235963750917), (2183, 0.037234494557967984), (4598, 0.037152477159289696), (1610, 0.037087273865017645), (1915, 0.037079273367065), (3071, 0.03690599451719431), (2789, 0.03681754072592942), (920, 0.03672402409594418), (4498, 0.036709383676754914), (1784, 0.03662984381157692), (1485, 0.03650545261404439), (2774, 0.03644277159301488), (912, 0.03607293370571572), (1308, 0.03604005689050356), (2711, 0.03603849699451314), (1496, 0.03600912312380953), (2656, 0.03600587874351282), (1767, 0.03587752112941738), (1221, 0.035877467298667184), (3121, 0.03576416164982457), (435, 0.03563010636951908), (3344, 0.03553599980308001), (2772, 0.035521865807162045), (414, 0.035521432104013484), (2584, 0.035418716597682906), (757, 0.03540532145535396), (3204, 0.03533338363249738), (511, 0.035298887935723944), (3752, 0.03520142534233181), (82, 0.0351470497206483), (475, 0.03506267937061532), (4015, 0.035057401030485214), (4725, 0.0350572759219526), (3674, 0.03505039150284654), (357, 0.03504870118580005), (2448, 0.03503122445236651), (2365, 0.035000144247559185), (195, 0.0349776130784922), (2603, 0.03492635899904277), (3137, 0.03490892341958904), (3213, 0.03466677486451559), (3063, 0.034496489644999455), (277, 0.034373231621269915), (2039, 0.034365980738478075), (1354, 0.03429889014098454), (1840, 0.03419105912646315), (302, 0.03413681154248869), (2908, 0.034092425502765325), (1714, 0.034019390374160866), (2199, 0.033827788015285784), (2359, 0.033787128571809946), (1780, 0.03372557178765598), (3215, 0.033649206326025874), (2188, 0.03351871511661372), (1062, 0.03351291173561762), (1482, 0.03336807403768991), (527, 0.03333362069780197), (2468, 0.033310306993139166), (2287, 0.03313212362923488), (831, 0.03312472098677675), (563, 0.033095055515020705), (1925, 0.032912128224278865), (3144, 0.03256805578206945), (2035, 0.03256360402022644), (4739, 0.03254679082593494), (3089, 0.03242408716713139), (3199, 0.032382013840595976), (3835, 0.032328933795868924), (4242, 0.032256655137271224), (196, 0.032037363679467606), (2521, 0.031939371229352795), (2539, 0.03191218730133983), (1300, 0.03186528361328218), (2981, 0.031704605804121766), (1523, 0.0314347883822471), (2622, 0.03141853426626528), (4194, 0.03139941431749527), (1981, 0.031306169223648476), (391, 0.031176491227344044), (3620, 0.031120356329583054), (3545, 0.031114474284575606), (4526, 0.031108251325783584), (2273, 0.03097525367150548), (3554, 0.03089522531043376), (709, 0.030612209246995748), (4160, 0.030370056837618866), (3546, 0.030326039337225972), (2877, 0.030304456959782147), (4483, 0.03013934423150345), (738, 0.029811268694927524), (2579, 0.029795364376736168), (3473, 0.029727889589766725), (1758, 0.029639689761875393), (2530, 0.029554573856236048), (3616, 0.029544153824883995), (4407, 0.02948274000311803), (3704, 0.029378361140273094), (2982, 0.029364269929338088), (3682, 0.02919000877044893), (1711, 0.029076244975168843), (1683, 0.029058267863925524), (1677, 0.02899411644563802), (2485, 0.028929804120690062), (3607, 0.02886457276306346), (4599, 0.02864103232341461), (108, 0.028557143065857604), (2549, 0.028540123830267862), (3001, 0.028412471262280005), (2839, 0.028267427274085655), (2488, 0.028144135788255777), (3830, 0.028026740491718636), (2857, 0.02801563468216512), (2532, 0.027896639471672143), (3112, 0.027867720985663945), (2400, 0.02786022776671188), (2760, 0.02785955736382554), (4490, 0.02769707262944175), (2406, 0.027577871348220297), (1615, 0.02757370194399935), (2054, 0.02754662156333544), (2927, 0.027527198090473125), (4516, 0.027359716688671626), (3109, 0.02735664780741653), (3581, 0.027355629654032623), (2154, 0.027344661369615834), (1713, 0.02726426020485078), (153, 0.027218216053127547), (2806, 0.027141002931367134), (3524, 0.02711968176408708), (3671, 0.02708822123512917), (753, 0.02701790950993182), (4031, 0.02687134860501995), (4333, 0.026617603427997374), (2049, 0.02652271904716198), (3497, 0.026501233524954815), (508, 0.026475651701945945), (4737, 0.02647500025040298), (2873, 0.026462818876626427), (3242, 0.02646057803426095), (3505, 0.026412023533041694), (2351, 0.02626158129774312), (1940, 0.026220953553763103), (4118, 0.026182442692136557), (3086, 0.02616902930765255), (1466, 0.026095999144695563), (2391, 0.02609165536235461), (3763, 0.02607352883972934), (2381, 0.025959110478540756), (2265, 0.025878813279913503), (4460, 0.02584418416997566), (3540, 0.02578942560901215), (3805, 0.02571653814098914), (3858, 0.025683247626505527), (4397, 0.0256512679994783), (4364, 0.025617891937709712), (2810, 0.025602807100984684), (3256, 0.025595890263668566), (4259, 0.025581651970942598), (4604, 0.025562118909008866), (2405, 0.02551997413889368), (1843, 0.025452349585748085), (2267, 0.025385043433811923), (3822, 0.025313650413663673), (461, 0.025292833441344937), (2443, 0.0252668994042003), (2433, 0.025240138138655034), (1923, 0.025206626268576393), (2330, 0.025165241929495197), (1520, 0.02508005060082002), (4559, 0.025035547452928145), (2390, 0.02501505398777545), (2710, 0.024997923855749685), (824, 0.024957718042523412), (4034, 0.024841624812054375), (715, 0.024837122079636734), (1246, 0.024817473796922465), (3817, 0.02481466547576987), (2604, 0.02478353073178467), (4271, 0.024769350134870378), (2223, 0.024764879724437475), (2887, 0.024722811243481385), (3221, 0.02470012702468213), (2260, 0.024660880596543835), (2672, 0.024657243851309442), (365, 0.024629719366051468), (2720, 0.02462398660448994), (2675, 0.02460688016411086), (1968, 0.024549603581568293), (4351, 0.02454687136085736), (794, 0.02451988508761313), (891, 0.024448751781096408), (227, 0.02441586751151529), (4347, 0.024394457029170112), (2052, 0.024389371585511944), (679, 0.024364841043811064), (3938, 0.024344557736802237), (2921, 0.024343106636320083), (2583, 0.02434097210615065), (3003, 0.024309443095067815), (2261, 0.024304488024234527), (4338, 0.024299677358231363), (1766, 0.02427324752179051), (3726, 0.024268585966390744), (470, 0.02426646233076399), (2493, 0.02425814226979226), (3735, 0.024242653074200177), (1554, 0.024221190470277616), (2466, 0.024215625579640257), (720, 0.02420774882076415), (2555, 0.024206425553513957), (4396, 0.024149053814178874), (3234, 0.02410721167975807), (4010, 0.024094243228782564), (2316, 0.024073639651857076), (2372, 0.024072891289986038), (2176, 0.024064696630733035), (3116, 0.02399021503499308), (3187, 0.023988984903444692), (4270, 0.023987943198265284), (4310, 0.023980658880685728), (4157, 0.023941319814474973), (205, 0.02392839552326576), (2854, 0.023910852236669115), (2283, 0.02387906932310368), (2450, 0.02385966499283688), (464, 0.023813926879178725), (3846, 0.023807532103711785), (3084, 0.023773912161635786), (2462, 0.02369111597561657), (3593, 0.023652487696867636), (2337, 0.023635968506616777), (1999, 0.023629182148760707), (2079, 0.023618628506972075), (977, 0.02358107199240321), (1513, 0.0235088459854875), (3943, 0.023507347458581393), (3642, 0.02349355538336352), (3444, 0.023481079376164567), (1168, 0.023462587672286563), (688, 0.02345005638013744), (1737, 0.023377392829261174), (2708, 0.023364478073997406), (802, 0.02335562856181395), (2410, 0.023349834218845265), (3516, 0.023327728429420255), (1604, 0.02328427626869699), (2637, 0.023235743266734516), (1857, 0.023225267320954073), (1141, 0.023183937479767016), (1011, 0.02318078045778594), (637, 0.023174904309074228), (3080, 0.02316408425021433), (4346, 0.023140088259535698), (576, 0.02311951679310825), (308, 0.023106329953600745), (2741, 0.02309427541404292), (2335, 0.023093424816788305), (437, 0.02309144847669136), (188, 0.023045882260964004), (1899, 0.023034401005112688), (4501, 0.023033198454500487), (120, 0.023028671713209985), (3236, 0.023025854632452675), (3871, 0.023021806420104807), (4380, 0.023016670832897698), (3746, 0.02300144368419169), (717, 0.022976598606282945), (2568, 0.022912198009754806), (3816, 0.022905289875568627), (3728, 0.02288661557659308), (517, 0.022883387653922015), (4196, 0.022868831397745166), (1670, 0.022863494733837666), (4340, 0.02286015723258615), (4478, 0.02285897954391441), (341, 0.022838160501738758), (4136, 0.022831499250177835), (2856, 0.022828039886442452), (4187, 0.022826620261591563), (1600, 0.02280705497652505), (2082, 0.022797628830912905), (1731, 0.02277229094984206), (2112, 0.022760850363506006), (730, 0.022734158872817593), (1474, 0.022701495495682403), (2358, 0.02268846302855451), (1328, 0.022678947262331023), (362, 0.022672237409593034), (686, 0.02266743846643774), (1035, 0.022657696586406234), (3695, 0.02264697296061002), (2402, 0.022641434803310562), (1531, 0.022636696334426082), (485, 0.02261882082758711), (3335, 0.022608953171447763), (2317, 0.022603486113974197), (3297, 0.02259156206390904), (2963, 0.02258511915105761), (4757, 0.022554618153497408), (2885, 0.02255218002341324), (2896, 0.022523653156858364), (797, 0.02249744635965356), (3632, 0.022471386774683792), (4330, 0.022464473142053833), (3780, 0.02244905360918014), (2208, 0.022441257173319133), (3259, 0.02243646413843197), (2782, 0.022398608673036967), (385, 0.0223956367768701), (1225, 0.02233580333287895), (896, 0.022329496034683132), (2259, 0.022310802683903102), (340, 0.02227513366245428), (1613, 0.022267115903416755), (2729, 0.02226011961894375), (2456, 0.022247831729105293), (1460, 0.02222799806923699), (3628, 0.022206822923783353), (459, 0.022197428525782027), (3849, 0.022194573287196435), (2414, 0.022190380780760577), (3181, 0.02213199739427087), (956, 0.022121150241837577), (1902, 0.022090703910498236), (2041, 0.022087769773692777), (3476, 0.0220831813686404), (556, 0.022068848602825528), (321, 0.022061827199054983), (3464, 0.022055552094289926), (1534, 0.022047452006702155), (2799, 0.022047072377793086), (2087, 0.022036271167685636), (1839, 0.022027311320233497), (3209, 0.02200842672241258), (700, 0.022002741012008636), (1431, 0.02198683320696037), (219, 0.02197520251575843), (363, 0.021970994611245496), (4574, 0.021947661032048708), (724, 0.021947301675802194), (2171, 0.021938528759645422), (4492, 0.02192389781992831), (4662, 0.021911887483699138), (908, 0.021905019083479114), (2451, 0.021896467029406216), (1640, 0.02187448395531889), (1336, 0.021849996430232606), (2661, 0.021808219299894464), (1459, 0.02178331783291679), (2652, 0.021776213733559657), (612, 0.021745024754584855), (1155, 0.02171459156847039), (1402, 0.021703010870545665), (1233, 0.02169959273133562), (3330, 0.02169795010842533), (814, 0.02167508803858133), (4033, 0.021665825203252685), (1518, 0.02165016961441416), (1013, 0.021633691888608496), (301, 0.02163363334836052), (413, 0.021625934588440136), (3506, 0.021613555968954434), (42, 0.0215959284477048), (466, 0.02159559967540993), (2704, 0.021594455361414636), (4482, 0.021576734378952703), (1333, 0.02157186923470103), (1768, 0.02155841780107166), (2198, 0.02155143188588611), (2046, 0.021544136965002614), (3388, 0.02148770886161003), (4348, 0.021461996928224248), (909, 0.02145959464679911), (1119, 0.021447855832005442), (1930, 0.021438906025494052), (4168, 0.021437715800825426), (1411, 0.02143685505541393), (3286, 0.021436214472218967), (1476, 0.021436112641416403), (1195, 0.02143193975349236), (2334, 0.02142942138950274), (1804, 0.021416496858272637), (3722, 0.02141572804066614), (4097, 0.021402118768958884), (486, 0.02140100815552431), (1918, 0.021397266454207704), (1525, 0.021374057459555347), (2516, 0.02136804967986594), (2419, 0.02136714136651852), (918, 0.0213585475381145), (3774, 0.02135370272708845), (2120, 0.021347581276485558), (743, 0.02133923865620453), (1140, 0.02133283026622844), (270, 0.021315548737433083), (297, 0.021276079574972948), (696, 0.021248405118681642), (987, 0.02122304696497085), (2790, 0.021197456945675687), (315, 0.021195884165327018), (2332, 0.02118759708035035), (4684, 0.021183973075823807), (767, 0.021171880256559864), (3482, 0.02113545676979176), (809, 0.02112329752090182), (1198, 0.021106143224388457), (3631, 0.021096811650059104), (1435, 0.021093052770268163), (2511, 0.02108751094540451), (2397, 0.021075275363502288), (3138, 0.021073454091015693), (1204, 0.021069722402673175), (1522, 0.02106297311443875), (2030, 0.021062136343933408), (1936, 0.02104761283528316), (2430, 0.021029927121890498), (298, 0.021003183670742855), (322, 0.021002361185189514), (117, 0.020997767086728566), (3732, 0.02099173493419706), (2668, 0.020988924660841696), (1961, 0.020976057206454273), (472, 0.020970411215299602), (1182, 0.0209673815938087), (259, 0.020966787442864548), (3985, 0.02096343857559968), (2421, 0.02095998461021886), (1755, 0.020954476599152005), (3643, 0.020949690168249508), (3348, 0.02094618587569663), (3033, 0.020945021796629586), (2396, 0.020934045015949247), (2178, 0.020933556287748643), (1361, 0.02092540423404985), (4639, 0.020916060634154528), (4089, 0.020912693449182115), (1769, 0.02090657851386956), (752, 0.02090415567244155), (4503, 0.020891673781566422), (4457, 0.020888465003508317), (4342, 0.02087326149480712), (1223, 0.020872569694449474), (2147, 0.020854794819481444), (3427, 0.02085197962942617), (1257, 0.020851009638023155), (3229, 0.020849253041586142), (66, 0.02084501086049999), (806, 0.020836587594560307), (2319, 0.0208275020348978), (1330, 0.020818384937907636), (3188, 0.02080784498538041), (1720, 0.020807713075103672), (3701, 0.020805560962827364), (3596, 0.020800901293146577), (3991, 0.02079710914383063), (2798, 0.02077375830099086), (312, 0.020772178624863854), (2153, 0.02076842784427678), (1846, 0.02075374141814275), (1229, 0.02075288151528645), (5, 0.02075180321657067), (3287, 0.020750521102350174), (1911, 0.020738844329109964), (3536, 0.020735085250325542), (447, 0.02071129206882209), (845, 0.020710803839292802), (1587, 0.02070764803051922), (2614, 0.020702537782522536), (2408, 0.02069595097509146), (3673, 0.020691506269962235), (3847, 0.020671073847934422), (2571, 0.020669513832347695), (456, 0.020663062160919156), (2326, 0.020654350381659237), (2095, 0.020651190371588923), (1955, 0.020647351026594454), (1704, 0.020646992834365555), (2938, 0.020646057581084818), (1598, 0.02064402182875552), (179, 0.02063841817870604), (361, 0.020623385448372143), (245, 0.020600646168832858), (4128, 0.0205973292024237), (1382, 0.020565311012159422), (1358, 0.020548169102713607), (4146, 0.020528062422838354), (423, 0.02051640061328102), (1541, 0.02051239294366096), (2130, 0.020479995302041143), (846, 0.020464931431433842), (1165, 0.020457010859870468), (1726, 0.02045271796164393), (1891, 0.020428494387941195), (3321, 0.02042438794910531), (3260, 0.0204154354470982), (519, 0.0204113132060209), (4472, 0.020407770707631882), (2777, 0.020397856941886977), (1606, 0.020393529479004417), (1889, 0.02038720086067259), (2329, 0.020350440840947944), (3153, 0.020347670437105024), (3018, 0.020346672720456788), (4754, 0.020342396485897956), (2654, 0.020331856391832666), (3342, 0.02030325236815822), (2117, 0.020265265856389846), (1451, 0.020263112154427724), (1505, 0.020240232293763236), (3457, 0.020239188571867333), (1327, 0.020237405536730688), (3058, 0.02022609402710217), (3350, 0.020223721476513534), (931, 0.02022340850423131), (2666, 0.020219863982364396), (1697, 0.020202471365388407), (1472, 0.020198542824455264), (2150, 0.020197446087525845), (1461, 0.0201811628132352), (204, 0.02018058470331028), (655, 0.020173288145977082), (3792, 0.020166647102014854), (439, 0.020162835808608025), (1602, 0.020152552145458306), (4314, 0.020142219899063483), (3151, 0.020141626570436465), (3379, 0.02012843603007828), (2367, 0.020109188558310294), (54, 0.020104727030081804), (4159, 0.020095180435591636), (1820, 0.02008667812384395), (335, 0.02007168030359692), (131, 0.02007094563088817), (193, 0.020062220284108645), (2163, 0.020051806423220308), (3739, 0.020039630390466266), (2980, 0.02002982095823778), (3533, 0.020023717664924914), (4195, 0.020015376924986193), (1085, 0.01997156681593879), (3011, 0.019967080795170285), (2812, 0.019965529149331973), (2582, 0.019959380688989628), (4099, 0.019950776479651183), (2131, 0.019949410957269948), (490, 0.01991839730652858), (3650, 0.019884917821864856), (2593, 0.01988282317027872), (1875, 0.019876688121239567), (1987, 0.019861631457728925), (2250, 0.019779227839841065), (4020, 0.019772633936214347), (4137, 0.019744755360431913), (1552, 0.01973979365053237), (3211, 0.019738960073383778), (2487, 0.019733181735071856), (2808, 0.019717185585510593), (11, 0.019710743631766038), (299, 0.019693703732885544), (2933, 0.01969060864588355), (4073, 0.01968459574396537), (3606, 0.019675542549936618), (2460, 0.019675366228008973), (3066, 0.01966206795306079), (3366, 0.019647166440385506), (2129, 0.019644560530004716), (3147, 0.01964108738520395), (2706, 0.01963643301861264), (4059, 0.019613528025317323), (4011, 0.01960891241198666), (4210, 0.01959208755758905), (1824, 0.019586260138182723), (1412, 0.019570315834035786), (1589, 0.01956515657487939), (3237, 0.019563228640163396), (2435, 0.01955825878369989), (1700, 0.01955540567054979), (1191, 0.019546483411229748), (1841, 0.019541932621019904), (822, 0.019522712443504682), (4542, 0.0195217585598182), (1368, 0.01950062499925359), (1041, 0.019496008325651088), (4009, 0.019480934702054482), (2279, 0.01947844257447206), (1854, 0.019476989708747193), (3246, 0.019472783144161194), (2517, 0.019460172575998767), (1898, 0.019446952548557137), (535, 0.01943948838419109), (1539, 0.019438915245830673), (1304, 0.01940643367624354), (1235, 0.019403072425352486), (497, 0.019403006974058133), (1373, 0.019396921508552534), (2763, 0.019384674486221835), (4366, 0.019372032289852476), (4405, 0.019337501572730967), (1664, 0.019309606829569954), (1607, 0.019298552219643394), (1076, 0.019293656182031334), (1849, 0.01929136265199611), (1663, 0.01926861192369675), (1197, 0.019267682457467395), (865, 0.019259014734209556), (1561, 0.019249695807646558), (4447, 0.019212018001313204), (4109, 0.019196889807269968), (1992, 0.019177055447423836), (3082, 0.01916457087890398), (2752, 0.019155310529906894), (3579, 0.019145097256661036), (3974, 0.019144820954642067), (1495, 0.019129521543635224), (3948, 0.019086925387530863), (4155, 0.019085036274569003), (1036, 0.019081180905041108), (1196, 0.0190774507600901), (2203, 0.01907653679206377), (2111, 0.019074653144405544), (2972, 0.01907350857963639), (3993, 0.019033886087205684), (3564, 0.01901556197360971), (183, 0.019012579358671736), (1543, 0.019011147005251312), (3389, 0.019001699974753507), (4070, 0.019001196992742556), (2389, 0.018997065495117316), (401, 0.01898478060384485), (2201, 0.01896946149889534), (3923, 0.018967613839139606), (2892, 0.018959759232422324), (3141, 0.018949909639739627), (345, 0.018935157621240477), (2868, 0.018929369440758858), (3459, 0.018916695894339308), (1771, 0.01891375902700567), (1044, 0.0189122446295002), (1673, 0.018910303809817414), (578, 0.01891015577144781), (1416, 0.018907183939065313), (3562, 0.01890265456627679), (3826, 0.018868916961829234), (3300, 0.018842806494855136), (3244, 0.01883887223590376), (1837, 0.018795371907395074), (1800, 0.018793701467116616), (1657, 0.01878283462013915), (49, 0.018781761272447548), (3327, 0.018775349948609535), (3360, 0.018770831907642723), (645, 0.0187628004555905), (1370, 0.018757652895552795), (4679, 0.01873500900245005), (549, 0.018730475810183493), (3803, 0.018729034335221526), (2099, 0.018728955211617236), (3718, 0.018661451311664898), (3716, 0.018659139564470087), (1034, 0.018658267710018103), (4037, 0.018652761309785295), (177, 0.018625448656009666), (810, 0.018618506278313917), (306, 0.01861273173937548), (597, 0.018611960600001098), (1180, 0.01860388645473454), (2591, 0.018592280299499043), (745, 0.01858441451825243), (4303, 0.01858177341322699), (4274, 0.018581002093684174), (1215, 0.018568311844361134), (3315, 0.01853964981495659), (2525, 0.018528240292330612), (1863, 0.018524244962292255), (4191, 0.018523560883502658), (300, 0.01851842823418058), (1682, 0.01849857298965679), (1739, 0.0184950471606144), (2205, 0.018490932480225163), (2271, 0.018482243651283033), (3819, 0.018482059476201844), (240, 0.01847578159455844), (3481, 0.018475434158057025), (2323, 0.018436121405323615), (702, 0.018418848858648192), (2262, 0.018414691769583002), (1357, 0.01841425224317219), (2245, 0.018411149141999233), (1954, 0.018404085661079057), (1421, 0.018398287152510472), (4066, 0.018397016559946078), (191, 0.01838699035177662), (338, 0.018383893420957576), (2239, 0.01836736415804931), (929, 0.018366329034330966), (1480, 0.018365857893279845), (1684, 0.018359964479266702), (1042, 0.018353650011413553), (1597, 0.01835126189222398), (801, 0.01833214754993737), (325, 0.018328180104571754), (199, 0.018315708455785725), (53, 0.018289124563374882), (2264, 0.018273297308742026), (2143, 0.018272160204103712), (185, 0.01826809014212686), (1818, 0.01823640429049182), (2125, 0.01823306233497288), (2616, 0.018217597635070325), (2835, 0.018207778231457094), (1764, 0.0182046584582062), (1307, 0.01820208735627875), (1026, 0.01820059978657506), (1649, 0.018187833658708942), (3633, 0.01818080812119967), (659, 0.01816729778999697), (1284, 0.01816607586736674), (854, 0.01814886772517905), (9, 0.01813414493001236), (4247, 0.01811899860366132), (773, 0.018094288430333446), (4402, 0.018092121815821954), (1810, 0.018089761241394504), (4112, 0.018070089878500176), (1114, 0.01805709170661789), (2013, 0.018055853413682897), (3024, 0.01801911527800305), (2590, 0.018009694438018833), (1118, 0.018005700204696943), (409, 0.01800249822801391), (2749, 0.018002093102602795), (3894, 0.017971912810533723), (3841, 0.01797110867052643), (1423, 0.017948731272398044), (577, 0.0179464785067124), (1555, 0.017945143455178426), (2301, 0.017940707120900474), (288, 0.01793840622275182), (1827, 0.01792154323135228), (457, 0.017921072807854745), (4600, 0.01792038150656204), (1291, 0.01791811547224075), (215, 0.01790940009606732), (957, 0.01790004689664674), (2132, 0.01789670097716464), (733, 0.01788728222441263), (445, 0.017869940996942144), (2504, 0.01785283822645325), (324, 0.017849335752683177), (1964, 0.01782692538420705), (4152, 0.017818705268153875), (1830, 0.01780981808501992), (4590, 0.017799179016797596), (898, 0.017796188499978546), (360, 0.017761310024310986), (124, 0.01774707102000831), (3966, 0.017746732700131034), (1384, 0.01771132075309408), (583, 0.017701468203740824), (978, 0.017683184055720683), (3843, 0.017662508190270043), (383, 0.017629876747582613), (690, 0.01760784777962138), (1457, 0.017560791953860785), (4468, 0.01755347756162184), (1477, 0.017540633718628813), (1025, 0.017529682232149325), (2315, 0.01752463234584624), (2236, 0.017523428634224382), (3027, 0.017516412596661535), (4321, 0.017500588740103493), (2055, 0.017495547114941334), (892, 0.017476552437445628), (638, 0.01746190060496355), (3876, 0.017441228400833467), (2005, 0.017420205350927635), (492, 0.01741521050652182), (657, 0.017390464673634892), (3395, 0.017382008224278257), (1186, 0.01736064395543014), (2580, 0.017351235499226906), (334, 0.017340893882505058), (3485, 0.01733645989976339), (1310, 0.017324158877829635), (710, 0.017311842579919648), (2845, 0.01730535915882419), (1144, 0.01730295082242987), (3318, 0.017295691064378352), (1456, 0.017293833225255725), (2688, 0.017276690874075018), (2043, 0.01725946033927507), (111, 0.01723550481454471), (3254, 0.017229462492854605), (3525, 0.017217674496387926), (394, 0.01721546461905035), (2093, 0.017211631691640264), (3091, 0.017208649226828333), (2007, 0.017202589511677576), (2502, 0.01719246669896446), (4174, 0.017180326827426692), (4186, 0.017174163612346503), (829, 0.01714732062852759), (1895, 0.017146399640076592), (2975, 0.017119727795567346), (1016, 0.01710028727437204), (895, 0.01709519295108934), (1219, 0.017072591603360613), (75, 0.017072151321716543), (317, 0.017057343125505626), (836, 0.017033737301363157), (501, 0.017027942410774478), (3099, 0.016981233714128463), (3247, 0.016956065069367404), (469, 0.016903605128333676), (4473, 0.016900703465289157), (786, 0.01689766753386544), (1639, 0.01688261180923098), (333, 0.01687696934235228), (1405, 0.016847891102082627), (3865, 0.01682093824266409), (1268, 0.016815804577517798), (1394, 0.01680312834859647), (1061, 0.016790731879499178), (161, 0.016713843843314462), (3655, 0.01668907516317874), (3096, 0.01666140444474325), (3693, 0.016658065576994993), (2985, 0.016633529806077095), (2047, 0.016631418863084536), (4110, 0.016618914527638137), (314, 0.016611472603286666), (257, 0.016584397745923435), (2721, 0.016582653588881183), (1943, 0.016567212022539676), (2728, 0.01655187929737579), (703, 0.01652714286171454), (3397, 0.016521559994194985), (1008, 0.016471606882547313), (294, 0.01647074499021683), (4035, 0.016468322364382473), (1251, 0.01643923824175781), (1387, 0.01643045586742045), (1492, 0.016425573638089625), (2541, 0.016405292972166828), (3855, 0.016396510533208956), (725, 0.016383719957288146), (2842, 0.016357460875009455), (2006, 0.01633989969735671), (4114, 0.01632734981723421), (1978, 0.01632489785226707), (1309, 0.016297737298170044), (76, 0.016267203919398315), (1601, 0.016254149407042125), (3232, 0.01623342690875703), (2296, 0.016149312597087708), (1090, 0.016143558345838763), (73, 0.01613094710115885), (1365, 0.016125145032603178), (366, 0.016122175700142488), (2758, 0.016103340726116355), (91, 0.016098082205720638), (1137, 0.016081212417721896), (2822, 0.01607174041565971), (2240, 0.016056192326933), (506, 0.016047829237384136), (1845, 0.01600965520652476), (3238, 0.015975314938363107), (1950, 0.015936486535644223), (510, 0.015932637928537545), (3658, 0.015917133924135952), (309, 0.01585463229758366), (1088, 0.01585192162691185), (25, 0.01579786051229449), (2070, 0.015784677332761503), (1317, 0.01577191931976327), (1676, 0.015707468759355258), (2114, 0.015656730930624876), (719, 0.015614312705161509), (2844, 0.015602065486078264), (1222, 0.015591367857377577), (3212, 0.015542248024415978), (641, 0.015409352794144538), (1971, 0.015379357831669575), (640, 0.015369054724303695), (407, 0.01536768017590963), (4752, 0.01530155349951073), (3980, 0.015290030360795558), (2078, 0.015220109341721931), (3484, 0.015183052498331538), (237, 0.015148898555786465), (609, 0.015101268840724479), (2734, 0.01509182121420309), (1296, 0.015086620695343856), (433, 0.015043471199119668), (2867, 0.01499391608748602), (2364, 0.014929916832439683), (3421, 0.014821646361752304), (706, 0.014697106166554511), (2022, 0.014580482455360986), (1963, 0.014528606152748097), (2766, 0.014517320024456722), (4171, 0.014475015228166783), (3667, 0.01437912806027996), (2671, 0.014354434941356306), (3983, 0.014321141993650295), (2562, 0.014227172292918179), (3750, 0.014190796729089634), (351, 0.01413275835900352), (926, 0.014110176519740619), (561, 0.013957222585479183), (106, 0.013924639837744095), (3356, 0.013808573871759423), (3574, 0.013599450856587477), (243, 0.013475292697215516), (421, 0.013387784649586247), (2814, 0.013154381429083048), (1351, 0.013150354989069479), (940, 0.012712556136274422), (330, 0.012394284042646581), (542, 0.012298475143217167), (1919, 0.012240626645331047), (1506, 0.012001775673434129), (740, 0.011735248121269772), (787, 0.011320486306824478), (2118, 0.010602965040072977), (0, 0.0), (1, 0.0), (3, 0.0), (4, 0.0), (6, 0.0), (7, 0.0), (8, 0.0), (10, 0.0), (12, 0.0), (13, 0.0), (15, 0.0), (16, 0.0), (17, 0.0), (18, 0.0), (19, 0.0), (20, 0.0), (21, 0.0), (22, 0.0), (23, 0.0), (24, 0.0), (26, 0.0), (27, 0.0), (28, 0.0), (29, 0.0), (31, 0.0), (32, 0.0), (33, 0.0), (34, 0.0), (35, 0.0), (36, 0.0), (37, 0.0), (38, 0.0), (39, 0.0), (40, 0.0), (41, 0.0), (43, 0.0), (44, 0.0), (46, 0.0), (47, 0.0), (48, 0.0), (50, 0.0), (51, 0.0), (55, 0.0), (56, 0.0), (57, 0.0), (59, 0.0), (60, 0.0), (61, 0.0), (62, 0.0), (63, 0.0), (65, 0.0), (67, 0.0), (68, 0.0), (69, 0.0), (71, 0.0), (72, 0.0), (74, 0.0), (77, 0.0), (78, 0.0), (79, 0.0), (80, 0.0), (81, 0.0), (83, 0.0), (84, 0.0), (85, 0.0), (86, 0.0), (87, 0.0), (88, 0.0), (89, 0.0), (90, 0.0), (92, 0.0), (93, 0.0), (94, 0.0), (95, 0.0), (96, 0.0), (97, 0.0), (98, 0.0), (99, 0.0), (100, 0.0), (101, 0.0), (102, 0.0), (103, 0.0), (104, 0.0), (107, 0.0), (109, 0.0), (110, 0.0), (112, 0.0), (114, 0.0), (116, 0.0), (118, 0.0), (119, 0.0), (121, 0.0), (122, 0.0), (123, 0.0), (125, 0.0), (127, 0.0), (128, 0.0), (129, 0.0), (130, 0.0), (132, 0.0), (133, 0.0), (134, 0.0), (135, 0.0), (136, 0.0), (138, 0.0), (139, 0.0), (140, 0.0), (141, 0.0), (142, 0.0), (143, 0.0), (144, 0.0), (145, 0.0), (147, 0.0), (148, 0.0), (150, 0.0), (151, 0.0), (152, 0.0), (156, 0.0), (157, 0.0), (158, 0.0), (159, 0.0), (160, 0.0), (162, 0.0), (163, 0.0), (164, 0.0), (165, 0.0), (166, 0.0), (167, 0.0), (168, 0.0), (169, 0.0), (170, 0.0), (171, 0.0), (172, 0.0), (173, 0.0), (174, 0.0), (175, 0.0), (176, 0.0), (180, 0.0), (181, 0.0), (182, 0.0), (184, 0.0), (186, 0.0), (187, 0.0), (189, 0.0), (190, 0.0), (194, 0.0), (197, 0.0), (200, 0.0), (201, 0.0), (203, 0.0), (207, 0.0), (208, 0.0), (209, 0.0), (210, 0.0), (211, 0.0), (212, 0.0), (213, 0.0), (214, 0.0), (216, 0.0), (218, 0.0), (220, 0.0), (221, 0.0), (222, 0.0), (223, 0.0), (224, 0.0), (225, 0.0), (226, 0.0), (228, 0.0), (229, 0.0), (230, 0.0), (231, 0.0), (232, 0.0), (233, 0.0), (234, 0.0), (235, 0.0), (236, 0.0), (238, 0.0), (239, 0.0), (241, 0.0), (244, 0.0), (247, 0.0), (248, 0.0), (250, 0.0), (251, 0.0), (252, 0.0), (253, 0.0), (254, 0.0), (255, 0.0), (256, 0.0), (258, 0.0), (260, 0.0), (261, 0.0), (262, 0.0), (263, 0.0), (264, 0.0), (265, 0.0), (266, 0.0), (267, 0.0), (268, 0.0), (269, 0.0), (271, 0.0), (272, 0.0), (273, 0.0), (274, 0.0), (275, 0.0), (276, 0.0), (278, 0.0), (279, 0.0), (280, 0.0), (281, 0.0), (282, 0.0), (283, 0.0), (284, 0.0), (285, 0.0), (286, 0.0), (287, 0.0), (289, 0.0), (290, 0.0), (291, 0.0), (292, 0.0), (293, 0.0), (295, 0.0), (296, 0.0), (303, 0.0), (305, 0.0), (307, 0.0), (310, 0.0), (311, 0.0), (313, 0.0), (316, 0.0), (318, 0.0), (319, 0.0), (320, 0.0), (323, 0.0), (326, 0.0), (327, 0.0), (328, 0.0), (329, 0.0), (331, 0.0), (332, 0.0), (336, 0.0), (337, 0.0), (339, 0.0), (342, 0.0), (343, 0.0), (347, 0.0), (348, 0.0), (349, 0.0), (350, 0.0), (352, 0.0), (353, 0.0), (354, 0.0), (355, 0.0), (356, 0.0), (358, 0.0), (359, 0.0), (364, 0.0), (367, 0.0), (368, 0.0), (369, 0.0), (370, 0.0), (371, 0.0), (372, 0.0), (373, 0.0), (374, 0.0), (375, 0.0), (376, 0.0), (377, 0.0), (379, 0.0), (380, 0.0), (381, 0.0), (382, 0.0), (386, 0.0), (387, 0.0), (388, 0.0), (389, 0.0), (390, 0.0), (393, 0.0), (395, 0.0), (396, 0.0), (397, 0.0), (398, 0.0), (400, 0.0), (402, 0.0), (403, 0.0), (406, 0.0), (411, 0.0), (412, 0.0), (415, 0.0), (416, 0.0), (417, 0.0), (418, 0.0), (419, 0.0), (420, 0.0), (422, 0.0), (424, 0.0), (425, 0.0), (426, 0.0), (427, 0.0), (428, 0.0), (429, 0.0), (430, 0.0), (431, 0.0), (432, 0.0), (434, 0.0), (436, 0.0), (438, 0.0), (440, 0.0), (441, 0.0), (442, 0.0), (444, 0.0), (446, 0.0), (448, 0.0), (449, 0.0), (450, 0.0), (452, 0.0), (454, 0.0), (455, 0.0), (458, 0.0), (460, 0.0), (462, 0.0), (465, 0.0), (467, 0.0), (468, 0.0), (471, 0.0), (473, 0.0), (474, 0.0), (476, 0.0), (477, 0.0), (478, 0.0), (479, 0.0), (480, 0.0), (481, 0.0), (482, 0.0), (483, 0.0), (484, 0.0), (487, 0.0), (488, 0.0), (489, 0.0), (491, 0.0), (493, 0.0), (494, 0.0), (496, 0.0), (499, 0.0), (500, 0.0), (502, 0.0), (503, 0.0), (504, 0.0), (505, 0.0), (507, 0.0), (509, 0.0), (512, 0.0), (513, 0.0), (514, 0.0), (515, 0.0), (516, 0.0), (518, 0.0), (521, 0.0), (523, 0.0), (525, 0.0), (526, 0.0), (529, 0.0), (530, 0.0), (531, 0.0), (532, 0.0), (533, 0.0), (534, 0.0), (536, 0.0), (537, 0.0), (538, 0.0), (543, 0.0), (544, 0.0), (547, 0.0), (548, 0.0), (550, 0.0), (551, 0.0), (552, 0.0), (554, 0.0), (555, 0.0), (557, 0.0), (558, 0.0), (560, 0.0), (562, 0.0), (564, 0.0), (565, 0.0), (566, 0.0), (567, 0.0), (568, 0.0), (570, 0.0), (571, 0.0), (572, 0.0), (573, 0.0), (574, 0.0), (575, 0.0), (579, 0.0), (580, 0.0), (581, 0.0), (582, 0.0), (584, 0.0), (585, 0.0), (586, 0.0), (587, 0.0), (588, 0.0), (589, 0.0), (590, 0.0), (591, 0.0), (592, 0.0), (593, 0.0), (594, 0.0), (595, 0.0), (596, 0.0), (598, 0.0), (599, 0.0), (600, 0.0), (601, 0.0), (602, 0.0), (603, 0.0), (604, 0.0), (605, 0.0), (606, 0.0), (607, 0.0), (608, 0.0), (610, 0.0), (613, 0.0), (614, 0.0), (615, 0.0), (616, 0.0), (617, 0.0), (618, 0.0), (619, 0.0), (620, 0.0), (623, 0.0), (624, 0.0), (625, 0.0), (626, 0.0), (627, 0.0), (628, 0.0), (629, 0.0), (630, 0.0), (631, 0.0), (632, 0.0), (633, 0.0), (634, 0.0), (635, 0.0), (636, 0.0), (639, 0.0), (643, 0.0), (644, 0.0), (646, 0.0), (647, 0.0), (648, 0.0), (649, 0.0), (650, 0.0), (652, 0.0), (653, 0.0), (654, 0.0), (661, 0.0), (663, 0.0), (664, 0.0), (666, 0.0), (667, 0.0), (668, 0.0), (669, 0.0), (670, 0.0), (671, 0.0), (672, 0.0), (673, 0.0), (674, 0.0), (675, 0.0), (676, 0.0), (677, 0.0), (678, 0.0), (680, 0.0), (681, 0.0), (682, 0.0), (683, 0.0), (684, 0.0), (685, 0.0), (687, 0.0), (692, 0.0), (693, 0.0), (694, 0.0), (695, 0.0), (697, 0.0), (698, 0.0), (701, 0.0), (704, 0.0), (705, 0.0), (707, 0.0), (708, 0.0), (711, 0.0), (714, 0.0), (716, 0.0), (718, 0.0), (721, 0.0), (722, 0.0), (723, 0.0), (727, 0.0), (728, 0.0), (729, 0.0), (731, 0.0), (732, 0.0), (734, 0.0), (735, 0.0), (736, 0.0), (737, 0.0), (739, 0.0), (744, 0.0), (747, 0.0), (748, 0.0), (749, 0.0), (750, 0.0), (751, 0.0), (754, 0.0), (755, 0.0), (759, 0.0), (760, 0.0), (761, 0.0), (762, 0.0), (763, 0.0), (764, 0.0), (765, 0.0), (766, 0.0), (768, 0.0), (769, 0.0), (770, 0.0), (774, 0.0), (775, 0.0), (776, 0.0), (777, 0.0), (778, 0.0), (779, 0.0), (780, 0.0), (782, 0.0), (783, 0.0), (784, 0.0), (789, 0.0), (790, 0.0), (792, 0.0), (793, 0.0), (795, 0.0), (796, 0.0), (798, 0.0), (799, 0.0), (800, 0.0), (803, 0.0), (805, 0.0), (808, 0.0), (811, 0.0), (812, 0.0), (813, 0.0), (815, 0.0), (817, 0.0), (818, 0.0), (819, 0.0), (821, 0.0), (823, 0.0), (825, 0.0), (826, 0.0), (828, 0.0), (830, 0.0), (832, 0.0), (833, 0.0), (834, 0.0), (835, 0.0), (837, 0.0), (838, 0.0), (839, 0.0), (840, 0.0), (841, 0.0), (843, 0.0), (844, 0.0), (847, 0.0), (848, 0.0), (849, 0.0), (850, 0.0), (851, 0.0), (852, 0.0), (855, 0.0), (856, 0.0), (857, 0.0), (858, 0.0), (860, 0.0), (861, 0.0), (862, 0.0), (863, 0.0), (864, 0.0), (866, 0.0), (867, 0.0), (868, 0.0), (869, 0.0), (870, 0.0), (871, 0.0), (872, 0.0), (873, 0.0), (874, 0.0), (875, 0.0), (876, 0.0), (877, 0.0), (878, 0.0), (880, 0.0), (881, 0.0), (882, 0.0), (883, 0.0), (884, 0.0), (885, 0.0), (886, 0.0), (887, 0.0), (888, 0.0), (889, 0.0), (890, 0.0), (893, 0.0), (897, 0.0), (899, 0.0), (900, 0.0), (901, 0.0), (902, 0.0), (903, 0.0), (904, 0.0), (906, 0.0), (907, 0.0), (910, 0.0), (911, 0.0), (913, 0.0), (914, 0.0), (915, 0.0), (916, 0.0), (917, 0.0), (919, 0.0), (921, 0.0), (922, 0.0), (923, 0.0), (924, 0.0), (925, 0.0), (927, 0.0), (928, 0.0), (930, 0.0), (933, 0.0), (934, 0.0), (935, 0.0), (936, 0.0), (937, 0.0), (941, 0.0), (942, 0.0), (943, 0.0), (944, 0.0), (945, 0.0), (947, 0.0), (948, 0.0), (949, 0.0), (950, 0.0), (951, 0.0), (952, 0.0), (954, 0.0), (955, 0.0), (958, 0.0), (959, 0.0), (960, 0.0), (962, 0.0), (963, 0.0), (965, 0.0), (966, 0.0), (967, 0.0), (968, 0.0), (969, 0.0), (970, 0.0), (972, 0.0), (973, 0.0), (975, 0.0), (976, 0.0), (979, 0.0), (980, 0.0), (982, 0.0), (983, 0.0), (986, 0.0), (988, 0.0), (990, 0.0), (991, 0.0), (992, 0.0), (993, 0.0), (994, 0.0), (995, 0.0), (996, 0.0), (997, 0.0), (998, 0.0), (999, 0.0), (1000, 0.0), (1003, 0.0), (1004, 0.0), (1005, 0.0), (1006, 0.0), (1007, 0.0), (1010, 0.0), (1012, 0.0), (1015, 0.0), (1018, 0.0), (1019, 0.0), (1020, 0.0), (1021, 0.0), (1022, 0.0), (1023, 0.0), (1024, 0.0), (1027, 0.0), (1028, 0.0), (1029, 0.0), (1030, 0.0), (1031, 0.0), (1032, 0.0), (1033, 0.0), (1037, 0.0), (1038, 0.0), (1039, 0.0), (1040, 0.0), (1043, 0.0), (1045, 0.0), (1046, 0.0), (1047, 0.0), (1048, 0.0), (1049, 0.0), (1050, 0.0), (1051, 0.0), (1052, 0.0), (1053, 0.0), (1054, 0.0), (1055, 0.0), (1056, 0.0), (1057, 0.0), (1058, 0.0), (1059, 0.0), (1060, 0.0), (1063, 0.0), (1064, 0.0), (1065, 0.0), (1066, 0.0), (1068, 0.0), (1069, 0.0), (1070, 0.0), (1071, 0.0), (1072, 0.0), (1073, 0.0), (1075, 0.0), (1077, 0.0), (1078, 0.0), (1080, 0.0), (1081, 0.0), (1083, 0.0), (1087, 0.0), (1091, 0.0), (1092, 0.0), (1093, 0.0), (1094, 0.0), (1095, 0.0), (1096, 0.0), (1097, 0.0), (1099, 0.0), (1100, 0.0), (1102, 0.0), (1104, 0.0), (1105, 0.0), (1106, 0.0), (1107, 0.0), (1108, 0.0), (1109, 0.0), (1110, 0.0), (1111, 0.0), (1112, 0.0), (1113, 0.0), (1115, 0.0), (1117, 0.0), (1120, 0.0), (1121, 0.0), (1123, 0.0), (1124, 0.0), (1125, 0.0), (1126, 0.0), (1127, 0.0), (1128, 0.0), (1129, 0.0), (1131, 0.0), (1132, 0.0), (1133, 0.0), (1134, 0.0), (1135, 0.0), (1136, 0.0), (1138, 0.0), (1139, 0.0), (1143, 0.0), (1145, 0.0), (1146, 0.0), (1147, 0.0), (1148, 0.0), (1149, 0.0), (1150, 0.0), (1151, 0.0), (1152, 0.0), (1153, 0.0), (1154, 0.0), (1156, 0.0), (1158, 0.0), (1159, 0.0), (1160, 0.0), (1161, 0.0), (1162, 0.0), (1163, 0.0), (1164, 0.0), (1167, 0.0), (1169, 0.0), (1170, 0.0), (1171, 0.0), (1172, 0.0), (1174, 0.0), (1175, 0.0), (1176, 0.0), (1177, 0.0), (1178, 0.0), (1179, 0.0), (1181, 0.0), (1183, 0.0), (1184, 0.0), (1185, 0.0), (1187, 0.0), (1188, 0.0), (1189, 0.0), (1190, 0.0), (1192, 0.0), (1193, 0.0), (1194, 0.0), (1199, 0.0), (1200, 0.0), (1202, 0.0), (1203, 0.0), (1205, 0.0), (1208, 0.0), (1209, 0.0), (1210, 0.0), (1211, 0.0), (1212, 0.0), (1214, 0.0), (1216, 0.0), (1218, 0.0), (1220, 0.0), (1224, 0.0), (1226, 0.0), (1227, 0.0), (1228, 0.0), (1230, 0.0), (1231, 0.0), (1234, 0.0), (1236, 0.0), (1237, 0.0), (1238, 0.0), (1239, 0.0), (1240, 0.0), (1241, 0.0), (1242, 0.0), (1244, 0.0), (1247, 0.0), (1248, 0.0), (1252, 0.0), (1253, 0.0), (1254, 0.0), (1258, 0.0), (1259, 0.0), (1260, 0.0), (1262, 0.0), (1263, 0.0), (1264, 0.0), (1265, 0.0), (1266, 0.0), (1267, 0.0), (1269, 0.0), (1271, 0.0), (1272, 0.0), (1273, 0.0), (1274, 0.0), (1275, 0.0), (1276, 0.0), (1277, 0.0), (1278, 0.0), (1280, 0.0), (1281, 0.0), (1282, 0.0), (1283, 0.0), (1285, 0.0), (1286, 0.0), (1287, 0.0), (1288, 0.0), (1289, 0.0), (1293, 0.0), (1294, 0.0), (1295, 0.0), (1297, 0.0), (1299, 0.0), (1301, 0.0), (1302, 0.0), (1303, 0.0), (1305, 0.0), (1311, 0.0), (1313, 0.0), (1314, 0.0), (1315, 0.0), (1316, 0.0), (1319, 0.0), (1320, 0.0), (1322, 0.0), (1323, 0.0), (1324, 0.0), (1325, 0.0), (1326, 0.0), (1329, 0.0), (1331, 0.0), (1332, 0.0), (1334, 0.0), (1337, 0.0), (1338, 0.0), (1340, 0.0), (1341, 0.0), (1342, 0.0), (1343, 0.0), (1345, 0.0), (1346, 0.0), (1347, 0.0), (1348, 0.0), (1349, 0.0), (1350, 0.0), (1352, 0.0), (1355, 0.0), (1356, 0.0), (1359, 0.0), (1360, 0.0), (1363, 0.0), (1364, 0.0), (1366, 0.0), (1367, 0.0), (1369, 0.0), (1371, 0.0), (1372, 0.0), (1374, 0.0), (1375, 0.0), (1376, 0.0), (1377, 0.0), (1378, 0.0), (1380, 0.0), (1381, 0.0), (1383, 0.0), (1385, 0.0), (1386, 0.0), (1390, 0.0), (1391, 0.0), (1392, 0.0), (1395, 0.0), (1396, 0.0), (1397, 0.0), (1398, 0.0), (1399, 0.0), (1400, 0.0), (1401, 0.0), (1403, 0.0), (1404, 0.0), (1406, 0.0), (1408, 0.0), (1409, 0.0), (1410, 0.0), (1413, 0.0), (1414, 0.0), (1415, 0.0), (1417, 0.0), (1418, 0.0), (1420, 0.0), (1422, 0.0), (1424, 0.0), (1426, 0.0), (1427, 0.0), (1429, 0.0), (1430, 0.0), (1432, 0.0), (1434, 0.0), (1436, 0.0), (1437, 0.0), (1438, 0.0), (1439, 0.0), (1440, 0.0), (1441, 0.0), (1442, 0.0), (1443, 0.0), (1444, 0.0), (1445, 0.0), (1446, 0.0), (1447, 0.0), (1448, 0.0), (1449, 0.0), (1450, 0.0), (1452, 0.0), (1453, 0.0), (1454, 0.0), (1455, 0.0), (1458, 0.0), (1462, 0.0), (1465, 0.0), (1467, 0.0), (1468, 0.0), (1469, 0.0), (1470, 0.0), (1471, 0.0), (1473, 0.0), (1475, 0.0), (1478, 0.0), (1483, 0.0), (1484, 0.0), (1488, 0.0), (1490, 0.0), (1491, 0.0), (1493, 0.0), (1497, 0.0), (1498, 0.0), (1499, 0.0), (1500, 0.0), (1501, 0.0), (1502, 0.0), (1503, 0.0), (1504, 0.0), (1507, 0.0), (1508, 0.0), (1509, 0.0), (1510, 0.0), (1511, 0.0), (1512, 0.0), (1514, 0.0), (1515, 0.0), (1516, 0.0), (1519, 0.0), (1526, 0.0), (1527, 0.0), (1530, 0.0), (1532, 0.0), (1533, 0.0), (1535, 0.0), (1536, 0.0), (1538, 0.0), (1540, 0.0), (1542, 0.0), (1544, 0.0), (1545, 0.0), (1547, 0.0), (1548, 0.0), (1549, 0.0), (1551, 0.0), (1553, 0.0), (1556, 0.0), (1558, 0.0), (1559, 0.0), (1560, 0.0), (1562, 0.0), (1563, 0.0), (1564, 0.0), (1565, 0.0), (1566, 0.0), (1567, 0.0), (1568, 0.0), (1569, 0.0), (1570, 0.0), (1572, 0.0), (1573, 0.0), (1574, 0.0), (1576, 0.0), (1577, 0.0), (1579, 0.0), (1580, 0.0), (1582, 0.0), (1583, 0.0), (1585, 0.0), (1586, 0.0), (1588, 0.0), (1590, 0.0), (1591, 0.0), (1593, 0.0), (1595, 0.0), (1596, 0.0), (1599, 0.0), (1603, 0.0), (1605, 0.0), (1608, 0.0), (1609, 0.0), (1612, 0.0), (1616, 0.0), (1617, 0.0), (1618, 0.0), (1619, 0.0), (1620, 0.0), (1622, 0.0), (1623, 0.0), (1624, 0.0), (1625, 0.0), (1627, 0.0), (1628, 0.0), (1629, 0.0), (1630, 0.0), (1631, 0.0), (1632, 0.0), (1633, 0.0), (1635, 0.0), (1636, 0.0), (1637, 0.0), (1638, 0.0), (1641, 0.0), (1642, 0.0), (1643, 0.0), (1644, 0.0), (1647, 0.0), (1650, 0.0), (1651, 0.0), (1652, 0.0), (1653, 0.0), (1655, 0.0), (1656, 0.0), (1658, 0.0), (1659, 0.0), (1660, 0.0), (1661, 0.0), (1662, 0.0), (1665, 0.0), (1666, 0.0), (1667, 0.0), (1668, 0.0), (1669, 0.0), (1671, 0.0), (1672, 0.0), (1674, 0.0), (1675, 0.0), (1679, 0.0), (1680, 0.0), (1681, 0.0), (1685, 0.0), (1686, 0.0), (1687, 0.0), (1688, 0.0), (1689, 0.0), (1693, 0.0), (1694, 0.0), (1699, 0.0), (1701, 0.0), (1702, 0.0), (1703, 0.0), (1705, 0.0), (1707, 0.0), (1708, 0.0), (1709, 0.0), (1710, 0.0), (1712, 0.0), (1715, 0.0), (1716, 0.0), (1717, 0.0), (1718, 0.0), (1719, 0.0), (1721, 0.0), (1722, 0.0), (1723, 0.0), (1724, 0.0), (1725, 0.0), (1727, 0.0), (1728, 0.0), (1729, 0.0), (1730, 0.0), (1732, 0.0), (1733, 0.0), (1734, 0.0), (1735, 0.0), (1736, 0.0), (1738, 0.0), (1740, 0.0), (1741, 0.0), (1742, 0.0), (1743, 0.0), (1746, 0.0), (1747, 0.0), (1748, 0.0), (1749, 0.0), (1750, 0.0), (1751, 0.0), (1753, 0.0), (1754, 0.0), (1756, 0.0), (1759, 0.0), (1760, 0.0), (1761, 0.0), (1762, 0.0), (1763, 0.0), (1765, 0.0), (1770, 0.0), (1772, 0.0), (1773, 0.0), (1774, 0.0), (1775, 0.0), (1776, 0.0), (1778, 0.0), (1779, 0.0), (1782, 0.0), (1785, 0.0), (1786, 0.0), (1788, 0.0), (1789, 0.0), (1790, 0.0), (1791, 0.0), (1792, 0.0), (1793, 0.0), (1796, 0.0), (1797, 0.0), (1798, 0.0), (1799, 0.0), (1801, 0.0), (1802, 0.0), (1805, 0.0), (1806, 0.0), (1807, 0.0), (1808, 0.0), (1809, 0.0), (1811, 0.0), (1812, 0.0), (1813, 0.0), (1815, 0.0), (1816, 0.0), (1819, 0.0), (1821, 0.0), (1822, 0.0), (1825, 0.0), (1826, 0.0), (1828, 0.0), (1831, 0.0), (1832, 0.0), (1833, 0.0), (1834, 0.0), (1835, 0.0), (1836, 0.0), (1838, 0.0), (1847, 0.0), (1848, 0.0), (1851, 0.0), (1852, 0.0), (1853, 0.0), (1855, 0.0), (1856, 0.0), (1858, 0.0), (1859, 0.0), (1860, 0.0), (1862, 0.0), (1864, 0.0), (1865, 0.0), (1866, 0.0), (1868, 0.0), (1870, 0.0), (1871, 0.0), (1872, 0.0), (1874, 0.0), (1876, 0.0), (1877, 0.0), (1879, 0.0), (1880, 0.0), (1881, 0.0), (1882, 0.0), (1884, 0.0), (1885, 0.0), (1886, 0.0), (1887, 0.0), (1888, 0.0), (1892, 0.0), (1893, 0.0), (1894, 0.0), (1896, 0.0), (1897, 0.0), (1900, 0.0), (1901, 0.0), (1903, 0.0), (1904, 0.0), (1905, 0.0), (1906, 0.0), (1907, 0.0), (1908, 0.0), (1909, 0.0), (1910, 0.0), (1912, 0.0), (1914, 0.0), (1916, 0.0), (1917, 0.0), (1920, 0.0), (1921, 0.0), (1922, 0.0), (1924, 0.0), (1926, 0.0), (1927, 0.0), (1929, 0.0), (1931, 0.0), (1933, 0.0), (1934, 0.0), (1938, 0.0), (1939, 0.0), (1941, 0.0), (1942, 0.0), (1944, 0.0), (1945, 0.0), (1946, 0.0), (1947, 0.0), (1948, 0.0), (1949, 0.0), (1952, 0.0), (1953, 0.0), (1956, 0.0), (1957, 0.0), (1959, 0.0), (1960, 0.0), (1962, 0.0), (1965, 0.0), (1966, 0.0), (1967, 0.0), (1969, 0.0), (1970, 0.0), (1972, 0.0), (1974, 0.0), (1975, 0.0), (1976, 0.0), (1977, 0.0), (1980, 0.0), (1982, 0.0), (1983, 0.0), (1984, 0.0), (1985, 0.0), (1986, 0.0), (1988, 0.0), (1989, 0.0), (1990, 0.0), (1991, 0.0), (1993, 0.0), (1994, 0.0), (1995, 0.0), (1996, 0.0), (1997, 0.0), (2000, 0.0), (2001, 0.0), (2002, 0.0), (2003, 0.0), (2004, 0.0), (2008, 0.0), (2009, 0.0), (2010, 0.0), (2011, 0.0), (2012, 0.0), (2015, 0.0), (2016, 0.0), (2017, 0.0), (2018, 0.0), (2020, 0.0), (2021, 0.0), (2023, 0.0), (2024, 0.0), (2026, 0.0), (2027, 0.0), (2028, 0.0), (2029, 0.0), (2031, 0.0), (2032, 0.0), (2033, 0.0), (2036, 0.0), (2037, 0.0), (2038, 0.0), (2040, 0.0), (2042, 0.0), (2044, 0.0), (2045, 0.0), (2048, 0.0), (2051, 0.0), (2053, 0.0), (2056, 0.0), (2057, 0.0), (2058, 0.0), (2059, 0.0), (2060, 0.0), (2061, 0.0), (2062, 0.0), (2063, 0.0), (2064, 0.0), (2065, 0.0), (2066, 0.0), (2067, 0.0), (2068, 0.0), (2069, 0.0), (2071, 0.0), (2072, 0.0), (2075, 0.0), (2076, 0.0), (2077, 0.0), (2080, 0.0), (2081, 0.0), (2083, 0.0), (2084, 0.0), (2088, 0.0), (2089, 0.0), (2090, 0.0), (2091, 0.0), (2092, 0.0), (2094, 0.0), (2096, 0.0), (2097, 0.0), (2098, 0.0), (2101, 0.0), (2102, 0.0), (2103, 0.0), (2104, 0.0), (2105, 0.0), (2106, 0.0), (2107, 0.0), (2108, 0.0), (2109, 0.0), (2110, 0.0), (2113, 0.0), (2115, 0.0), (2116, 0.0), (2119, 0.0), (2121, 0.0), (2122, 0.0), (2123, 0.0), (2124, 0.0), (2126, 0.0), (2127, 0.0), (2128, 0.0), (2133, 0.0), (2134, 0.0), (2136, 0.0), (2137, 0.0), (2138, 0.0), (2139, 0.0), (2140, 0.0), (2141, 0.0), (2142, 0.0), (2144, 0.0), (2145, 0.0), (2146, 0.0), (2148, 0.0), (2149, 0.0), (2152, 0.0), (2155, 0.0), (2156, 0.0), (2158, 0.0), (2159, 0.0), (2160, 0.0), (2164, 0.0), (2165, 0.0), (2166, 0.0), (2167, 0.0), (2168, 0.0), (2169, 0.0), (2170, 0.0), (2172, 0.0), (2173, 0.0), (2174, 0.0), (2175, 0.0), (2177, 0.0), (2179, 0.0), (2180, 0.0), (2181, 0.0), (2182, 0.0), (2184, 0.0), (2186, 0.0), (2189, 0.0), (2190, 0.0), (2191, 0.0), (2192, 0.0), (2193, 0.0), (2194, 0.0), (2197, 0.0), (2200, 0.0), (2202, 0.0), (2204, 0.0), (2206, 0.0), (2209, 0.0), (2211, 0.0), (2212, 0.0), (2213, 0.0), (2214, 0.0), (2215, 0.0), (2217, 0.0), (2218, 0.0), (2219, 0.0), (2220, 0.0), (2221, 0.0), (2222, 0.0), (2224, 0.0), (2225, 0.0), (2226, 0.0), (2227, 0.0), (2228, 0.0), (2229, 0.0), (2230, 0.0), (2231, 0.0), (2232, 0.0), (2233, 0.0), (2234, 0.0), (2235, 0.0), (2237, 0.0), (2238, 0.0), (2241, 0.0), (2242, 0.0), (2243, 0.0), (2244, 0.0), (2246, 0.0), (2247, 0.0), (2248, 0.0), (2249, 0.0), (2251, 0.0), (2252, 0.0), (2253, 0.0), (2254, 0.0), (2255, 0.0), (2256, 0.0), (2258, 0.0), (2268, 0.0), (2270, 0.0), (2272, 0.0), (2276, 0.0), (2277, 0.0), (2278, 0.0), (2280, 0.0), (2282, 0.0), (2284, 0.0), (2285, 0.0), (2286, 0.0), (2288, 0.0), (2289, 0.0), (2291, 0.0), (2292, 0.0), (2293, 0.0), (2294, 0.0), (2295, 0.0), (2297, 0.0), (2299, 0.0), (2300, 0.0), (2302, 0.0), (2303, 0.0), (2304, 0.0), (2305, 0.0), (2306, 0.0), (2307, 0.0), (2308, 0.0), (2309, 0.0), (2310, 0.0), (2311, 0.0), (2312, 0.0), (2313, 0.0), (2314, 0.0), (2318, 0.0), (2320, 0.0), (2321, 0.0), (2324, 0.0), (2328, 0.0), (2333, 0.0), (2336, 0.0), (2338, 0.0), (2339, 0.0), (2340, 0.0), (2341, 0.0), (2342, 0.0), (2343, 0.0), (2344, 0.0), (2345, 0.0), (2346, 0.0), (2347, 0.0), (2348, 0.0), (2349, 0.0), (2350, 0.0), (2353, 0.0), (2354, 0.0), (2355, 0.0), (2356, 0.0), (2357, 0.0), (2360, 0.0), (2361, 0.0), (2362, 0.0), (2363, 0.0), (2366, 0.0), (2368, 0.0), (2369, 0.0), (2370, 0.0), (2373, 0.0), (2374, 0.0), (2376, 0.0), (2377, 0.0), (2378, 0.0), (2380, 0.0), (2382, 0.0), (2383, 0.0), (2384, 0.0), (2385, 0.0), (2386, 0.0), (2388, 0.0), (2392, 0.0), (2394, 0.0), (2395, 0.0), (2398, 0.0), (2399, 0.0), (2403, 0.0), (2404, 0.0), (2407, 0.0), (2409, 0.0), (2411, 0.0), (2412, 0.0), (2413, 0.0), (2415, 0.0), (2416, 0.0), (2417, 0.0), (2418, 0.0), (2420, 0.0), (2422, 0.0), (2424, 0.0), (2425, 0.0), (2426, 0.0), (2427, 0.0), (2428, 0.0), (2429, 0.0), (2431, 0.0), (2432, 0.0), (2434, 0.0), (2436, 0.0), (2437, 0.0), (2438, 0.0), (2439, 0.0), (2441, 0.0), (2442, 0.0), (2444, 0.0), (2452, 0.0), (2453, 0.0), (2454, 0.0), (2455, 0.0), (2458, 0.0), (2459, 0.0), (2464, 0.0), (2465, 0.0), (2467, 0.0), (2469, 0.0), (2470, 0.0), (2471, 0.0), (2472, 0.0), (2474, 0.0), (2475, 0.0), (2476, 0.0), (2477, 0.0), (2478, 0.0), (2479, 0.0), (2481, 0.0), (2482, 0.0), (2483, 0.0), (2486, 0.0), (2489, 0.0), (2490, 0.0), (2491, 0.0), (2492, 0.0), (2495, 0.0), (2496, 0.0), (2497, 0.0), (2498, 0.0), (2499, 0.0), (2500, 0.0), (2501, 0.0), (2503, 0.0), (2505, 0.0), (2506, 0.0), (2508, 0.0), (2510, 0.0), (2513, 0.0), (2514, 0.0), (2515, 0.0), (2518, 0.0), (2520, 0.0), (2522, 0.0), (2523, 0.0), (2524, 0.0), (2526, 0.0), (2527, 0.0), (2528, 0.0), (2529, 0.0), (2533, 0.0), (2534, 0.0), (2535, 0.0), (2536, 0.0), (2537, 0.0), (2538, 0.0), (2540, 0.0), (2542, 0.0), (2543, 0.0), (2544, 0.0), (2545, 0.0), (2546, 0.0), (2547, 0.0), (2548, 0.0), (2550, 0.0), (2551, 0.0), (2552, 0.0), (2553, 0.0), (2556, 0.0), (2557, 0.0), (2558, 0.0), (2559, 0.0), (2560, 0.0), (2561, 0.0), (2563, 0.0), (2564, 0.0), (2565, 0.0), (2566, 0.0), (2567, 0.0), (2569, 0.0), (2572, 0.0), (2573, 0.0), (2574, 0.0), (2575, 0.0), (2576, 0.0), (2581, 0.0), (2585, 0.0), (2586, 0.0), (2589, 0.0), (2594, 0.0), (2595, 0.0), (2596, 0.0), (2597, 0.0), (2598, 0.0), (2599, 0.0), (2600, 0.0), (2601, 0.0), (2602, 0.0), (2605, 0.0), (2606, 0.0), (2607, 0.0), (2608, 0.0), (2609, 0.0), (2610, 0.0), (2611, 0.0), (2613, 0.0), (2618, 0.0), (2620, 0.0), (2623, 0.0), (2624, 0.0), (2625, 0.0), (2626, 0.0), (2627, 0.0), (2628, 0.0), (2629, 0.0), (2630, 0.0), (2631, 0.0), (2632, 0.0), (2633, 0.0), (2634, 0.0), (2635, 0.0), (2638, 0.0), (2639, 0.0), (2640, 0.0), (2641, 0.0), (2642, 0.0), (2644, 0.0), (2645, 0.0), (2647, 0.0), (2648, 0.0), (2649, 0.0), (2651, 0.0), (2653, 0.0), (2655, 0.0), (2657, 0.0), (2658, 0.0), (2659, 0.0), (2662, 0.0), (2664, 0.0), (2665, 0.0), (2667, 0.0), (2669, 0.0), (2670, 0.0), (2674, 0.0), (2676, 0.0), (2678, 0.0), (2680, 0.0), (2681, 0.0), (2682, 0.0), (2683, 0.0), (2684, 0.0), (2685, 0.0), (2686, 0.0), (2687, 0.0), (2689, 0.0), (2690, 0.0), (2691, 0.0), (2692, 0.0), (2693, 0.0), (2694, 0.0), (2695, 0.0), (2696, 0.0), (2697, 0.0), (2698, 0.0), (2700, 0.0), (2701, 0.0), (2702, 0.0), (2703, 0.0), (2705, 0.0), (2707, 0.0), (2709, 0.0), (2712, 0.0), (2713, 0.0), (2714, 0.0), (2715, 0.0), (2716, 0.0), (2718, 0.0), (2722, 0.0), (2723, 0.0), (2724, 0.0), (2725, 0.0), (2726, 0.0), (2727, 0.0), (2730, 0.0), (2731, 0.0), (2732, 0.0), (2733, 0.0), (2735, 0.0), (2736, 0.0), (2737, 0.0), (2738, 0.0), (2739, 0.0), (2740, 0.0), (2742, 0.0), (2743, 0.0), (2744, 0.0), (2745, 0.0), (2746, 0.0), (2747, 0.0), (2748, 0.0), (2750, 0.0), (2751, 0.0), (2753, 0.0), (2754, 0.0), (2755, 0.0), (2757, 0.0), (2759, 0.0), (2762, 0.0), (2764, 0.0), (2765, 0.0), (2767, 0.0), (2768, 0.0), (2769, 0.0), (2771, 0.0), (2773, 0.0), (2775, 0.0), (2776, 0.0), (2778, 0.0), (2780, 0.0), (2783, 0.0), (2784, 0.0), (2785, 0.0), (2786, 0.0), (2787, 0.0), (2791, 0.0), (2792, 0.0), (2793, 0.0), (2794, 0.0), (2795, 0.0), (2796, 0.0), (2797, 0.0), (2800, 0.0), (2801, 0.0), (2802, 0.0), (2803, 0.0), (2804, 0.0), (2805, 0.0), (2807, 0.0), (2809, 0.0), (2811, 0.0), (2815, 0.0), (2816, 0.0), (2818, 0.0), (2819, 0.0), (2820, 0.0), (2823, 0.0), (2824, 0.0), (2825, 0.0), (2826, 0.0), (2827, 0.0), (2828, 0.0), (2829, 0.0), (2830, 0.0), (2832, 0.0), (2834, 0.0), (2836, 0.0), (2837, 0.0), (2838, 0.0), (2843, 0.0), (2846, 0.0), (2847, 0.0), (2848, 0.0), (2849, 0.0), (2850, 0.0), (2852, 0.0), (2855, 0.0), (2858, 0.0), (2859, 0.0), (2860, 0.0), (2861, 0.0), (2862, 0.0), (2863, 0.0), (2864, 0.0), (2865, 0.0), (2866, 0.0), (2870, 0.0), (2871, 0.0), (2872, 0.0), (2874, 0.0), (2875, 0.0), (2878, 0.0), (2879, 0.0), (2880, 0.0), (2881, 0.0), (2882, 0.0), (2883, 0.0), (2886, 0.0), (2888, 0.0), (2889, 0.0), (2890, 0.0), (2891, 0.0), (2893, 0.0), (2894, 0.0), (2895, 0.0), (2898, 0.0), (2900, 0.0), (2902, 0.0), (2903, 0.0), (2904, 0.0), (2905, 0.0), (2906, 0.0), (2907, 0.0), (2910, 0.0), (2911, 0.0), (2912, 0.0), (2913, 0.0), (2914, 0.0), (2915, 0.0), (2917, 0.0), (2918, 0.0), (2919, 0.0), (2920, 0.0), (2922, 0.0), (2923, 0.0), (2926, 0.0), (2928, 0.0), (2930, 0.0), (2932, 0.0), (2934, 0.0), (2935, 0.0), (2936, 0.0), (2937, 0.0), (2939, 0.0), (2940, 0.0), (2941, 0.0), (2942, 0.0), (2943, 0.0), (2944, 0.0), (2946, 0.0), (2947, 0.0), (2948, 0.0), (2949, 0.0), (2950, 0.0), (2951, 0.0), (2953, 0.0), (2954, 0.0), (2955, 0.0), (2956, 0.0), (2957, 0.0), (2958, 0.0), (2959, 0.0), (2960, 0.0), (2961, 0.0), (2964, 0.0), (2966, 0.0), (2967, 0.0), (2968, 0.0), (2969, 0.0), (2970, 0.0), (2971, 0.0), (2973, 0.0), (2974, 0.0), (2977, 0.0), (2978, 0.0), (2979, 0.0), (2983, 0.0), (2984, 0.0), (2986, 0.0), (2987, 0.0), (2989, 0.0), (2990, 0.0), (2991, 0.0), (2992, 0.0), (2993, 0.0), (2994, 0.0), (2995, 0.0), (2996, 0.0), (2997, 0.0), (2999, 0.0), (3002, 0.0), (3004, 0.0), (3005, 0.0), (3006, 0.0), (3007, 0.0), (3008, 0.0), (3009, 0.0), (3010, 0.0), (3012, 0.0), (3013, 0.0), (3014, 0.0), (3015, 0.0), (3016, 0.0), (3017, 0.0), (3019, 0.0), (3020, 0.0), (3021, 0.0), (3022, 0.0), (3023, 0.0), (3025, 0.0), (3026, 0.0), (3028, 0.0), (3029, 0.0), (3030, 0.0), (3031, 0.0), (3032, 0.0), (3034, 0.0), (3035, 0.0), (3036, 0.0), (3037, 0.0), (3038, 0.0), (3039, 0.0), (3040, 0.0), (3041, 0.0), (3042, 0.0), (3043, 0.0), (3044, 0.0), (3045, 0.0), (3046, 0.0), (3047, 0.0), (3048, 0.0), (3049, 0.0), (3050, 0.0), (3051, 0.0), (3052, 0.0), (3053, 0.0), (3054, 0.0), (3055, 0.0), (3057, 0.0), (3059, 0.0), (3061, 0.0), (3062, 0.0), (3064, 0.0), (3065, 0.0), (3067, 0.0), (3068, 0.0), (3069, 0.0), (3070, 0.0), (3072, 0.0), (3074, 0.0), (3075, 0.0), (3076, 0.0), (3079, 0.0), (3085, 0.0), (3087, 0.0), (3088, 0.0), (3092, 0.0), (3093, 0.0), (3094, 0.0), (3095, 0.0), (3097, 0.0), (3100, 0.0), (3101, 0.0), (3102, 0.0), (3103, 0.0), (3104, 0.0), (3105, 0.0), (3106, 0.0), (3107, 0.0), (3108, 0.0), (3113, 0.0), (3114, 0.0), (3115, 0.0), (3118, 0.0), (3119, 0.0), (3120, 0.0), (3122, 0.0), (3123, 0.0), (3124, 0.0), (3125, 0.0), (3126, 0.0), (3128, 0.0), (3129, 0.0), (3130, 0.0), (3131, 0.0), (3132, 0.0), (3134, 0.0), (3135, 0.0), (3136, 0.0), (3139, 0.0), (3140, 0.0), (3143, 0.0), (3145, 0.0), (3146, 0.0), (3148, 0.0), (3150, 0.0), (3154, 0.0), (3156, 0.0), (3157, 0.0), (3158, 0.0), (3159, 0.0), (3160, 0.0), (3161, 0.0), (3162, 0.0), (3163, 0.0), (3164, 0.0), (3165, 0.0), (3166, 0.0), (3168, 0.0), (3169, 0.0), (3170, 0.0), (3171, 0.0), (3172, 0.0), (3173, 0.0), (3174, 0.0), (3175, 0.0), (3176, 0.0), (3177, 0.0), (3178, 0.0), (3179, 0.0), (3180, 0.0), (3183, 0.0), (3184, 0.0), (3185, 0.0), (3186, 0.0), (3191, 0.0), (3192, 0.0), (3193, 0.0), (3194, 0.0), (3195, 0.0), (3196, 0.0), (3197, 0.0), (3198, 0.0), (3200, 0.0), (3201, 0.0), (3202, 0.0), (3203, 0.0), (3205, 0.0), (3206, 0.0), (3207, 0.0), (3210, 0.0), (3216, 0.0), (3217, 0.0), (3218, 0.0), (3220, 0.0), (3222, 0.0), (3223, 0.0), (3224, 0.0), (3226, 0.0), (3227, 0.0), (3228, 0.0), (3230, 0.0), (3231, 0.0), (3233, 0.0), (3235, 0.0), (3239, 0.0), (3240, 0.0), (3241, 0.0), (3243, 0.0), (3245, 0.0), (3248, 0.0), (3249, 0.0), (3250, 0.0), (3251, 0.0), (3252, 0.0), (3253, 0.0), (3255, 0.0), (3257, 0.0), (3258, 0.0), (3261, 0.0), (3262, 0.0), (3263, 0.0), (3264, 0.0), (3265, 0.0), (3266, 0.0), (3267, 0.0), (3268, 0.0), (3271, 0.0), (3273, 0.0), (3274, 0.0), (3275, 0.0), (3276, 0.0), (3277, 0.0), (3278, 0.0), (3279, 0.0), (3280, 0.0), (3281, 0.0), (3282, 0.0), (3283, 0.0), (3284, 0.0), (3285, 0.0), (3288, 0.0), (3290, 0.0), (3291, 0.0), (3292, 0.0), (3293, 0.0), (3294, 0.0), (3295, 0.0), (3296, 0.0), (3298, 0.0), (3299, 0.0), (3301, 0.0), (3302, 0.0), (3305, 0.0), (3306, 0.0), (3307, 0.0), (3308, 0.0), (3309, 0.0), (3310, 0.0), (3311, 0.0), (3313, 0.0), (3314, 0.0), (3316, 0.0), (3317, 0.0), (3319, 0.0), (3320, 0.0), (3322, 0.0), (3323, 0.0), (3324, 0.0), (3325, 0.0), (3326, 0.0), (3328, 0.0), (3329, 0.0), (3331, 0.0), (3332, 0.0), (3334, 0.0), (3336, 0.0), (3337, 0.0), (3339, 0.0), (3340, 0.0), (3341, 0.0), (3343, 0.0), (3345, 0.0), (3346, 0.0), (3347, 0.0), (3349, 0.0), (3351, 0.0), (3352, 0.0), (3353, 0.0), (3354, 0.0), (3355, 0.0), (3357, 0.0), (3358, 0.0), (3359, 0.0), (3361, 0.0), (3362, 0.0), (3363, 0.0), (3364, 0.0), (3365, 0.0), (3367, 0.0), (3368, 0.0), (3369, 0.0), (3371, 0.0), (3372, 0.0), (3373, 0.0), (3374, 0.0), (3375, 0.0), (3376, 0.0), (3377, 0.0), (3378, 0.0), (3380, 0.0), (3381, 0.0), (3382, 0.0), (3383, 0.0), (3384, 0.0), (3385, 0.0), (3391, 0.0), (3393, 0.0), (3394, 0.0), (3396, 0.0), (3398, 0.0), (3399, 0.0), (3400, 0.0), (3401, 0.0), (3402, 0.0), (3403, 0.0), (3404, 0.0), (3405, 0.0), (3406, 0.0), (3407, 0.0), (3408, 0.0), (3409, 0.0), (3410, 0.0), (3411, 0.0), (3412, 0.0), (3413, 0.0), (3414, 0.0), (3415, 0.0), (3416, 0.0), (3417, 0.0), (3419, 0.0), (3420, 0.0), (3423, 0.0), (3424, 0.0), (3425, 0.0), (3426, 0.0), (3428, 0.0), (3429, 0.0), (3430, 0.0), (3431, 0.0), (3432, 0.0), (3433, 0.0), (3434, 0.0), (3435, 0.0), (3436, 0.0), (3437, 0.0), (3438, 0.0), (3439, 0.0), (3440, 0.0), (3441, 0.0), (3442, 0.0), (3443, 0.0), (3445, 0.0), (3446, 0.0), (3447, 0.0), (3448, 0.0), (3449, 0.0), (3450, 0.0), (3451, 0.0), (3452, 0.0), (3453, 0.0), (3454, 0.0), (3455, 0.0), (3460, 0.0), (3462, 0.0), (3463, 0.0), (3465, 0.0), (3466, 0.0), (3467, 0.0), (3468, 0.0), (3469, 0.0), (3470, 0.0), (3471, 0.0), (3475, 0.0), (3478, 0.0), (3479, 0.0), (3480, 0.0), (3483, 0.0), (3486, 0.0), (3487, 0.0), (3488, 0.0), (3489, 0.0), (3490, 0.0), (3491, 0.0), (3492, 0.0), (3493, 0.0), (3494, 0.0), (3495, 0.0), (3496, 0.0), (3499, 0.0), (3500, 0.0), (3501, 0.0), (3502, 0.0), (3504, 0.0), (3508, 0.0), (3511, 0.0), (3512, 0.0), (3513, 0.0), (3514, 0.0), (3515, 0.0), (3517, 0.0), (3518, 0.0), (3519, 0.0), (3520, 0.0), (3521, 0.0), (3522, 0.0), (3523, 0.0), (3526, 0.0), (3527, 0.0), (3528, 0.0), (3529, 0.0), (3530, 0.0), (3531, 0.0), (3532, 0.0), (3534, 0.0), (3535, 0.0), (3537, 0.0), (3538, 0.0), (3541, 0.0), (3542, 0.0), (3543, 0.0), (3544, 0.0), (3547, 0.0), (3548, 0.0), (3549, 0.0), (3550, 0.0), (3551, 0.0), (3552, 0.0), (3555, 0.0), (3556, 0.0), (3558, 0.0), (3559, 0.0), (3560, 0.0), (3561, 0.0), (3565, 0.0), (3566, 0.0), (3567, 0.0), (3568, 0.0), (3569, 0.0), (3570, 0.0), (3571, 0.0), (3572, 0.0), (3573, 0.0), (3575, 0.0), (3576, 0.0), (3577, 0.0), (3578, 0.0), (3580, 0.0), (3582, 0.0), (3583, 0.0), (3584, 0.0), (3585, 0.0), (3586, 0.0), (3587, 0.0), (3588, 0.0), (3589, 0.0), (3590, 0.0), (3591, 0.0), (3592, 0.0), (3595, 0.0), (3597, 0.0), (3598, 0.0), (3599, 0.0), (3600, 0.0), (3601, 0.0), (3602, 0.0), (3603, 0.0), (3604, 0.0), (3605, 0.0), (3608, 0.0), (3609, 0.0), (3612, 0.0), (3614, 0.0), (3615, 0.0), (3617, 0.0), (3618, 0.0), (3619, 0.0), (3621, 0.0), (3622, 0.0), (3623, 0.0), (3624, 0.0), (3625, 0.0), (3627, 0.0), (3629, 0.0), (3630, 0.0), (3634, 0.0), (3635, 0.0), (3636, 0.0), (3637, 0.0), (3638, 0.0), (3639, 0.0), (3640, 0.0), (3641, 0.0), (3644, 0.0), (3645, 0.0), (3647, 0.0), (3648, 0.0), (3649, 0.0), (3651, 0.0), (3652, 0.0), (3653, 0.0), (3654, 0.0), (3657, 0.0), (3659, 0.0), (3661, 0.0), (3662, 0.0), (3663, 0.0), (3664, 0.0), (3665, 0.0), (3666, 0.0), (3668, 0.0), (3669, 0.0), (3670, 0.0), (3672, 0.0), (3675, 0.0), (3676, 0.0), (3677, 0.0), (3678, 0.0), (3679, 0.0), (3680, 0.0), (3681, 0.0), (3686, 0.0), (3687, 0.0), (3688, 0.0), (3689, 0.0), (3690, 0.0), (3691, 0.0), (3692, 0.0), (3694, 0.0), (3696, 0.0), (3697, 0.0), (3698, 0.0), (3699, 0.0), (3700, 0.0), (3702, 0.0), (3703, 0.0), (3705, 0.0), (3706, 0.0), (3707, 0.0), (3708, 0.0), (3709, 0.0), (3710, 0.0), (3711, 0.0), (3712, 0.0), (3713, 0.0), (3714, 0.0), (3715, 0.0), (3717, 0.0), (3719, 0.0), (3720, 0.0), (3721, 0.0), (3723, 0.0), (3724, 0.0), (3725, 0.0), (3727, 0.0), (3729, 0.0), (3730, 0.0), (3731, 0.0), (3733, 0.0), (3734, 0.0), (3737, 0.0), (3740, 0.0), (3741, 0.0), (3742, 0.0), (3743, 0.0), (3744, 0.0), (3745, 0.0), (3747, 0.0), (3748, 0.0), (3749, 0.0), (3754, 0.0), (3755, 0.0), (3756, 0.0), (3757, 0.0), (3758, 0.0), (3759, 0.0), (3760, 0.0), (3761, 0.0), (3762, 0.0), (3764, 0.0), (3765, 0.0), (3766, 0.0), (3767, 0.0), (3768, 0.0), (3770, 0.0), (3771, 0.0), (3772, 0.0), (3773, 0.0), (3775, 0.0), (3776, 0.0), (3777, 0.0), (3778, 0.0), (3779, 0.0), (3781, 0.0), (3782, 0.0), (3783, 0.0), (3784, 0.0), (3786, 0.0), (3787, 0.0), (3788, 0.0), (3789, 0.0), (3791, 0.0), (3793, 0.0), (3794, 0.0), (3795, 0.0), (3798, 0.0), (3799, 0.0), (3800, 0.0), (3801, 0.0), (3802, 0.0), (3804, 0.0), (3806, 0.0), (3808, 0.0), (3809, 0.0), (3810, 0.0), (3811, 0.0), (3814, 0.0), (3815, 0.0), (3818, 0.0), (3820, 0.0), (3821, 0.0), (3823, 0.0), (3824, 0.0), (3825, 0.0), (3827, 0.0), (3828, 0.0), (3829, 0.0), (3831, 0.0), (3832, 0.0), (3833, 0.0), (3834, 0.0), (3836, 0.0), (3837, 0.0), (3838, 0.0), (3839, 0.0), (3840, 0.0), (3842, 0.0), (3844, 0.0), (3845, 0.0), (3848, 0.0), (3850, 0.0), (3851, 0.0), (3852, 0.0), (3853, 0.0), (3854, 0.0), (3856, 0.0), (3857, 0.0), (3859, 0.0), (3860, 0.0), (3861, 0.0), (3862, 0.0), (3863, 0.0), (3866, 0.0), (3867, 0.0), (3869, 0.0), (3870, 0.0), (3872, 0.0), (3873, 0.0), (3874, 0.0), (3875, 0.0), (3877, 0.0), (3878, 0.0), (3879, 0.0), (3880, 0.0), (3881, 0.0), (3882, 0.0), (3883, 0.0), (3884, 0.0), (3885, 0.0), (3886, 0.0), (3887, 0.0), (3888, 0.0), (3889, 0.0), (3891, 0.0), (3895, 0.0), (3896, 0.0), (3897, 0.0), (3898, 0.0), (3899, 0.0), (3900, 0.0), (3901, 0.0), (3902, 0.0), (3903, 0.0), (3904, 0.0), (3905, 0.0), (3906, 0.0), (3907, 0.0), (3908, 0.0), (3909, 0.0), (3910, 0.0), (3911, 0.0), (3913, 0.0), (3914, 0.0), (3915, 0.0), (3917, 0.0), (3918, 0.0), (3919, 0.0), (3920, 0.0), (3921, 0.0), (3922, 0.0), (3924, 0.0), (3925, 0.0), (3927, 0.0), (3928, 0.0), (3929, 0.0), (3930, 0.0), (3931, 0.0), (3932, 0.0), (3933, 0.0), (3934, 0.0), (3935, 0.0), (3936, 0.0), (3937, 0.0), (3939, 0.0), (3940, 0.0), (3941, 0.0), (3942, 0.0), (3944, 0.0), (3945, 0.0), (3946, 0.0), (3947, 0.0), (3949, 0.0), (3950, 0.0), (3951, 0.0), (3952, 0.0), (3953, 0.0), (3954, 0.0), (3955, 0.0), (3956, 0.0), (3957, 0.0), (3958, 0.0), (3959, 0.0), (3960, 0.0), (3961, 0.0), (3962, 0.0), (3963, 0.0), (3964, 0.0), (3965, 0.0), (3968, 0.0), (3970, 0.0), (3971, 0.0), (3972, 0.0), (3973, 0.0), (3975, 0.0), (3976, 0.0), (3977, 0.0), (3978, 0.0), (3979, 0.0), (3981, 0.0), (3984, 0.0), (3986, 0.0), (3987, 0.0), (3988, 0.0), (3989, 0.0), (3992, 0.0), (3995, 0.0), (3996, 0.0), (3997, 0.0), (3998, 0.0), (3999, 0.0), (4000, 0.0), (4001, 0.0), (4002, 0.0), (4003, 0.0), (4004, 0.0), (4005, 0.0), (4006, 0.0), (4007, 0.0), (4008, 0.0), (4012, 0.0), (4013, 0.0), (4014, 0.0), (4016, 0.0), (4017, 0.0), (4018, 0.0), (4019, 0.0), (4022, 0.0), (4023, 0.0), (4024, 0.0), (4025, 0.0), (4026, 0.0), (4028, 0.0), (4029, 0.0), (4030, 0.0), (4032, 0.0), (4036, 0.0), (4038, 0.0), (4039, 0.0), (4040, 0.0), (4041, 0.0), (4042, 0.0), (4043, 0.0), (4044, 0.0), (4046, 0.0), (4047, 0.0), (4048, 0.0), (4049, 0.0), (4050, 0.0), (4051, 0.0), (4052, 0.0), (4053, 0.0), (4054, 0.0), (4055, 0.0), (4056, 0.0), (4057, 0.0), (4058, 0.0), (4060, 0.0), (4061, 0.0), (4062, 0.0), (4063, 0.0), (4064, 0.0), (4065, 0.0), (4067, 0.0), (4068, 0.0), (4069, 0.0), (4071, 0.0), (4072, 0.0), (4075, 0.0), (4076, 0.0), (4077, 0.0), (4078, 0.0), (4079, 0.0), (4080, 0.0), (4081, 0.0), (4082, 0.0), (4083, 0.0), (4084, 0.0), (4085, 0.0), (4087, 0.0), (4088, 0.0), (4090, 0.0), (4091, 0.0), (4092, 0.0), (4093, 0.0), (4094, 0.0), (4095, 0.0), (4096, 0.0), (4098, 0.0), (4100, 0.0), (4101, 0.0), (4102, 0.0), (4103, 0.0), (4104, 0.0), (4105, 0.0), (4106, 0.0), (4107, 0.0), (4108, 0.0), (4111, 0.0), (4113, 0.0), (4115, 0.0), (4116, 0.0), (4117, 0.0), (4119, 0.0), (4120, 0.0), (4121, 0.0), (4123, 0.0), (4124, 0.0), (4125, 0.0), (4126, 0.0), (4127, 0.0), (4129, 0.0), (4130, 0.0), (4131, 0.0), (4132, 0.0), (4133, 0.0), (4134, 0.0), (4138, 0.0), (4139, 0.0), (4141, 0.0), (4142, 0.0), (4143, 0.0), (4144, 0.0), (4145, 0.0), (4147, 0.0), (4148, 0.0), (4149, 0.0), (4150, 0.0), (4151, 0.0), (4153, 0.0), (4154, 0.0), (4156, 0.0), (4158, 0.0), (4161, 0.0), (4162, 0.0), (4163, 0.0), (4165, 0.0), (4166, 0.0), (4170, 0.0), (4172, 0.0), (4175, 0.0), (4176, 0.0), (4177, 0.0), (4178, 0.0), (4179, 0.0), (4180, 0.0), (4181, 0.0), (4182, 0.0), (4183, 0.0), (4184, 0.0), (4185, 0.0), (4188, 0.0), (4192, 0.0), (4193, 0.0), (4198, 0.0), (4200, 0.0), (4201, 0.0), (4202, 0.0), (4204, 0.0), (4205, 0.0), (4206, 0.0), (4208, 0.0), (4209, 0.0), (4211, 0.0), (4212, 0.0), (4213, 0.0), (4214, 0.0), (4215, 0.0), (4216, 0.0), (4217, 0.0), (4219, 0.0), (4220, 0.0), (4221, 0.0), (4222, 0.0), (4223, 0.0), (4224, 0.0), (4225, 0.0), (4226, 0.0), (4227, 0.0), (4228, 0.0), (4229, 0.0), (4230, 0.0), (4231, 0.0), (4232, 0.0), (4233, 0.0), (4234, 0.0), (4235, 0.0), (4236, 0.0), (4237, 0.0), (4238, 0.0), (4239, 0.0), (4241, 0.0), (4243, 0.0), (4244, 0.0), (4245, 0.0), (4246, 0.0), (4248, 0.0), (4249, 0.0), (4250, 0.0), (4251, 0.0), (4253, 0.0), (4254, 0.0), (4255, 0.0), (4256, 0.0), (4257, 0.0), (4260, 0.0), (4261, 0.0), (4263, 0.0), (4264, 0.0), (4265, 0.0), (4266, 0.0), (4267, 0.0), (4269, 0.0), (4272, 0.0), (4273, 0.0), (4275, 0.0), (4276, 0.0), (4278, 0.0), (4279, 0.0), (4280, 0.0), (4281, 0.0), (4282, 0.0), (4283, 0.0), (4284, 0.0), (4285, 0.0), (4288, 0.0), (4289, 0.0), (4291, 0.0), (4292, 0.0), (4293, 0.0), (4294, 0.0), (4295, 0.0), (4296, 0.0), (4297, 0.0), (4298, 0.0), (4299, 0.0), (4300, 0.0), (4301, 0.0), (4302, 0.0), (4304, 0.0), (4305, 0.0), (4306, 0.0), (4307, 0.0), (4308, 0.0), (4311, 0.0), (4312, 0.0), (4313, 0.0), (4315, 0.0), (4316, 0.0), (4317, 0.0), (4318, 0.0), (4320, 0.0), (4322, 0.0), (4323, 0.0), (4324, 0.0), (4326, 0.0), (4327, 0.0), (4328, 0.0), (4331, 0.0), (4332, 0.0), (4334, 0.0), (4335, 0.0), (4336, 0.0), (4337, 0.0), (4339, 0.0), (4343, 0.0), (4344, 0.0), (4345, 0.0), (4349, 0.0), (4350, 0.0), (4352, 0.0), (4354, 0.0), (4355, 0.0), (4357, 0.0), (4360, 0.0), (4361, 0.0), (4362, 0.0), (4363, 0.0), (4365, 0.0), (4367, 0.0), (4368, 0.0), (4369, 0.0), (4370, 0.0), (4372, 0.0), (4373, 0.0), (4375, 0.0), (4376, 0.0), (4377, 0.0), (4378, 0.0), (4379, 0.0), (4381, 0.0), (4382, 0.0), (4383, 0.0), (4384, 0.0), (4385, 0.0), (4386, 0.0), (4387, 0.0), (4389, 0.0), (4390, 0.0), (4391, 0.0), (4392, 0.0), (4393, 0.0), (4394, 0.0), (4398, 0.0), (4400, 0.0), (4401, 0.0), (4403, 0.0), (4404, 0.0), (4406, 0.0), (4408, 0.0), (4409, 0.0), (4410, 0.0), (4412, 0.0), (4413, 0.0), (4414, 0.0), (4415, 0.0), (4416, 0.0), (4417, 0.0), (4418, 0.0), (4419, 0.0), (4420, 0.0), (4421, 0.0), (4422, 0.0), (4423, 0.0), (4424, 0.0), (4425, 0.0), (4426, 0.0), (4428, 0.0), (4429, 0.0), (4430, 0.0), (4431, 0.0), (4432, 0.0), (4433, 0.0), (4435, 0.0), (4436, 0.0), (4439, 0.0), (4440, 0.0), (4441, 0.0), (4442, 0.0), (4443, 0.0), (4444, 0.0), (4446, 0.0), (4448, 0.0), (4449, 0.0), (4450, 0.0), (4451, 0.0), (4452, 0.0), (4453, 0.0), (4456, 0.0), (4458, 0.0), (4459, 0.0), (4461, 0.0), (4462, 0.0), (4463, 0.0), (4464, 0.0), (4465, 0.0), (4466, 0.0), (4467, 0.0), (4469, 0.0), (4470, 0.0), (4471, 0.0), (4474, 0.0), (4475, 0.0), (4476, 0.0), (4477, 0.0), (4479, 0.0), (4480, 0.0), (4481, 0.0), (4484, 0.0), (4485, 0.0), (4486, 0.0), (4487, 0.0), (4488, 0.0), (4489, 0.0), (4491, 0.0), (4493, 0.0), (4494, 0.0), (4495, 0.0), (4496, 0.0), (4499, 0.0), (4502, 0.0), (4504, 0.0), (4505, 0.0), (4506, 0.0), (4507, 0.0), (4508, 0.0), (4509, 0.0), (4510, 0.0), (4511, 0.0), (4512, 0.0), (4513, 0.0), (4514, 0.0), (4517, 0.0), (4518, 0.0), (4520, 0.0), (4521, 0.0), (4522, 0.0), (4523, 0.0), (4524, 0.0), (4525, 0.0), (4527, 0.0), (4528, 0.0), (4529, 0.0), (4530, 0.0), (4531, 0.0), (4532, 0.0), (4533, 0.0), (4534, 0.0), (4535, 0.0), (4537, 0.0), (4539, 0.0), (4540, 0.0), (4543, 0.0), (4544, 0.0), (4545, 0.0), (4546, 0.0), (4547, 0.0), (4548, 0.0), (4549, 0.0), (4550, 0.0), (4551, 0.0), (4552, 0.0), (4553, 0.0), (4554, 0.0), (4555, 0.0), (4556, 0.0), (4557, 0.0), (4560, 0.0), (4561, 0.0), (4562, 0.0), (4563, 0.0), (4564, 0.0), (4565, 0.0), (4566, 0.0), (4567, 0.0), (4568, 0.0), (4571, 0.0), (4572, 0.0), (4573, 0.0), (4575, 0.0), (4576, 0.0), (4577, 0.0), (4578, 0.0), (4579, 0.0), (4580, 0.0), (4581, 0.0), (4582, 0.0), (4583, 0.0), (4584, 0.0), (4585, 0.0), (4586, 0.0), (4588, 0.0), (4589, 0.0), (4591, 0.0), (4592, 0.0), (4593, 0.0), (4594, 0.0), (4595, 0.0), (4596, 0.0), (4597, 0.0), (4601, 0.0), (4602, 0.0), (4603, 0.0), (4605, 0.0), (4606, 0.0), (4607, 0.0), (4608, 0.0), (4609, 0.0), (4610, 0.0), (4611, 0.0), (4612, 0.0), (4613, 0.0), (4614, 0.0), (4615, 0.0), (4616, 0.0), (4617, 0.0), (4618, 0.0), (4619, 0.0), (4620, 0.0), (4621, 0.0), (4622, 0.0), (4623, 0.0), (4624, 0.0), (4625, 0.0), (4626, 0.0), (4627, 0.0), (4628, 0.0), (4629, 0.0), (4630, 0.0), (4631, 0.0), (4632, 0.0), (4633, 0.0), (4634, 0.0), (4635, 0.0), (4636, 0.0), (4637, 0.0), (4640, 0.0), (4641, 0.0), (4642, 0.0), (4643, 0.0), (4644, 0.0), (4645, 0.0), (4646, 0.0), (4648, 0.0), (4649, 0.0), (4650, 0.0), (4651, 0.0), (4652, 0.0), (4653, 0.0), (4654, 0.0), (4655, 0.0), (4656, 0.0), (4657, 0.0), (4658, 0.0), (4660, 0.0), (4661, 0.0), (4664, 0.0), (4665, 0.0), (4666, 0.0), (4667, 0.0), (4668, 0.0), (4669, 0.0), (4670, 0.0), (4671, 0.0), (4672, 0.0), (4673, 0.0), (4674, 0.0), (4676, 0.0), (4677, 0.0), (4678, 0.0), (4680, 0.0), (4681, 0.0), (4682, 0.0), (4683, 0.0), (4685, 0.0), (4686, 0.0), (4687, 0.0), (4688, 0.0), (4689, 0.0), (4690, 0.0), (4691, 0.0), (4692, 0.0), (4693, 0.0), (4694, 0.0), (4695, 0.0), (4696, 0.0), (4697, 0.0), (4698, 0.0), (4701, 0.0), (4702, 0.0), (4703, 0.0), (4704, 0.0), (4705, 0.0), (4706, 0.0), (4707, 0.0), (4709, 0.0), (4710, 0.0), (4712, 0.0), (4713, 0.0), (4714, 0.0), (4715, 0.0), (4716, 0.0), (4717, 0.0), (4720, 0.0), (4721, 0.0), (4722, 0.0), (4723, 0.0), (4724, 0.0), (4726, 0.0), (4727, 0.0), (4728, 0.0), (4729, 0.0), (4731, 0.0), (4732, 0.0), (4733, 0.0), (4734, 0.0), (4735, 0.0), (4736, 0.0), (4738, 0.0), (4741, 0.0), (4742, 0.0), (4743, 0.0), (4744, 0.0), (4745, 0.0), (4746, 0.0), (4747, 0.0), (4748, 0.0), (4749, 0.0), (4750, 0.0), (4751, 0.0), (4753, 0.0), (4755, 0.0)]\n"
          ]
        }
      ]
    },
    {
      "cell_type": "code",
      "source": [
        "# print the name of similar movie based on the index\n",
        "\n",
        "print('Top 30 Movies Suggested for you : \\n ')\n",
        "\n",
        "i = 1\n",
        "\n",
        "for movie in Sorted_Similar_Movies:\n",
        "  index = movie[0]\n",
        "  title_from_index = df[df.index==index]['Movie_Title'].values[0]\n",
        "  if (i<31):\n",
        "    print(i,'.',title_from_index)\n",
        "    i+=1"
      ],
      "metadata": {
        "colab": {
          "base_uri": "https://localhost:8080/"
        },
        "id": "DkMLuprDlbKv",
        "outputId": "6518b8e4-7737-47ec-db78-1982e2e00ff7"
      },
      "execution_count": null,
      "outputs": [
        {
          "output_type": "stream",
          "name": "stdout",
          "text": [
            "Top 30 Movies Suggested for you : \n",
            " \n",
            "1 . Doogal\n",
            "2 . Cats & Dogs\n",
            "3 . A Walk Among the Tombstones\n",
            "4 . Freaky Friday\n",
            "5 . Growing Up Smith\n",
            "6 . Running Forever\n",
            "7 . Flying By\n",
            "8 . The Guard\n",
            "9 . Pound of Flesh\n",
            "10 . The Other Woman\n",
            "11 . In the Bedroom\n",
            "12 . About Last Night\n",
            "13 . The Color Purple\n",
            "14 . The Italian Job\n",
            "15 . The Smurfs 2\n",
            "16 . Stung\n",
            "17 . Karachi se Lahore\n",
            "18 . Getaway\n",
            "19 . Alex & Emma\n",
            "20 . Escape from Planet Earth\n",
            "21 . The Jimmy Show\n",
            "22 . The Indian in the Cupboard\n",
            "23 . Set It Off\n",
            "24 . Nebraska\n",
            "25 . The Ridiculous 6\n",
            "26 . Death at a Funeral\n",
            "27 . Good Boy!\n",
            "28 . Confessions of a Dangerous Mind\n",
            "29 . Thomas and the Magic Railroad\n",
            "30 . The Patriot\n"
          ]
        }
      ]
    },
    {
      "cell_type": "markdown",
      "source": [
        "#**Top 10 Movie Recommendation System**\n"
      ],
      "metadata": {
        "id": "wgwkffT3tu_R"
      }
    },
    {
      "cell_type": "code",
      "source": [
        "Movie_Name = input('Enter your favourite movie name : ')\n",
        "\n",
        "list_of_all_titles = df['Movie_Title'].tolist()\n",
        "\n",
        "Find_Close_Match = difflib.get_close_matches(Movie_Name, list_of_all_titles)\n",
        "\n",
        "Close_Match = Find_Close_Match[0]\n",
        "\n",
        "Index_of_Movie = df[df.Movie_Title == Close_Match]['Movie_ID'].values[0]\n",
        "\n",
        "Recommendation_Score = list(enumerate(Similarity_Score[Index_of_Movie]))\n",
        "\n",
        "Sorted_Similar_Movies = sorted(Recommendation_Score, key = lambda x:x[1], reverse = True)\n",
        "\n",
        "print('Top 30 Movies Suggested for you : \\n ')\n",
        "\n",
        "i = 1\n",
        "\n",
        "for movie in Sorted_Similar_Movies:\n",
        "  index = movie[0]\n",
        "  title_from_index = df[df.index==index]['Movie_Title'].values[0]\n",
        "  if (i<31):\n",
        "    print(i,'.',title_from_index)\n",
        "    i+=1"
      ],
      "metadata": {
        "colab": {
          "base_uri": "https://localhost:8080/"
        },
        "id": "XFoy2eTVxKZf",
        "outputId": "95faa2ec-1971-4654-b1a4-e51c6cacc273"
      },
      "execution_count": null,
      "outputs": [
        {
          "output_type": "stream",
          "name": "stdout",
          "text": [
            "Enter your favourite movie name : Avengers\n",
            "Top 30 Movies Suggested for you : \n",
            " \n",
            "1 . Doogal\n",
            "2 . Cats & Dogs\n",
            "3 . A Walk Among the Tombstones\n",
            "4 . Freaky Friday\n",
            "5 . Growing Up Smith\n",
            "6 . Running Forever\n",
            "7 . Flying By\n",
            "8 . The Guard\n",
            "9 . Pound of Flesh\n",
            "10 . The Other Woman\n",
            "11 . In the Bedroom\n",
            "12 . About Last Night\n",
            "13 . The Color Purple\n",
            "14 . The Italian Job\n",
            "15 . The Smurfs 2\n",
            "16 . Stung\n",
            "17 . Karachi se Lahore\n",
            "18 . Getaway\n",
            "19 . Alex & Emma\n",
            "20 . Escape from Planet Earth\n",
            "21 . The Jimmy Show\n",
            "22 . The Indian in the Cupboard\n",
            "23 . Set It Off\n",
            "24 . Nebraska\n",
            "25 . The Ridiculous 6\n",
            "26 . Death at a Funeral\n",
            "27 . Good Boy!\n",
            "28 . Confessions of a Dangerous Mind\n",
            "29 . Thomas and the Magic Railroad\n",
            "30 . The Patriot\n"
          ]
        }
      ]
    }
  ]
}